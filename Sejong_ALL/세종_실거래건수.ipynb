{
 "cells": [
  {
   "cell_type": "code",
   "execution_count": 1,
   "metadata": {
    "colab": {
     "base_uri": "https://localhost:8080/"
    },
    "executionInfo": {
     "elapsed": 5043,
     "status": "ok",
     "timestamp": 1616574311115,
     "user": {
      "displayName": "사막과 바다 한가운데",
      "photoUrl": "",
      "userId": "15376273703893512404"
     },
     "user_tz": -540
    },
    "id": "cJli5GJV0FAN",
    "outputId": "c9aef077-2620-4b77-b4d9-39562e451dd1"
   },
   "outputs": [
    {
     "name": "stdout",
     "output_type": "stream",
     "text": [
      "Reading package lists... Done\n",
      "Building dependency tree       \n",
      "Reading state information... Done\n",
      "fonts-nanum is already the newest version (20170925-1).\n",
      "0 upgraded, 0 newly installed, 0 to remove and 30 not upgraded.\n",
      "/usr/share/fonts: caching, new cache contents: 0 fonts, 1 dirs\n",
      "/usr/share/fonts/truetype: caching, new cache contents: 0 fonts, 3 dirs\n",
      "/usr/share/fonts/truetype/humor-sans: caching, new cache contents: 1 fonts, 0 dirs\n",
      "/usr/share/fonts/truetype/liberation: caching, new cache contents: 16 fonts, 0 dirs\n",
      "/usr/share/fonts/truetype/nanum: caching, new cache contents: 10 fonts, 0 dirs\n",
      "/usr/local/share/fonts: caching, new cache contents: 0 fonts, 0 dirs\n",
      "/root/.local/share/fonts: skipping, no such directory\n",
      "/root/.fonts: skipping, no such directory\n",
      "/var/cache/fontconfig: cleaning cache directory\n",
      "/root/.cache/fontconfig: not cleaning non-existent cache directory\n",
      "/root/.fontconfig: not cleaning non-existent cache directory\n",
      "fc-cache: succeeded\n"
     ]
    }
   ],
   "source": [
    "!sudo apt-get install -y fonts-nanum\n",
    "!sudo fc-cache -fv\n",
    "!rm ~/.cache/matplotlib -rf"
   ]
  },
  {
   "cell_type": "code",
   "execution_count": 2,
   "metadata": {
    "executionInfo": {
     "elapsed": 5548,
     "status": "ok",
     "timestamp": 1616574311631,
     "user": {
      "displayName": "사막과 바다 한가운데",
      "photoUrl": "",
      "userId": "15376273703893512404"
     },
     "user_tz": -540
    },
    "id": "xxGJJVmy1bSj"
   },
   "outputs": [],
   "source": [
    "import pandas as pd\n",
    "import numpy as np\n",
    "import matplotlib.pyplot as plt\n",
    "import seaborn as sns"
   ]
  },
  {
   "cell_type": "code",
   "execution_count": 3,
   "metadata": {
    "executionInfo": {
     "elapsed": 5544,
     "status": "ok",
     "timestamp": 1616574311632,
     "user": {
      "displayName": "사막과 바다 한가운데",
      "photoUrl": "",
      "userId": "15376273703893512404"
     },
     "user_tz": -540
    },
    "id": "2X6jVFzu1lhp"
   },
   "outputs": [],
   "source": [
    "plt.rc('font', family='NanumBarunGothic') "
   ]
  },
  {
   "cell_type": "code",
   "execution_count": 4,
   "metadata": {
    "executionInfo": {
     "elapsed": 5541,
     "status": "ok",
     "timestamp": 1616574311633,
     "user": {
      "displayName": "사막과 바다 한가운데",
      "photoUrl": "",
      "userId": "15376273703893512404"
     },
     "user_tz": -540
    },
    "id": "uK6M08cf1nKQ"
   },
   "outputs": [],
   "source": [
    "df1 = pd.read_csv(\"/content/drive/MyDrive/Colab Notebooks/세종시/3.세종시_아파트(매매)_실거래가.csv\")\n",
    "df2 = pd.read_csv(\"/content/drive/MyDrive/Colab Notebooks/세종시/4.세종시_연립다세대(매매)_실거래가.csv\")\n",
    "df3 = pd.read_csv(\"/content/drive/MyDrive/Colab Notebooks/세종시/5.세종시_단독다가구(매매)_실거래가.csv\")\n",
    "df4 = pd.read_csv(\"/content/drive/MyDrive/Colab Notebooks/세종시/6.세종시_오피스텔(매매)_실거래가.csv\")"
   ]
  },
  {
   "cell_type": "markdown",
   "metadata": {
    "id": "ohy8qNjs9lro"
   },
   "source": [
    "### 1. 세종시_아파트(매매)_실거래가"
   ]
  },
  {
   "cell_type": "code",
   "execution_count": 5,
   "metadata": {
    "colab": {
     "base_uri": "https://localhost:8080/"
    },
    "executionInfo": {
     "elapsed": 5537,
     "status": "ok",
     "timestamp": 1616574311634,
     "user": {
      "displayName": "사막과 바다 한가운데",
      "photoUrl": "",
      "userId": "15376273703893512404"
     },
     "user_tz": -540
    },
    "id": "_383qpot5-4j",
    "outputId": "db37739f-543d-4186-ed78-76c0e77b0f9f"
   },
   "outputs": [
    {
     "name": "stdout",
     "output_type": "stream",
     "text": [
      "<class 'pandas.core.frame.DataFrame'>\n",
      "RangeIndex: 23597 entries, 0 to 23596\n",
      "Data columns (total 11 columns):\n",
      " #   Column    Non-Null Count  Dtype  \n",
      "---  ------    --------------  -----  \n",
      " 0   계약년월      23597 non-null  int64  \n",
      " 1   계약일       23597 non-null  int64  \n",
      " 2   시군구       23597 non-null  object \n",
      " 3   본번        23597 non-null  object \n",
      " 4   부번        23597 non-null  int64  \n",
      " 5   단지명       23597 non-null  object \n",
      " 6   전용면적(㎡)   23597 non-null  float64\n",
      " 7   거래금액(만원)  23597 non-null  object \n",
      " 8   층         23597 non-null  int64  \n",
      " 9   건축년도      23597 non-null  int64  \n",
      " 10  해제사유발생일   537 non-null    float64\n",
      "dtypes: float64(2), int64(5), object(4)\n",
      "memory usage: 2.0+ MB\n"
     ]
    }
   ],
   "source": [
    "df1.info()"
   ]
  },
  {
   "cell_type": "code",
   "execution_count": 6,
   "metadata": {
    "colab": {
     "base_uri": "https://localhost:8080/",
     "height": 415
    },
    "executionInfo": {
     "elapsed": 5532,
     "status": "ok",
     "timestamp": 1616574311634,
     "user": {
      "displayName": "사막과 바다 한가운데",
      "photoUrl": "",
      "userId": "15376273703893512404"
     },
     "user_tz": -540
    },
    "id": "ECGj-dSD2PZY",
    "outputId": "b1aee702-3b7c-4e23-db3f-55c1ed0554a5"
   },
   "outputs": [
    {
     "data": {
      "text/html": [
       "<div>\n",
       "<style scoped>\n",
       "    .dataframe tbody tr th:only-of-type {\n",
       "        vertical-align: middle;\n",
       "    }\n",
       "\n",
       "    .dataframe tbody tr th {\n",
       "        vertical-align: top;\n",
       "    }\n",
       "\n",
       "    .dataframe thead th {\n",
       "        text-align: right;\n",
       "    }\n",
       "</style>\n",
       "<table border=\"1\" class=\"dataframe\">\n",
       "  <thead>\n",
       "    <tr style=\"text-align: right;\">\n",
       "      <th></th>\n",
       "      <th>계약년월</th>\n",
       "    </tr>\n",
       "  </thead>\n",
       "  <tbody>\n",
       "    <tr>\n",
       "      <th>0</th>\n",
       "      <td>201701</td>\n",
       "    </tr>\n",
       "    <tr>\n",
       "      <th>1</th>\n",
       "      <td>201701</td>\n",
       "    </tr>\n",
       "    <tr>\n",
       "      <th>2</th>\n",
       "      <td>201701</td>\n",
       "    </tr>\n",
       "    <tr>\n",
       "      <th>3</th>\n",
       "      <td>201701</td>\n",
       "    </tr>\n",
       "    <tr>\n",
       "      <th>4</th>\n",
       "      <td>201701</td>\n",
       "    </tr>\n",
       "    <tr>\n",
       "      <th>...</th>\n",
       "      <td>...</td>\n",
       "    </tr>\n",
       "    <tr>\n",
       "      <th>23592</th>\n",
       "      <td>202012</td>\n",
       "    </tr>\n",
       "    <tr>\n",
       "      <th>23593</th>\n",
       "      <td>202012</td>\n",
       "    </tr>\n",
       "    <tr>\n",
       "      <th>23594</th>\n",
       "      <td>202012</td>\n",
       "    </tr>\n",
       "    <tr>\n",
       "      <th>23595</th>\n",
       "      <td>202012</td>\n",
       "    </tr>\n",
       "    <tr>\n",
       "      <th>23596</th>\n",
       "      <td>202012</td>\n",
       "    </tr>\n",
       "  </tbody>\n",
       "</table>\n",
       "<p>23597 rows × 1 columns</p>\n",
       "</div>"
      ],
      "text/plain": [
       "         계약년월\n",
       "0      201701\n",
       "1      201701\n",
       "2      201701\n",
       "3      201701\n",
       "4      201701\n",
       "...       ...\n",
       "23592  202012\n",
       "23593  202012\n",
       "23594  202012\n",
       "23595  202012\n",
       "23596  202012\n",
       "\n",
       "[23597 rows x 1 columns]"
      ]
     },
     "execution_count": 6,
     "metadata": {
      "tags": []
     },
     "output_type": "execute_result"
    }
   ],
   "source": [
    "df1_date = df1[['계약년월']]\n",
    "df1_date"
   ]
  },
  {
   "cell_type": "code",
   "execution_count": 7,
   "metadata": {
    "executionInfo": {
     "elapsed": 5528,
     "status": "ok",
     "timestamp": 1616574311635,
     "user": {
      "displayName": "사막과 바다 한가운데",
      "photoUrl": "",
      "userId": "15376273703893512404"
     },
     "user_tz": -540
    },
    "id": "YYtJ6nsJ3ZRa"
   },
   "outputs": [],
   "source": [
    "df1_2017 = df1_date[df1_date['계약년월']<201800].count()\n",
    "df1_2018 = df1_date[df1_date['계약년월']<201900].count()\n",
    "df1_2019 = df1_date[df1_date['계약년월']<202000].count()\n",
    "df1_2020 = df1_date[df1_date['계약년월']<202100].count()"
   ]
  },
  {
   "cell_type": "markdown",
   "metadata": {
    "id": "H6pNwPgO9u4C"
   },
   "source": [
    "### 2. 세종시_연립다세대(매매)_실거래가"
   ]
  },
  {
   "cell_type": "code",
   "execution_count": 8,
   "metadata": {
    "colab": {
     "base_uri": "https://localhost:8080/"
    },
    "executionInfo": {
     "elapsed": 5522,
     "status": "ok",
     "timestamp": 1616574311635,
     "user": {
      "displayName": "사막과 바다 한가운데",
      "photoUrl": "",
      "userId": "15376273703893512404"
     },
     "user_tz": -540
    },
    "id": "wy6Th5si-D4T",
    "outputId": "42b82ca4-44d6-43cf-ab6e-a675ab9c5719"
   },
   "outputs": [
    {
     "name": "stdout",
     "output_type": "stream",
     "text": [
      "<class 'pandas.core.frame.DataFrame'>\n",
      "RangeIndex: 621 entries, 0 to 620\n",
      "Data columns (total 12 columns):\n",
      " #   Column    Non-Null Count  Dtype  \n",
      "---  ------    --------------  -----  \n",
      " 0   계약년월      621 non-null    int64  \n",
      " 1   계약일       621 non-null    int64  \n",
      " 2   시군구       621 non-null    object \n",
      " 3   본번        621 non-null    int64  \n",
      " 4   부번        621 non-null    int64  \n",
      " 5   건물명       621 non-null    object \n",
      " 6   전용면적(㎡)   621 non-null    float64\n",
      " 7   대지권면적(㎡)  621 non-null    float64\n",
      " 8   거래금액(만원)  621 non-null    object \n",
      " 9   층         621 non-null    int64  \n",
      " 10  건축년도      621 non-null    int64  \n",
      " 11  해제사유발생일   8 non-null      float64\n",
      "dtypes: float64(3), int64(6), object(3)\n",
      "memory usage: 58.3+ KB\n"
     ]
    }
   ],
   "source": [
    "df2.info()"
   ]
  },
  {
   "cell_type": "code",
   "execution_count": 9,
   "metadata": {
    "colab": {
     "base_uri": "https://localhost:8080/",
     "height": 415
    },
    "executionInfo": {
     "elapsed": 5518,
     "status": "ok",
     "timestamp": 1616574311636,
     "user": {
      "displayName": "사막과 바다 한가운데",
      "photoUrl": "",
      "userId": "15376273703893512404"
     },
     "user_tz": -540
    },
    "id": "fRl0xJTZ-PNw",
    "outputId": "4ba5349c-8926-4b05-d1bc-9cee4d11ca97"
   },
   "outputs": [
    {
     "data": {
      "text/html": [
       "<div>\n",
       "<style scoped>\n",
       "    .dataframe tbody tr th:only-of-type {\n",
       "        vertical-align: middle;\n",
       "    }\n",
       "\n",
       "    .dataframe tbody tr th {\n",
       "        vertical-align: top;\n",
       "    }\n",
       "\n",
       "    .dataframe thead th {\n",
       "        text-align: right;\n",
       "    }\n",
       "</style>\n",
       "<table border=\"1\" class=\"dataframe\">\n",
       "  <thead>\n",
       "    <tr style=\"text-align: right;\">\n",
       "      <th></th>\n",
       "      <th>계약년월</th>\n",
       "    </tr>\n",
       "  </thead>\n",
       "  <tbody>\n",
       "    <tr>\n",
       "      <th>0</th>\n",
       "      <td>201701</td>\n",
       "    </tr>\n",
       "    <tr>\n",
       "      <th>1</th>\n",
       "      <td>201701</td>\n",
       "    </tr>\n",
       "    <tr>\n",
       "      <th>2</th>\n",
       "      <td>201701</td>\n",
       "    </tr>\n",
       "    <tr>\n",
       "      <th>3</th>\n",
       "      <td>201701</td>\n",
       "    </tr>\n",
       "    <tr>\n",
       "      <th>4</th>\n",
       "      <td>201702</td>\n",
       "    </tr>\n",
       "    <tr>\n",
       "      <th>...</th>\n",
       "      <td>...</td>\n",
       "    </tr>\n",
       "    <tr>\n",
       "      <th>616</th>\n",
       "      <td>202012</td>\n",
       "    </tr>\n",
       "    <tr>\n",
       "      <th>617</th>\n",
       "      <td>202012</td>\n",
       "    </tr>\n",
       "    <tr>\n",
       "      <th>618</th>\n",
       "      <td>202012</td>\n",
       "    </tr>\n",
       "    <tr>\n",
       "      <th>619</th>\n",
       "      <td>202012</td>\n",
       "    </tr>\n",
       "    <tr>\n",
       "      <th>620</th>\n",
       "      <td>202012</td>\n",
       "    </tr>\n",
       "  </tbody>\n",
       "</table>\n",
       "<p>621 rows × 1 columns</p>\n",
       "</div>"
      ],
      "text/plain": [
       "       계약년월\n",
       "0    201701\n",
       "1    201701\n",
       "2    201701\n",
       "3    201701\n",
       "4    201702\n",
       "..      ...\n",
       "616  202012\n",
       "617  202012\n",
       "618  202012\n",
       "619  202012\n",
       "620  202012\n",
       "\n",
       "[621 rows x 1 columns]"
      ]
     },
     "execution_count": 9,
     "metadata": {
      "tags": []
     },
     "output_type": "execute_result"
    }
   ],
   "source": [
    "df2_date = df2[['계약년월']]\n",
    "df2_date"
   ]
  },
  {
   "cell_type": "code",
   "execution_count": 10,
   "metadata": {
    "executionInfo": {
     "elapsed": 5513,
     "status": "ok",
     "timestamp": 1616574311636,
     "user": {
      "displayName": "사막과 바다 한가운데",
      "photoUrl": "",
      "userId": "15376273703893512404"
     },
     "user_tz": -540
    },
    "id": "PRzVOSxO-VHS"
   },
   "outputs": [],
   "source": [
    "df2_2017 = df2_date[df2_date['계약년월']<201800].count()\n",
    "df2_2018 = df2_date[df2_date['계약년월']<201900].count()\n",
    "df2_2019 = df2_date[df2_date['계약년월']<202000].count()\n",
    "df2_2020 = df2_date[df2_date['계약년월']<202100].count()"
   ]
  },
  {
   "cell_type": "markdown",
   "metadata": {
    "id": "EkHF0S6192dU"
   },
   "source": [
    "### 3. 세종시_단독다가구(매매)_실거래가"
   ]
  },
  {
   "cell_type": "code",
   "execution_count": 11,
   "metadata": {
    "colab": {
     "base_uri": "https://localhost:8080/"
    },
    "executionInfo": {
     "elapsed": 6194,
     "status": "ok",
     "timestamp": 1616574312321,
     "user": {
      "displayName": "사막과 바다 한가운데",
      "photoUrl": "",
      "userId": "15376273703893512404"
     },
     "user_tz": -540
    },
    "id": "_vuuIMU2-eIp",
    "outputId": "6dccb811-5cd9-43a7-caad-26cdad3757b0"
   },
   "outputs": [
    {
     "name": "stdout",
     "output_type": "stream",
     "text": [
      "<class 'pandas.core.frame.DataFrame'>\n",
      "RangeIndex: 1144 entries, 0 to 1143\n",
      "Data columns (total 10 columns):\n",
      " #   Column    Non-Null Count  Dtype  \n",
      "---  ------    --------------  -----  \n",
      " 0   계약년월      1144 non-null   int64  \n",
      " 1   계약일       1144 non-null   int64  \n",
      " 2   시군구       1144 non-null   object \n",
      " 3   주택유형      1144 non-null   object \n",
      " 4   도로조건      1144 non-null   object \n",
      " 5   연면적(㎡)    1144 non-null   float64\n",
      " 6   대지면적(㎡)   1144 non-null   float64\n",
      " 7   거래금액(만원)  1144 non-null   object \n",
      " 8   건축년도      1135 non-null   float64\n",
      " 9   해제사유발생일   41 non-null     float64\n",
      "dtypes: float64(4), int64(2), object(4)\n",
      "memory usage: 89.5+ KB\n"
     ]
    }
   ],
   "source": [
    "df3.info()"
   ]
  },
  {
   "cell_type": "code",
   "execution_count": 12,
   "metadata": {
    "colab": {
     "base_uri": "https://localhost:8080/",
     "height": 415
    },
    "executionInfo": {
     "elapsed": 6190,
     "status": "ok",
     "timestamp": 1616574312322,
     "user": {
      "displayName": "사막과 바다 한가운데",
      "photoUrl": "",
      "userId": "15376273703893512404"
     },
     "user_tz": -540
    },
    "id": "Uf4QDOn5-fkF",
    "outputId": "aa1f165a-36f7-4dc3-c479-a9a452dca183"
   },
   "outputs": [
    {
     "data": {
      "text/html": [
       "<div>\n",
       "<style scoped>\n",
       "    .dataframe tbody tr th:only-of-type {\n",
       "        vertical-align: middle;\n",
       "    }\n",
       "\n",
       "    .dataframe tbody tr th {\n",
       "        vertical-align: top;\n",
       "    }\n",
       "\n",
       "    .dataframe thead th {\n",
       "        text-align: right;\n",
       "    }\n",
       "</style>\n",
       "<table border=\"1\" class=\"dataframe\">\n",
       "  <thead>\n",
       "    <tr style=\"text-align: right;\">\n",
       "      <th></th>\n",
       "      <th>계약년월</th>\n",
       "    </tr>\n",
       "  </thead>\n",
       "  <tbody>\n",
       "    <tr>\n",
       "      <th>0</th>\n",
       "      <td>201701</td>\n",
       "    </tr>\n",
       "    <tr>\n",
       "      <th>1</th>\n",
       "      <td>201701</td>\n",
       "    </tr>\n",
       "    <tr>\n",
       "      <th>2</th>\n",
       "      <td>201701</td>\n",
       "    </tr>\n",
       "    <tr>\n",
       "      <th>3</th>\n",
       "      <td>201701</td>\n",
       "    </tr>\n",
       "    <tr>\n",
       "      <th>4</th>\n",
       "      <td>201701</td>\n",
       "    </tr>\n",
       "    <tr>\n",
       "      <th>...</th>\n",
       "      <td>...</td>\n",
       "    </tr>\n",
       "    <tr>\n",
       "      <th>1139</th>\n",
       "      <td>202012</td>\n",
       "    </tr>\n",
       "    <tr>\n",
       "      <th>1140</th>\n",
       "      <td>202012</td>\n",
       "    </tr>\n",
       "    <tr>\n",
       "      <th>1141</th>\n",
       "      <td>202012</td>\n",
       "    </tr>\n",
       "    <tr>\n",
       "      <th>1142</th>\n",
       "      <td>202012</td>\n",
       "    </tr>\n",
       "    <tr>\n",
       "      <th>1143</th>\n",
       "      <td>202012</td>\n",
       "    </tr>\n",
       "  </tbody>\n",
       "</table>\n",
       "<p>1144 rows × 1 columns</p>\n",
       "</div>"
      ],
      "text/plain": [
       "        계약년월\n",
       "0     201701\n",
       "1     201701\n",
       "2     201701\n",
       "3     201701\n",
       "4     201701\n",
       "...      ...\n",
       "1139  202012\n",
       "1140  202012\n",
       "1141  202012\n",
       "1142  202012\n",
       "1143  202012\n",
       "\n",
       "[1144 rows x 1 columns]"
      ]
     },
     "execution_count": 12,
     "metadata": {
      "tags": []
     },
     "output_type": "execute_result"
    }
   ],
   "source": [
    "df3_date = df3[['계약년월']]\n",
    "df3_date"
   ]
  },
  {
   "cell_type": "code",
   "execution_count": 13,
   "metadata": {
    "executionInfo": {
     "elapsed": 6186,
     "status": "ok",
     "timestamp": 1616574312323,
     "user": {
      "displayName": "사막과 바다 한가운데",
      "photoUrl": "",
      "userId": "15376273703893512404"
     },
     "user_tz": -540
    },
    "id": "L9bVpMZ2-lXP"
   },
   "outputs": [],
   "source": [
    "df3_2017 = df3_date[df3_date['계약년월']<201800].count()\n",
    "df3_2018 = df3_date[df3_date['계약년월']<201900].count()\n",
    "df3_2019 = df3_date[df3_date['계약년월']<202000].count()\n",
    "df3_2020 = df3_date[df3_date['계약년월']<202100].count()"
   ]
  },
  {
   "cell_type": "markdown",
   "metadata": {
    "id": "MSNFfvn092WH"
   },
   "source": [
    "### 4. 세종시_오피스텔(매매)_실거래가"
   ]
  },
  {
   "cell_type": "code",
   "execution_count": 14,
   "metadata": {
    "colab": {
     "base_uri": "https://localhost:8080/"
    },
    "executionInfo": {
     "elapsed": 6182,
     "status": "ok",
     "timestamp": 1616574312323,
     "user": {
      "displayName": "사막과 바다 한가운데",
      "photoUrl": "",
      "userId": "15376273703893512404"
     },
     "user_tz": -540
    },
    "id": "1XcrMz5x-wWM",
    "outputId": "249623ab-60d4-4743-a765-fc982f834458"
   },
   "outputs": [
    {
     "name": "stdout",
     "output_type": "stream",
     "text": [
      "<class 'pandas.core.frame.DataFrame'>\n",
      "RangeIndex: 345 entries, 0 to 344\n",
      "Data columns (total 11 columns):\n",
      " #   Column    Non-Null Count  Dtype  \n",
      "---  ------    --------------  -----  \n",
      " 0   계약년월      345 non-null    int64  \n",
      " 1   계약일       345 non-null    int64  \n",
      " 2   시군구       345 non-null    object \n",
      " 3   본번        345 non-null    int64  \n",
      " 4   부번        345 non-null    int64  \n",
      " 5   단지명       345 non-null    object \n",
      " 6   전용면적(㎡)   345 non-null    float64\n",
      " 7   거래금액(만원)  345 non-null    object \n",
      " 8   층         345 non-null    int64  \n",
      " 9   건축년도      345 non-null    int64  \n",
      " 10  해제사유발생일   9 non-null      float64\n",
      "dtypes: float64(2), int64(6), object(3)\n",
      "memory usage: 29.8+ KB\n"
     ]
    }
   ],
   "source": [
    "df4.info()"
   ]
  },
  {
   "cell_type": "code",
   "execution_count": 15,
   "metadata": {
    "colab": {
     "base_uri": "https://localhost:8080/",
     "height": 415
    },
    "executionInfo": {
     "elapsed": 6178,
     "status": "ok",
     "timestamp": 1616574312324,
     "user": {
      "displayName": "사막과 바다 한가운데",
      "photoUrl": "",
      "userId": "15376273703893512404"
     },
     "user_tz": -540
    },
    "id": "SmjumZ6_-yLx",
    "outputId": "963ef1b3-68de-4320-e917-217c694e45bd"
   },
   "outputs": [
    {
     "data": {
      "text/html": [
       "<div>\n",
       "<style scoped>\n",
       "    .dataframe tbody tr th:only-of-type {\n",
       "        vertical-align: middle;\n",
       "    }\n",
       "\n",
       "    .dataframe tbody tr th {\n",
       "        vertical-align: top;\n",
       "    }\n",
       "\n",
       "    .dataframe thead th {\n",
       "        text-align: right;\n",
       "    }\n",
       "</style>\n",
       "<table border=\"1\" class=\"dataframe\">\n",
       "  <thead>\n",
       "    <tr style=\"text-align: right;\">\n",
       "      <th></th>\n",
       "      <th>계약년월</th>\n",
       "    </tr>\n",
       "  </thead>\n",
       "  <tbody>\n",
       "    <tr>\n",
       "      <th>0</th>\n",
       "      <td>201701</td>\n",
       "    </tr>\n",
       "    <tr>\n",
       "      <th>1</th>\n",
       "      <td>201701</td>\n",
       "    </tr>\n",
       "    <tr>\n",
       "      <th>2</th>\n",
       "      <td>201702</td>\n",
       "    </tr>\n",
       "    <tr>\n",
       "      <th>3</th>\n",
       "      <td>201702</td>\n",
       "    </tr>\n",
       "    <tr>\n",
       "      <th>4</th>\n",
       "      <td>201702</td>\n",
       "    </tr>\n",
       "    <tr>\n",
       "      <th>...</th>\n",
       "      <td>...</td>\n",
       "    </tr>\n",
       "    <tr>\n",
       "      <th>340</th>\n",
       "      <td>202012</td>\n",
       "    </tr>\n",
       "    <tr>\n",
       "      <th>341</th>\n",
       "      <td>202012</td>\n",
       "    </tr>\n",
       "    <tr>\n",
       "      <th>342</th>\n",
       "      <td>202012</td>\n",
       "    </tr>\n",
       "    <tr>\n",
       "      <th>343</th>\n",
       "      <td>202012</td>\n",
       "    </tr>\n",
       "    <tr>\n",
       "      <th>344</th>\n",
       "      <td>202012</td>\n",
       "    </tr>\n",
       "  </tbody>\n",
       "</table>\n",
       "<p>345 rows × 1 columns</p>\n",
       "</div>"
      ],
      "text/plain": [
       "       계약년월\n",
       "0    201701\n",
       "1    201701\n",
       "2    201702\n",
       "3    201702\n",
       "4    201702\n",
       "..      ...\n",
       "340  202012\n",
       "341  202012\n",
       "342  202012\n",
       "343  202012\n",
       "344  202012\n",
       "\n",
       "[345 rows x 1 columns]"
      ]
     },
     "execution_count": 15,
     "metadata": {
      "tags": []
     },
     "output_type": "execute_result"
    }
   ],
   "source": [
    "df4_date = df4[['계약년월']]\n",
    "df4_date"
   ]
  },
  {
   "cell_type": "code",
   "execution_count": 16,
   "metadata": {
    "executionInfo": {
     "elapsed": 6173,
     "status": "ok",
     "timestamp": 1616574312324,
     "user": {
      "displayName": "사막과 바다 한가운데",
      "photoUrl": "",
      "userId": "15376273703893512404"
     },
     "user_tz": -540
    },
    "id": "KEPLoNJo-8z-"
   },
   "outputs": [],
   "source": [
    "df4_2017 = df4_date[df4_date['계약년월']<201800].count()\n",
    "df4_2018 = df4_date[df4_date['계약년월']<201900].count()\n",
    "df4_2019 = df4_date[df4_date['계약년월']<202000].count()\n",
    "df4_2020 = df4_date[df4_date['계약년월']<202100].count()"
   ]
  },
  {
   "cell_type": "markdown",
   "metadata": {
    "id": "P7RHFQw4_E3J"
   },
   "source": [
    "### 그래프"
   ]
  },
  {
   "cell_type": "markdown",
   "metadata": {
    "id": "taVXfwZm_mEq"
   },
   "source": [
    "- 세종시_아파트(매매)_실거래가  \n",
    "- 세종시_연립다세대(매매)_실거래가\n",
    "- 세종시_단독다가구(매매)_실거래가\n",
    "- 세종시_오피스텔(매매)_실거래가"
   ]
  },
  {
   "cell_type": "code",
   "execution_count": 93,
   "metadata": {
    "colab": {
     "base_uri": "https://localhost:8080/",
     "height": 410
    },
    "executionInfo": {
     "elapsed": 779,
     "status": "ok",
     "timestamp": 1616576798583,
     "user": {
      "displayName": "사막과 바다 한가운데",
      "photoUrl": "",
      "userId": "15376273703893512404"
     },
     "user_tz": -540
    },
    "id": "8teLpdYSdlEm",
    "outputId": "cca459c7-d1dd-4b43-d6a6-552606157948"
   },
   "outputs": [
    {
     "data": {
      "image/png": "[encoded data removed]",
      "text/plain": [
       "<Figure size 576x432 with 1 Axes>"
      ]
     },
     "metadata": {
      "needs_background": "light",
      "tags": []
     },
     "output_type": "display_data"
    }
   ],
   "source": [
    "val = [df1_2017.values[0], df1_2018.values[0], df1_2019.values[0], df1_2020.values[0]]\n",
    "y = np.arange(4)\n",
    "years = ['2017년', '2018년', '2019년', '2020년']\n",
    "colors = ['#CC3D3D', '#FAED7D', '#BCE55C', '#6B66FF']\n",
    "fig = plt.figure(figsize=(8,6))\n",
    "plt.bar(y, val, color=colors, width=0.7)\n",
    "plt.xlabel('년도')\n",
    "plt.ylabel('거래 수(개)')\n",
    "plt.title('아파트(매매) 실거래',fontsize=20) ## 타이틀 설정\n",
    "plt.ylim(0, 30000)\n",
    "plt.xticks(y, years)\n",
    "\n",
    "plt.show()"
   ]
  },
  {
   "cell_type": "code",
   "execution_count": 97,
   "metadata": {
    "colab": {
     "base_uri": "https://localhost:8080/",
     "height": 410
    },
    "executionInfo": {
     "elapsed": 1010,
     "status": "ok",
     "timestamp": 1616576844257,
     "user": {
      "displayName": "사막과 바다 한가운데",
      "photoUrl": "",
      "userId": "15376273703893512404"
     },
     "user_tz": -540
    },
    "id": "jGDEZkB3e63l",
    "outputId": "3768a4c0-36f4-4309-841a-fca9db2b4e7e"
   },
   "outputs": [
    {
     "data": {
      "image/png": "[encoded data removed]",
      "text/plain": [
       "<Figure size 576x432 with 1 Axes>"
      ]
     },
     "metadata": {
      "needs_background": "light",
      "tags": []
     },
     "output_type": "display_data"
    }
   ],
   "source": [
    "val = [df2_2017.values[0], df2_2018.values[0], df2_2019.values[0], df2_2020.values[0]]\n",
    "y = np.arange(4)\n",
    "years = ['2017년', '2018년', '2019년', '2020년']\n",
    "colors = ['#CC3D3D', '#FAED7D', '#BCE55C', '#6B66FF']\n",
    "fig = plt.figure(figsize=(8,6))\n",
    "plt.bar(y, val, color=colors, width=0.7)\n",
    "plt.xlabel('년도')\n",
    "plt.ylabel('거래 수(개)')\n",
    "plt.title('연립다세대(매매) 실거래',fontsize=20) ## 타이틀 설정\n",
    "plt.ylim(0, 800)\n",
    "plt.xticks(y, years)\n",
    "\n",
    "plt.show()"
   ]
  },
  {
   "cell_type": "code",
   "execution_count": 101,
   "metadata": {
    "colab": {
     "base_uri": "https://localhost:8080/",
     "height": 410
    },
    "executionInfo": {
     "elapsed": 1342,
     "status": "ok",
     "timestamp": 1616576911333,
     "user": {
      "displayName": "사막과 바다 한가운데",
      "photoUrl": "",
      "userId": "15376273703893512404"
     },
     "user_tz": -540
    },
    "id": "mGVTpYuCfV-J",
    "outputId": "ed459241-49c0-41a3-acb5-c800eedc03a3"
   },
   "outputs": [
    {
     "data": {
      "image/png": "[encoded data removed]",
      "text/plain": [
       "<Figure size 576x432 with 1 Axes>"
      ]
     },
     "metadata": {
      "needs_background": "light",
      "tags": []
     },
     "output_type": "display_data"
    }
   ],
   "source": [
    "val = [df3_2017.values[0], df3_2018.values[0], df3_2019.values[0], df3_2020.values[0]]\n",
    "y = np.arange(4)\n",
    "years = ['2017년', '2018년', '2019년', '2020년']\n",
    "colors = ['#CC3D3D', '#FAED7D', '#BCE55C', '#6B66FF']\n",
    "fig = plt.figure(figsize=(8,6))\n",
    "plt.bar(y, val, color=colors, width=0.7)\n",
    "plt.xlabel('년도')\n",
    "plt.ylabel('거래 수(개)')\n",
    "plt.title('단독다가구(매매) 실거래',fontsize=20) ## 타이틀 설정\n",
    "plt.ylim(0, 1200)\n",
    "plt.xticks(y, years)\n",
    "\n",
    "plt.show()"
   ]
  },
  {
   "cell_type": "code",
   "execution_count": 103,
   "metadata": {
    "colab": {
     "base_uri": "https://localhost:8080/",
     "height": 410
    },
    "executionInfo": {
     "elapsed": 800,
     "status": "ok",
     "timestamp": 1616576958942,
     "user": {
      "displayName": "사막과 바다 한가운데",
      "photoUrl": "",
      "userId": "15376273703893512404"
     },
     "user_tz": -540
    },
    "id": "RDDDqktufjf-",
    "outputId": "64827f0e-49b5-4dbe-8f50-abe7f3d94e33"
   },
   "outputs": [
    {
     "data": {
      "image/png": "[encoded data removed]",
      "text/plain": [
       "<Figure size 576x432 with 1 Axes>"
      ]
     },
     "metadata": {
      "needs_background": "light",
      "tags": []
     },
     "output_type": "display_data"
    }
   ],
   "source": [
    "val = [df4_2017.values[0], df4_2018.values[0], df4_2019.values[0], df4_2020.values[0]]\n",
    "y = np.arange(4)\n",
    "years = ['2017년', '2018년', '2019년', '2020년']\n",
    "colors = ['#CC3D3D', '#FAED7D', '#BCE55C', '#6B66FF']\n",
    "fig = plt.figure(figsize=(8,6))\n",
    "plt.bar(y, val, color=colors, width=0.7)\n",
    "plt.xlabel('년도')\n",
    "plt.ylabel('거래 수(개)')\n",
    "plt.title('오피스텔(매매) 실거래',fontsize=20) ## 타이틀 설정\n",
    "plt.ylim(0, 400)\n",
    "plt.xticks(y, years)\n",
    "\n",
    "plt.show()"
   ]
  }
 ],
 "metadata": {
  "colab": {
   "authorship_tag": "ABX9TyN1bn17c8wPI5lgZZ+Kdkav",
   "collapsed_sections": [],
   "mount_file_id": "17M9Fy0hYzCLFr3P5nvgOsE8Ah_-R9kFY",
   "name": "세종_실거래건수.ipynb",
   "provenance": []
  },
  "kernelspec": {
   "display_name": "Python 3",
   "language": "python",
   "name": "python3"
  },
  "language_info": {
   "codemirror_mode": {
    "name": "ipython",
    "version": 3
   },
   "file_extension": ".py",
   "mimetype": "text/x-python",
   "name": "python",
   "nbconvert_exporter": "python",
   "pygments_lexer": "ipython3",
   "version": "3.8.5"
  }
 },
 "nbformat": 4,
 "nbformat_minor": 1
}
