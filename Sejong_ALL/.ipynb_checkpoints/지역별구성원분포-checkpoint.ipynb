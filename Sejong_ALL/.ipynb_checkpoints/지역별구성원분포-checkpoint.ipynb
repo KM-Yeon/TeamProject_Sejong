{
 "cells": [
  {
   "cell_type": "code",
   "execution_count": 17,
   "metadata": {
    "colab": {
     "base_uri": "https://localhost:8080/"
    },
    "executionInfo": {
     "elapsed": 11669,
     "status": "ok",
     "timestamp": 1616593228850,
     "user": {
      "displayName": "니나노뭉",
      "photoUrl": "https://lh3.googleusercontent.com/a-/AOh14Gg-AMs6FybPdQDvfqrMik9Ee4kiDchwSNGskUwkzA=s64",
      "userId": "02453649485945443504"
     },
     "user_tz": -540
    },
    "id": "eX0eUv_mduAh",
    "outputId": "e4547ffa-e63d-4455-df06-d547a9c6750e"
   },
   "outputs": [
    {
     "name": "stdout",
     "output_type": "stream",
     "text": [
      "Reading package lists... Done\n",
      "Building dependency tree       \n",
      "Reading state information... Done\n",
      "The following NEW packages will be installed:\n",
      "  fonts-nanum\n",
      "0 upgraded, 1 newly installed, 0 to remove and 30 not upgraded.\n",
      "Need to get 9,604 kB of archives.\n",
      "After this operation, 29.5 MB of additional disk space will be used.\n",
      "Get:1 http://archive.ubuntu.com/ubuntu bionic/universe amd64 fonts-nanum all 20170925-1 [9,604 kB]\n",
      "Fetched 9,604 kB in 1s (6,923 kB/s)\n",
      "debconf: unable to initialize frontend: Dialog\n",
      "debconf: (No usable dialog-like program is installed, so the dialog based frontend cannot be used. at /usr/share/perl5/Debconf/FrontEnd/Dialog.pm line 76, <> line 1.)\n",
      "debconf: falling back to frontend: Readline\n",
      "debconf: unable to initialize frontend: Readline\n",
      "debconf: (This frontend requires a controlling tty.)\n",
      "debconf: falling back to frontend: Teletype\n",
      "dpkg-preconfigure: unable to re-open stdin: \n",
      "Selecting previously unselected package fonts-nanum.\n",
      "(Reading database ... 160980 files and directories currently installed.)\n",
      "Preparing to unpack .../fonts-nanum_20170925-1_all.deb ...\n",
      "Unpacking fonts-nanum (20170925-1) ...\n",
      "Setting up fonts-nanum (20170925-1) ...\n",
      "Processing triggers for fontconfig (2.12.6-0ubuntu2) ...\n",
      "/usr/share/fonts: caching, new cache contents: 0 fonts, 1 dirs\n",
      "/usr/share/fonts/truetype: caching, new cache contents: 0 fonts, 3 dirs\n",
      "/usr/share/fonts/truetype/humor-sans: caching, new cache contents: 1 fonts, 0 dirs\n",
      "/usr/share/fonts/truetype/liberation: caching, new cache contents: 16 fonts, 0 dirs\n",
      "/usr/share/fonts/truetype/nanum: caching, new cache contents: 10 fonts, 0 dirs\n",
      "/usr/local/share/fonts: caching, new cache contents: 0 fonts, 0 dirs\n",
      "/root/.local/share/fonts: skipping, no such directory\n",
      "/root/.fonts: skipping, no such directory\n",
      "/var/cache/fontconfig: cleaning cache directory\n",
      "/root/.cache/fontconfig: not cleaning non-existent cache directory\n",
      "/root/.fontconfig: not cleaning non-existent cache directory\n",
      "fc-cache: succeeded\n"
     ]
    }
   ],
   "source": [
    "!sudo apt-get install -y fonts-nanum\n",
    "!sudo fc-cache -fv\n",
    "!rm ~/.cache/matplotlib -rf"
   ]
  },
  {
   "cell_type": "code",
   "execution_count": 6,
   "metadata": {
    "executionInfo": {
     "elapsed": 756,
     "status": "ok",
     "timestamp": 1616593267167,
     "user": {
      "displayName": "니나노뭉",
      "photoUrl": "https://lh3.googleusercontent.com/a-/AOh14Gg-AMs6FybPdQDvfqrMik9Ee4kiDchwSNGskUwkzA=s64",
      "userId": "02453649485945443504"
     },
     "user_tz": -540
    },
    "id": "BC2JNwgoa1o_"
   },
   "outputs": [],
   "source": [
    "import pandas as pd\n",
    "import matplotlib.pyplot as plt\n",
    "import seaborn as sns\n",
    "sns.set()\n",
    "\n",
    "%matplotlib inline"
   ]
  },
  {
   "cell_type": "code",
   "execution_count": 7,
   "metadata": {
    "executionInfo": {
     "elapsed": 489,
     "status": "ok",
     "timestamp": 1616593268280,
     "user": {
      "displayName": "니나노뭉",
      "photoUrl": "https://lh3.googleusercontent.com/a-/AOh14Gg-AMs6FybPdQDvfqrMik9Ee4kiDchwSNGskUwkzA=s64",
      "userId": "02453649485945443504"
     },
     "user_tz": -540
    },
    "id": "0iMqb7uCdxrT"
   },
   "outputs": [],
   "source": [
    "plt.rc('font', family='NanumBarunGothic')"
   ]
  },
  {
   "cell_type": "code",
   "execution_count": 8,
   "metadata": {
    "colab": {
     "base_uri": "https://localhost:8080/",
     "height": 204
    },
    "executionInfo": {
     "elapsed": 763,
     "status": "ok",
     "timestamp": 1616593270742,
     "user": {
      "displayName": "니나노뭉",
      "photoUrl": "https://lh3.googleusercontent.com/a-/AOh14Gg-AMs6FybPdQDvfqrMik9Ee4kiDchwSNGskUwkzA=s64",
      "userId": "02453649485945443504"
     },
     "user_tz": -540
    },
    "id": "OIjUeVBOa2au",
    "outputId": "530bf500-1fe6-4210-f225-c5d3ba65849c"
   },
   "outputs": [
    {
     "data": {
      "text/html": [
       "<div>\n",
       "<style scoped>\n",
       "    .dataframe tbody tr th:only-of-type {\n",
       "        vertical-align: middle;\n",
       "    }\n",
       "\n",
       "    .dataframe tbody tr th {\n",
       "        vertical-align: top;\n",
       "    }\n",
       "\n",
       "    .dataframe thead th {\n",
       "        text-align: right;\n",
       "    }\n",
       "</style>\n",
       "<table border=\"1\" class=\"dataframe\">\n",
       "  <thead>\n",
       "    <tr style=\"text-align: right;\">\n",
       "      <th></th>\n",
       "      <th>읍면동</th>\n",
       "      <th>계</th>\n",
       "      <th>1인</th>\n",
       "      <th>2인</th>\n",
       "      <th>3인</th>\n",
       "      <th>4인</th>\n",
       "      <th>5인</th>\n",
       "      <th>6인</th>\n",
       "      <th>7인</th>\n",
       "      <th>8인</th>\n",
       "      <th>9인</th>\n",
       "      <th>10인이상</th>\n",
       "    </tr>\n",
       "  </thead>\n",
       "  <tbody>\n",
       "    <tr>\n",
       "      <th>0</th>\n",
       "      <td>조치원읍</td>\n",
       "      <td>19472</td>\n",
       "      <td>8295</td>\n",
       "      <td>4165</td>\n",
       "      <td>3042</td>\n",
       "      <td>2729</td>\n",
       "      <td>944</td>\n",
       "      <td>220</td>\n",
       "      <td>63</td>\n",
       "      <td>9</td>\n",
       "      <td>4</td>\n",
       "      <td>1</td>\n",
       "    </tr>\n",
       "    <tr>\n",
       "      <th>1</th>\n",
       "      <td>연 기 면</td>\n",
       "      <td>1445</td>\n",
       "      <td>855</td>\n",
       "      <td>299</td>\n",
       "      <td>133</td>\n",
       "      <td>101</td>\n",
       "      <td>36</td>\n",
       "      <td>11</td>\n",
       "      <td>7</td>\n",
       "      <td>1</td>\n",
       "      <td>2</td>\n",
       "      <td>0</td>\n",
       "    </tr>\n",
       "    <tr>\n",
       "      <th>2</th>\n",
       "      <td>연 동 면</td>\n",
       "      <td>1680</td>\n",
       "      <td>834</td>\n",
       "      <td>461</td>\n",
       "      <td>206</td>\n",
       "      <td>114</td>\n",
       "      <td>44</td>\n",
       "      <td>14</td>\n",
       "      <td>5</td>\n",
       "      <td>1</td>\n",
       "      <td>0</td>\n",
       "      <td>1</td>\n",
       "    </tr>\n",
       "    <tr>\n",
       "      <th>3</th>\n",
       "      <td>부 강 면</td>\n",
       "      <td>3249</td>\n",
       "      <td>1603</td>\n",
       "      <td>821</td>\n",
       "      <td>420</td>\n",
       "      <td>273</td>\n",
       "      <td>93</td>\n",
       "      <td>34</td>\n",
       "      <td>3</td>\n",
       "      <td>0</td>\n",
       "      <td>0</td>\n",
       "      <td>2</td>\n",
       "    </tr>\n",
       "    <tr>\n",
       "      <th>4</th>\n",
       "      <td>금 남 면</td>\n",
       "      <td>4509</td>\n",
       "      <td>2128</td>\n",
       "      <td>1283</td>\n",
       "      <td>589</td>\n",
       "      <td>328</td>\n",
       "      <td>122</td>\n",
       "      <td>41</td>\n",
       "      <td>12</td>\n",
       "      <td>6</td>\n",
       "      <td>0</td>\n",
       "      <td>0</td>\n",
       "    </tr>\n",
       "  </tbody>\n",
       "</table>\n",
       "</div>"
      ],
      "text/plain": [
       "     읍면동      계    1인    2인    3인    4인   5인   6인  7인  8인  9인  10인이상\n",
       "0   조치원읍  19472  8295  4165  3042  2729  944  220  63   9   4      1\n",
       "1  연 기 면   1445   855   299   133   101   36   11   7   1   2      0\n",
       "2  연 동 면   1680   834   461   206   114   44   14   5   1   0      1\n",
       "3  부 강 면   3249  1603   821   420   273   93   34   3   0   0      2\n",
       "4  금 남 면   4509  2128  1283   589   328  122   41  12   6   0      0"
      ]
     },
     "execution_count": 8,
     "metadata": {
      "tags": []
     },
     "output_type": "execute_result"
    }
   ],
   "source": [
    "df = pd.read_csv('/content/drive/MyDrive/Colab Notebooks/세종시/data/28.세종시_지역별_세대원수별_세대수.csv')\n",
    "df.head()"
   ]
  },
  {
   "cell_type": "code",
   "execution_count": 9,
   "metadata": {
    "executionInfo": {
     "elapsed": 749,
     "status": "ok",
     "timestamp": 1616593271363,
     "user": {
      "displayName": "니나노뭉",
      "photoUrl": "https://lh3.googleusercontent.com/a-/AOh14Gg-AMs6FybPdQDvfqrMik9Ee4kiDchwSNGskUwkzA=s64",
      "userId": "02453649485945443504"
     },
     "user_tz": -540
    },
    "id": "leyOrYKAbPyl"
   },
   "outputs": [],
   "source": [
    "df['2~3인'] = df['2인'] + df['3인']\n",
    "df['4인이상'] = df['4인'] + df['5인'] + df['6인'] + df['7인'] + df['8인'] + df['9인'] + df['10인이상']"
   ]
  },
  {
   "cell_type": "code",
   "execution_count": 10,
   "metadata": {
    "executionInfo": {
     "elapsed": 517,
     "status": "ok",
     "timestamp": 1616593271851,
     "user": {
      "displayName": "니나노뭉",
      "photoUrl": "https://lh3.googleusercontent.com/a-/AOh14Gg-AMs6FybPdQDvfqrMik9Ee4kiDchwSNGskUwkzA=s64",
      "userId": "02453649485945443504"
     },
     "user_tz": -540
    },
    "id": "xiMpXdoHcJIn"
   },
   "outputs": [],
   "source": [
    "df = df.set_index(['읍면동'])"
   ]
  },
  {
   "cell_type": "code",
   "execution_count": 11,
   "metadata": {
    "executionInfo": {
     "elapsed": 755,
     "status": "ok",
     "timestamp": 1616593272740,
     "user": {
      "displayName": "니나노뭉",
      "photoUrl": "https://lh3.googleusercontent.com/a-/AOh14Gg-AMs6FybPdQDvfqrMik9Ee4kiDchwSNGskUwkzA=s64",
      "userId": "02453649485945443504"
     },
     "user_tz": -540
    },
    "id": "5uDG3bJEcKFY"
   },
   "outputs": [],
   "source": [
    "df = df[['1인','2~3인','4인이상']]"
   ]
  },
  {
   "cell_type": "code",
   "execution_count": 12,
   "metadata": {
    "colab": {
     "base_uri": "https://localhost:8080/",
     "height": 669
    },
    "executionInfo": {
     "elapsed": 862,
     "status": "ok",
     "timestamp": 1616593273767,
     "user": {
      "displayName": "니나노뭉",
      "photoUrl": "https://lh3.googleusercontent.com/a-/AOh14Gg-AMs6FybPdQDvfqrMik9Ee4kiDchwSNGskUwkzA=s64",
      "userId": "02453649485945443504"
     },
     "user_tz": -540
    },
    "id": "l6058Tqtcb_h",
    "outputId": "328c6a84-8d2d-43d8-a468-dab504545a55"
   },
   "outputs": [
    {
     "data": {
      "text/html": [
       "<div>\n",
       "<style scoped>\n",
       "    .dataframe tbody tr th:only-of-type {\n",
       "        vertical-align: middle;\n",
       "    }\n",
       "\n",
       "    .dataframe tbody tr th {\n",
       "        vertical-align: top;\n",
       "    }\n",
       "\n",
       "    .dataframe thead th {\n",
       "        text-align: right;\n",
       "    }\n",
       "</style>\n",
       "<table border=\"1\" class=\"dataframe\">\n",
       "  <thead>\n",
       "    <tr style=\"text-align: right;\">\n",
       "      <th></th>\n",
       "      <th>1인</th>\n",
       "      <th>2~3인</th>\n",
       "      <th>4인이상</th>\n",
       "    </tr>\n",
       "    <tr>\n",
       "      <th>읍면동</th>\n",
       "      <th></th>\n",
       "      <th></th>\n",
       "      <th></th>\n",
       "    </tr>\n",
       "  </thead>\n",
       "  <tbody>\n",
       "    <tr>\n",
       "      <th>조치원읍</th>\n",
       "      <td>8295</td>\n",
       "      <td>7207</td>\n",
       "      <td>3970</td>\n",
       "    </tr>\n",
       "    <tr>\n",
       "      <th>연 기 면</th>\n",
       "      <td>855</td>\n",
       "      <td>432</td>\n",
       "      <td>158</td>\n",
       "    </tr>\n",
       "    <tr>\n",
       "      <th>연 동 면</th>\n",
       "      <td>834</td>\n",
       "      <td>667</td>\n",
       "      <td>179</td>\n",
       "    </tr>\n",
       "    <tr>\n",
       "      <th>부 강 면</th>\n",
       "      <td>1603</td>\n",
       "      <td>1241</td>\n",
       "      <td>405</td>\n",
       "    </tr>\n",
       "    <tr>\n",
       "      <th>금 남 면</th>\n",
       "      <td>2128</td>\n",
       "      <td>1872</td>\n",
       "      <td>509</td>\n",
       "    </tr>\n",
       "    <tr>\n",
       "      <th>장 군 면</th>\n",
       "      <td>1956</td>\n",
       "      <td>1138</td>\n",
       "      <td>359</td>\n",
       "    </tr>\n",
       "    <tr>\n",
       "      <th>연 서 면</th>\n",
       "      <td>1863</td>\n",
       "      <td>1506</td>\n",
       "      <td>465</td>\n",
       "    </tr>\n",
       "    <tr>\n",
       "      <th>전 의 면</th>\n",
       "      <td>1551</td>\n",
       "      <td>1105</td>\n",
       "      <td>389</td>\n",
       "    </tr>\n",
       "    <tr>\n",
       "      <th>전 동 면</th>\n",
       "      <td>1224</td>\n",
       "      <td>704</td>\n",
       "      <td>202</td>\n",
       "    </tr>\n",
       "    <tr>\n",
       "      <th>소 정 면</th>\n",
       "      <td>565</td>\n",
       "      <td>468</td>\n",
       "      <td>198</td>\n",
       "    </tr>\n",
       "    <tr>\n",
       "      <th>한 솔 동</th>\n",
       "      <td>1069</td>\n",
       "      <td>2602</td>\n",
       "      <td>2662</td>\n",
       "    </tr>\n",
       "    <tr>\n",
       "      <th>새 롬 동</th>\n",
       "      <td>6019</td>\n",
       "      <td>8263</td>\n",
       "      <td>6213</td>\n",
       "    </tr>\n",
       "    <tr>\n",
       "      <th>도 담 동</th>\n",
       "      <td>5002</td>\n",
       "      <td>4500</td>\n",
       "      <td>3634</td>\n",
       "    </tr>\n",
       "    <tr>\n",
       "      <th>아 름 동</th>\n",
       "      <td>1058</td>\n",
       "      <td>3120</td>\n",
       "      <td>3382</td>\n",
       "    </tr>\n",
       "    <tr>\n",
       "      <th>종 촌 동</th>\n",
       "      <td>2525</td>\n",
       "      <td>4469</td>\n",
       "      <td>3697</td>\n",
       "    </tr>\n",
       "    <tr>\n",
       "      <th>고 운 동</th>\n",
       "      <td>2025</td>\n",
       "      <td>5180</td>\n",
       "      <td>4231</td>\n",
       "    </tr>\n",
       "    <tr>\n",
       "      <th>소 담 동</th>\n",
       "      <td>2754</td>\n",
       "      <td>4865</td>\n",
       "      <td>3354</td>\n",
       "    </tr>\n",
       "    <tr>\n",
       "      <th>보 람 동</th>\n",
       "      <td>1536</td>\n",
       "      <td>2907</td>\n",
       "      <td>2367</td>\n",
       "    </tr>\n",
       "    <tr>\n",
       "      <th>대 평 동</th>\n",
       "      <td>857</td>\n",
       "      <td>1909</td>\n",
       "      <td>1160</td>\n",
       "    </tr>\n",
       "  </tbody>\n",
       "</table>\n",
       "</div>"
      ],
      "text/plain": [
       "         1인  2~3인  4인이상\n",
       "읍면동                    \n",
       "조치원읍   8295  7207  3970\n",
       "연 기 면   855   432   158\n",
       "연 동 면   834   667   179\n",
       "부 강 면  1603  1241   405\n",
       "금 남 면  2128  1872   509\n",
       "장 군 면  1956  1138   359\n",
       "연 서 면  1863  1506   465\n",
       "전 의 면  1551  1105   389\n",
       "전 동 면  1224   704   202\n",
       "소 정 면   565   468   198\n",
       "한 솔 동  1069  2602  2662\n",
       "새 롬 동  6019  8263  6213\n",
       "도 담 동  5002  4500  3634\n",
       "아 름 동  1058  3120  3382\n",
       "종 촌 동  2525  4469  3697\n",
       "고 운 동  2025  5180  4231\n",
       "소 담 동  2754  4865  3354\n",
       "보 람 동  1536  2907  2367\n",
       "대 평 동   857  1909  1160"
      ]
     },
     "execution_count": 12,
     "metadata": {
      "tags": []
     },
     "output_type": "execute_result"
    }
   ],
   "source": [
    "df"
   ]
  },
  {
   "cell_type": "code",
   "execution_count": 15,
   "metadata": {
    "colab": {
     "base_uri": "https://localhost:8080/",
     "height": 422
    },
    "executionInfo": {
     "elapsed": 1436,
     "status": "ok",
     "timestamp": 1616593462068,
     "user": {
      "displayName": "니나노뭉",
      "photoUrl": "https://lh3.googleusercontent.com/a-/AOh14Gg-AMs6FybPdQDvfqrMik9Ee4kiDchwSNGskUwkzA=s64",
      "userId": "02453649485945443504"
     },
     "user_tz": -540
    },
    "id": "LmlxktKYcxxi",
    "outputId": "0e02726d-f006-47f6-fd09-1e8f82dba91a"
   },
   "outputs": [
    {
     "data": {
      "image/png": "[encoded data removed]",
      "text/plain": [
       "<Figure size 864x432 with 1 Axes>"
      ]
     },
     "metadata": {
      "needs_background": "light",
      "tags": []
     },
     "output_type": "display_data"
    }
   ],
   "source": [
    "plt.rcParams[\"figure.figsize\"] = [12,6]\n",
    "df.plot(kind='bar')\n",
    "plt.rc('font', family='NanumBarunGothic') "
   ]
  },
  {
   "cell_type": "code",
   "execution_count": null,
   "metadata": {
    "id": "4Kgtt-MqePoZ"
   },
   "outputs": [],
   "source": [
    ""
   ]
  }
 ],
 "metadata": {
  "colab": {
   "authorship_tag": "ABX9TyMTfRsDWI946Lw4OIh5jTLb",
   "collapsed_sections": [],
   "mount_file_id": "1rBykmZQLXc2D4tm1yON35XD-1A2WXmbP",
   "name": "지역별구성원분포.ipynb",
   "provenance": []
  },
  "kernelspec": {
   "display_name": "Python 3",
   "name": "python3"
  },
  "language_info": {
   "name": "python"
  }
 },
 "nbformat": 4,
 "nbformat_minor": 0
}
