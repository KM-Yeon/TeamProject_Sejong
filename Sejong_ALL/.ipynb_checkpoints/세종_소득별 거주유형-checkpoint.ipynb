{
 "cells": [
  {
   "cell_type": "code",
   "execution_count": 1,
   "metadata": {
    "colab": {
     "base_uri": "https://localhost:8080/"
    },
    "executionInfo": {
     "elapsed": 5099,
     "status": "ok",
     "timestamp": 1616424080398,
     "user": {
      "displayName": "사막과 바다 한가운데",
      "photoUrl": "",
      "userId": "15376273703893512404"
     },
     "user_tz": -540
    },
    "id": "Fv7XZkQre7fK",
    "outputId": "570e7ae4-24d3-4fdf-8673-d58cb578adc9"
   },
   "outputs": [
    {
     "name": "stdout",
     "output_type": "stream",
     "text": [
      "Reading package lists... Done\n",
      "Building dependency tree       \n",
      "Reading state information... Done\n",
      "fonts-nanum is already the newest version (20170925-1).\n",
      "0 upgraded, 0 newly installed, 0 to remove and 30 not upgraded.\n",
      "/usr/share/fonts: caching, new cache contents: 0 fonts, 1 dirs\n",
      "/usr/share/fonts/truetype: caching, new cache contents: 0 fonts, 3 dirs\n",
      "/usr/share/fonts/truetype/humor-sans: caching, new cache contents: 1 fonts, 0 dirs\n",
      "/usr/share/fonts/truetype/liberation: caching, new cache contents: 16 fonts, 0 dirs\n",
      "/usr/share/fonts/truetype/nanum: caching, new cache contents: 10 fonts, 0 dirs\n",
      "/usr/local/share/fonts: caching, new cache contents: 0 fonts, 0 dirs\n",
      "/root/.local/share/fonts: skipping, no such directory\n",
      "/root/.fonts: skipping, no such directory\n",
      "/var/cache/fontconfig: cleaning cache directory\n",
      "/root/.cache/fontconfig: not cleaning non-existent cache directory\n",
      "/root/.fontconfig: not cleaning non-existent cache directory\n",
      "fc-cache: succeeded\n"
     ]
    }
   ],
   "source": [
    "!sudo apt-get install -y fonts-nanum\n",
    "!sudo fc-cache -fv\n",
    "!rm ~/.cache/matplotlib -rf"
   ]
  },
  {
   "cell_type": "code",
   "execution_count": 2,
   "metadata": {
    "executionInfo": {
     "elapsed": 853,
     "status": "ok",
     "timestamp": 1616424082037,
     "user": {
      "displayName": "사막과 바다 한가운데",
      "photoUrl": "",
      "userId": "15376273703893512404"
     },
     "user_tz": -540
    },
    "id": "UesDtAkYLxBh"
   },
   "outputs": [],
   "source": [
    "import pandas as pd\n",
    "import numpy as np\n",
    "import matplotlib.pyplot as plt\n",
    "import seaborn as sns"
   ]
  },
  {
   "cell_type": "code",
   "execution_count": 3,
   "metadata": {
    "executionInfo": {
     "elapsed": 606,
     "status": "ok",
     "timestamp": 1616424083229,
     "user": {
      "displayName": "사막과 바다 한가운데",
      "photoUrl": "",
      "userId": "15376273703893512404"
     },
     "user_tz": -540
    },
    "id": "4yfpwjBDfgWQ"
   },
   "outputs": [],
   "source": [
    "plt.rc('font', family='NanumBarunGothic') "
   ]
  },
  {
   "cell_type": "code",
   "execution_count": 4,
   "metadata": {
    "executionInfo": {
     "elapsed": 1075,
     "status": "ok",
     "timestamp": 1616424085657,
     "user": {
      "displayName": "사막과 바다 한가운데",
      "photoUrl": "",
      "userId": "15376273703893512404"
     },
     "user_tz": -540
    },
    "id": "nyc4Ow03PDh8"
   },
   "outputs": [],
   "source": [
    "df = pd.read_csv(\"/content/drive/MyDrive/Colab Notebooks/세종시/27.세종시_월평균_가구소득.csv\")"
   ]
  },
  {
   "cell_type": "code",
   "execution_count": 5,
   "metadata": {
    "colab": {
     "base_uri": "https://localhost:8080/"
    },
    "executionInfo": {
     "elapsed": 1117,
     "status": "ok",
     "timestamp": 1616424087803,
     "user": {
      "displayName": "사막과 바다 한가운데",
      "photoUrl": "",
      "userId": "15376273703893512404"
     },
     "user_tz": -540
    },
    "id": "TPU_8YNOW9HM",
    "outputId": "9088b11c-60ab-4c00-f2a9-c0c0034f7221"
   },
   "outputs": [
    {
     "name": "stdout",
     "output_type": "stream",
     "text": [
      "<class 'pandas.core.frame.DataFrame'>\n",
      "RangeIndex: 33 entries, 0 to 32\n",
      "Data columns (total 10 columns):\n",
      " #   Column        Non-Null Count  Dtype  \n",
      "---  ------        --------------  -----  \n",
      " 0   중분류           33 non-null     object \n",
      " 1   소분류           33 non-null     object \n",
      " 2   100만원 미만      33 non-null     object \n",
      " 3   100~200만원 미만  33 non-null     float64\n",
      " 4   200~300만원 미만  33 non-null     float64\n",
      " 5   300~400만원 미만  33 non-null     float64\n",
      " 6   400~500만원 미만  33 non-null     float64\n",
      " 7   500~600만원 미만  33 non-null     object \n",
      " 8   600~700만원 미만  33 non-null     object \n",
      " 9   700만원 이상      33 non-null     object \n",
      "dtypes: float64(4), object(6)\n",
      "memory usage: 2.7+ KB\n"
     ]
    }
   ],
   "source": [
    "df.info()"
   ]
  },
  {
   "cell_type": "code",
   "execution_count": 6,
   "metadata": {
    "executionInfo": {
     "elapsed": 1086,
     "status": "ok",
     "timestamp": 1616424091450,
     "user": {
      "displayName": "사막과 바다 한가운데",
      "photoUrl": "",
      "userId": "15376273703893512404"
     },
     "user_tz": -540
    },
    "id": "IAmV5MDpx-1L"
   },
   "outputs": [],
   "source": [
    "df = df.replace('-', '0')\n",
    "df[['100만원 미만', '500~600만원 미만', '600~700만원 미만', '700만원 이상']] = df[['100만원 미만', '500~600만원 미만', '600~700만원 미만', '700만원 이상']].apply(pd.to_numeric)"
   ]
  },
  {
   "cell_type": "code",
   "execution_count": 9,
   "metadata": {
    "executionInfo": {
     "elapsed": 1098,
     "status": "ok",
     "timestamp": 1616424112374,
     "user": {
      "displayName": "사막과 바다 한가운데",
      "photoUrl": "",
      "userId": "15376273703893512404"
     },
     "user_tz": -540
    },
    "id": "XSel3YFwXNmM"
   },
   "outputs": [],
   "source": [
    "df['빈곤층'] = df['100만원 미만'] + df['100~200만원 미만']\n",
    "df['중산층'] = df['200~300만원 미만'] + df['300~400만원 미만'] + df['400~500만원 미만'] + df['500~600만원 미만'] + df['600~700만원 미만']\n",
    "df['고소득층'] = df['700만원 이상']"
   ]
  },
  {
   "cell_type": "code",
   "execution_count": 10,
   "metadata": {
    "colab": {
     "base_uri": "https://localhost:8080/"
    },
    "executionInfo": {
     "elapsed": 886,
     "status": "ok",
     "timestamp": 1616424114009,
     "user": {
      "displayName": "사막과 바다 한가운데",
      "photoUrl": "",
      "userId": "15376273703893512404"
     },
     "user_tz": -540
    },
    "id": "Ps-9F08iYpjm",
    "outputId": "4979416a-6888-4dab-fd4a-f77afdc0d088"
   },
   "outputs": [
    {
     "name": "stdout",
     "output_type": "stream",
     "text": [
      "<class 'pandas.core.frame.DataFrame'>\n",
      "RangeIndex: 33 entries, 0 to 32\n",
      "Data columns (total 13 columns):\n",
      " #   Column        Non-Null Count  Dtype  \n",
      "---  ------        --------------  -----  \n",
      " 0   중분류           33 non-null     object \n",
      " 1   소분류           33 non-null     object \n",
      " 2   100만원 미만      33 non-null     float64\n",
      " 3   100~200만원 미만  33 non-null     float64\n",
      " 4   200~300만원 미만  33 non-null     float64\n",
      " 5   300~400만원 미만  33 non-null     float64\n",
      " 6   400~500만원 미만  33 non-null     float64\n",
      " 7   500~600만원 미만  33 non-null     float64\n",
      " 8   600~700만원 미만  33 non-null     float64\n",
      " 9   700만원 이상      33 non-null     float64\n",
      " 10  빈곤층           33 non-null     float64\n",
      " 11  중산층           33 non-null     float64\n",
      " 12  고소득층          33 non-null     float64\n",
      "dtypes: float64(11), object(2)\n",
      "memory usage: 3.5+ KB\n"
     ]
    }
   ],
   "source": [
    "df.info()"
   ]
  },
  {
   "cell_type": "code",
   "execution_count": 11,
   "metadata": {
    "colab": {
     "base_uri": "https://localhost:8080/",
     "height": 1000
    },
    "executionInfo": {
     "elapsed": 646,
     "status": "ok",
     "timestamp": 1616424115405,
     "user": {
      "displayName": "사막과 바다 한가운데",
      "photoUrl": "",
      "userId": "15376273703893512404"
     },
     "user_tz": -540
    },
    "id": "Ka5z_wvcPd_A",
    "outputId": "32da66c9-9f08-4c8e-e666-b24cd1ebedcb"
   },
   "outputs": [
    {
     "data": {
      "text/html": [
       "<div>\n",
       "<style scoped>\n",
       "    .dataframe tbody tr th:only-of-type {\n",
       "        vertical-align: middle;\n",
       "    }\n",
       "\n",
       "    .dataframe tbody tr th {\n",
       "        vertical-align: top;\n",
       "    }\n",
       "\n",
       "    .dataframe thead th {\n",
       "        text-align: right;\n",
       "    }\n",
       "</style>\n",
       "<table border=\"1\" class=\"dataframe\">\n",
       "  <thead>\n",
       "    <tr style=\"text-align: right;\">\n",
       "      <th></th>\n",
       "      <th>소분류</th>\n",
       "      <th>빈곤층</th>\n",
       "      <th>중산층</th>\n",
       "      <th>고소득층</th>\n",
       "    </tr>\n",
       "  </thead>\n",
       "  <tbody>\n",
       "    <tr>\n",
       "      <th>0</th>\n",
       "      <td>소계</td>\n",
       "      <td>21.9</td>\n",
       "      <td>68.0</td>\n",
       "      <td>10.1</td>\n",
       "    </tr>\n",
       "    <tr>\n",
       "      <th>1</th>\n",
       "      <td>조치원읍</td>\n",
       "      <td>44.3</td>\n",
       "      <td>52.4</td>\n",
       "      <td>3.3</td>\n",
       "    </tr>\n",
       "    <tr>\n",
       "      <th>2</th>\n",
       "      <td>면지역</td>\n",
       "      <td>43.7</td>\n",
       "      <td>53.3</td>\n",
       "      <td>3.1</td>\n",
       "    </tr>\n",
       "    <tr>\n",
       "      <th>3</th>\n",
       "      <td>동지역</td>\n",
       "      <td>8.0</td>\n",
       "      <td>77.5</td>\n",
       "      <td>14.4</td>\n",
       "    </tr>\n",
       "    <tr>\n",
       "      <th>4</th>\n",
       "      <td>남자</td>\n",
       "      <td>15.8</td>\n",
       "      <td>72.4</td>\n",
       "      <td>11.9</td>\n",
       "    </tr>\n",
       "    <tr>\n",
       "      <th>5</th>\n",
       "      <td>여자</td>\n",
       "      <td>40.3</td>\n",
       "      <td>55.1</td>\n",
       "      <td>4.7</td>\n",
       "    </tr>\n",
       "    <tr>\n",
       "      <th>6</th>\n",
       "      <td>출범이전</td>\n",
       "      <td>41.6</td>\n",
       "      <td>54.6</td>\n",
       "      <td>3.8</td>\n",
       "    </tr>\n",
       "    <tr>\n",
       "      <th>7</th>\n",
       "      <td>출범이후</td>\n",
       "      <td>14.0</td>\n",
       "      <td>73.3</td>\n",
       "      <td>12.6</td>\n",
       "    </tr>\n",
       "    <tr>\n",
       "      <th>8</th>\n",
       "      <td>13~19세</td>\n",
       "      <td>100.0</td>\n",
       "      <td>0.0</td>\n",
       "      <td>0.0</td>\n",
       "    </tr>\n",
       "    <tr>\n",
       "      <th>9</th>\n",
       "      <td>20~29세</td>\n",
       "      <td>46.9</td>\n",
       "      <td>48.9</td>\n",
       "      <td>4.2</td>\n",
       "    </tr>\n",
       "    <tr>\n",
       "      <th>10</th>\n",
       "      <td>30~39세</td>\n",
       "      <td>3.9</td>\n",
       "      <td>85.8</td>\n",
       "      <td>10.4</td>\n",
       "    </tr>\n",
       "    <tr>\n",
       "      <th>11</th>\n",
       "      <td>40~49세</td>\n",
       "      <td>6.1</td>\n",
       "      <td>79.5</td>\n",
       "      <td>14.4</td>\n",
       "    </tr>\n",
       "    <tr>\n",
       "      <th>12</th>\n",
       "      <td>50~59세</td>\n",
       "      <td>12.4</td>\n",
       "      <td>72.6</td>\n",
       "      <td>15.0</td>\n",
       "    </tr>\n",
       "    <tr>\n",
       "      <th>13</th>\n",
       "      <td>60세 이상</td>\n",
       "      <td>57.6</td>\n",
       "      <td>39.6</td>\n",
       "      <td>2.8</td>\n",
       "    </tr>\n",
       "    <tr>\n",
       "      <th>14</th>\n",
       "      <td>65세 이상</td>\n",
       "      <td>70.9</td>\n",
       "      <td>28.5</td>\n",
       "      <td>0.5</td>\n",
       "    </tr>\n",
       "    <tr>\n",
       "      <th>15</th>\n",
       "      <td>초졸이하</td>\n",
       "      <td>80.0</td>\n",
       "      <td>19.0</td>\n",
       "      <td>1.0</td>\n",
       "    </tr>\n",
       "    <tr>\n",
       "      <th>16</th>\n",
       "      <td>중졸</td>\n",
       "      <td>50.6</td>\n",
       "      <td>49.4</td>\n",
       "      <td>0.0</td>\n",
       "    </tr>\n",
       "    <tr>\n",
       "      <th>17</th>\n",
       "      <td>고졸</td>\n",
       "      <td>32.2</td>\n",
       "      <td>64.6</td>\n",
       "      <td>3.3</td>\n",
       "    </tr>\n",
       "    <tr>\n",
       "      <th>18</th>\n",
       "      <td>대학이상</td>\n",
       "      <td>6.7</td>\n",
       "      <td>78.2</td>\n",
       "      <td>15.1</td>\n",
       "    </tr>\n",
       "    <tr>\n",
       "      <th>19</th>\n",
       "      <td>전문관리</td>\n",
       "      <td>5.3</td>\n",
       "      <td>73.4</td>\n",
       "      <td>21.3</td>\n",
       "    </tr>\n",
       "    <tr>\n",
       "      <th>20</th>\n",
       "      <td>사무</td>\n",
       "      <td>3.4</td>\n",
       "      <td>83.3</td>\n",
       "      <td>13.3</td>\n",
       "    </tr>\n",
       "    <tr>\n",
       "      <th>21</th>\n",
       "      <td>서비스판매</td>\n",
       "      <td>21.9</td>\n",
       "      <td>74.1</td>\n",
       "      <td>4.0</td>\n",
       "    </tr>\n",
       "    <tr>\n",
       "      <th>22</th>\n",
       "      <td>농어업</td>\n",
       "      <td>44.8</td>\n",
       "      <td>54.1</td>\n",
       "      <td>1.1</td>\n",
       "    </tr>\n",
       "    <tr>\n",
       "      <th>23</th>\n",
       "      <td>기능노무</td>\n",
       "      <td>15.1</td>\n",
       "      <td>80.0</td>\n",
       "      <td>5.0</td>\n",
       "    </tr>\n",
       "    <tr>\n",
       "      <th>24</th>\n",
       "      <td>군인/주부/학생/무직</td>\n",
       "      <td>65.4</td>\n",
       "      <td>32.0</td>\n",
       "      <td>2.6</td>\n",
       "    </tr>\n",
       "    <tr>\n",
       "      <th>25</th>\n",
       "      <td>미혼</td>\n",
       "      <td>43.6</td>\n",
       "      <td>53.8</td>\n",
       "      <td>2.6</td>\n",
       "    </tr>\n",
       "    <tr>\n",
       "      <th>26</th>\n",
       "      <td>유배우</td>\n",
       "      <td>10.6</td>\n",
       "      <td>76.5</td>\n",
       "      <td>13.1</td>\n",
       "    </tr>\n",
       "    <tr>\n",
       "      <th>27</th>\n",
       "      <td>사별/이혼</td>\n",
       "      <td>62.0</td>\n",
       "      <td>35.8</td>\n",
       "      <td>2.3</td>\n",
       "    </tr>\n",
       "    <tr>\n",
       "      <th>28</th>\n",
       "      <td>맞벌이</td>\n",
       "      <td>6.2</td>\n",
       "      <td>74.7</td>\n",
       "      <td>19.1</td>\n",
       "    </tr>\n",
       "    <tr>\n",
       "      <th>29</th>\n",
       "      <td>맞벌이 안함</td>\n",
       "      <td>29.9</td>\n",
       "      <td>64.6</td>\n",
       "      <td>5.4</td>\n",
       "    </tr>\n",
       "    <tr>\n",
       "      <th>30</th>\n",
       "      <td>자가집</td>\n",
       "      <td>20.2</td>\n",
       "      <td>68.2</td>\n",
       "      <td>11.7</td>\n",
       "    </tr>\n",
       "    <tr>\n",
       "      <th>31</th>\n",
       "      <td>전세</td>\n",
       "      <td>11.6</td>\n",
       "      <td>75.7</td>\n",
       "      <td>12.6</td>\n",
       "    </tr>\n",
       "    <tr>\n",
       "      <th>32</th>\n",
       "      <td>월세/기타</td>\n",
       "      <td>33.6</td>\n",
       "      <td>62.0</td>\n",
       "      <td>4.5</td>\n",
       "    </tr>\n",
       "  </tbody>\n",
       "</table>\n",
       "</div>"
      ],
      "text/plain": [
       "            소분류    빈곤층   중산층  고소득층\n",
       "0            소계   21.9  68.0  10.1\n",
       "1          조치원읍   44.3  52.4   3.3\n",
       "2           면지역   43.7  53.3   3.1\n",
       "3           동지역    8.0  77.5  14.4\n",
       "4            남자   15.8  72.4  11.9\n",
       "5            여자   40.3  55.1   4.7\n",
       "6          출범이전   41.6  54.6   3.8\n",
       "7          출범이후   14.0  73.3  12.6\n",
       "8        13~19세  100.0   0.0   0.0\n",
       "9        20~29세   46.9  48.9   4.2\n",
       "10       30~39세    3.9  85.8  10.4\n",
       "11       40~49세    6.1  79.5  14.4\n",
       "12       50~59세   12.4  72.6  15.0\n",
       "13       60세 이상   57.6  39.6   2.8\n",
       "14       65세 이상   70.9  28.5   0.5\n",
       "15         초졸이하   80.0  19.0   1.0\n",
       "16           중졸   50.6  49.4   0.0\n",
       "17           고졸   32.2  64.6   3.3\n",
       "18         대학이상    6.7  78.2  15.1\n",
       "19         전문관리    5.3  73.4  21.3\n",
       "20           사무    3.4  83.3  13.3\n",
       "21        서비스판매   21.9  74.1   4.0\n",
       "22          농어업   44.8  54.1   1.1\n",
       "23         기능노무   15.1  80.0   5.0\n",
       "24  군인/주부/학생/무직   65.4  32.0   2.6\n",
       "25           미혼   43.6  53.8   2.6\n",
       "26          유배우   10.6  76.5  13.1\n",
       "27        사별/이혼   62.0  35.8   2.3\n",
       "28          맞벌이    6.2  74.7  19.1\n",
       "29       맞벌이 안함   29.9  64.6   5.4\n",
       "30          자가집   20.2  68.2  11.7\n",
       "31           전세   11.6  75.7  12.6\n",
       "32        월세/기타   33.6  62.0   4.5"
      ]
     },
     "execution_count": 11,
     "metadata": {
      "tags": []
     },
     "output_type": "execute_result"
    }
   ],
   "source": [
    "df1 = df[['소분류', '빈곤층', '중산층', '고소득층']]\n",
    "df1"
   ]
  },
  {
   "cell_type": "code",
   "execution_count": 16,
   "metadata": {
    "colab": {
     "base_uri": "https://localhost:8080/",
     "height": 141
    },
    "executionInfo": {
     "elapsed": 799,
     "status": "ok",
     "timestamp": 1616424203932,
     "user": {
      "displayName": "사막과 바다 한가운데",
      "photoUrl": "",
      "userId": "15376273703893512404"
     },
     "user_tz": -540
    },
    "id": "KVAkXCZ8Tya-",
    "outputId": "97733889-61d0-4340-ac44-c538252ca7a4"
   },
   "outputs": [
    {
     "data": {
      "text/html": [
       "<div>\n",
       "<style scoped>\n",
       "    .dataframe tbody tr th:only-of-type {\n",
       "        vertical-align: middle;\n",
       "    }\n",
       "\n",
       "    .dataframe tbody tr th {\n",
       "        vertical-align: top;\n",
       "    }\n",
       "\n",
       "    .dataframe thead th {\n",
       "        text-align: right;\n",
       "    }\n",
       "</style>\n",
       "<table border=\"1\" class=\"dataframe\">\n",
       "  <thead>\n",
       "    <tr style=\"text-align: right;\">\n",
       "      <th></th>\n",
       "      <th>소분류</th>\n",
       "      <th>빈곤층</th>\n",
       "      <th>중산층</th>\n",
       "      <th>고소득층</th>\n",
       "    </tr>\n",
       "  </thead>\n",
       "  <tbody>\n",
       "    <tr>\n",
       "      <th>30</th>\n",
       "      <td>자가집</td>\n",
       "      <td>20.2</td>\n",
       "      <td>68.2</td>\n",
       "      <td>11.7</td>\n",
       "    </tr>\n",
       "    <tr>\n",
       "      <th>31</th>\n",
       "      <td>전세</td>\n",
       "      <td>11.6</td>\n",
       "      <td>75.7</td>\n",
       "      <td>12.6</td>\n",
       "    </tr>\n",
       "    <tr>\n",
       "      <th>32</th>\n",
       "      <td>월세/기타</td>\n",
       "      <td>33.6</td>\n",
       "      <td>62.0</td>\n",
       "      <td>4.5</td>\n",
       "    </tr>\n",
       "  </tbody>\n",
       "</table>\n",
       "</div>"
      ],
      "text/plain": [
       "      소분류   빈곤층   중산층  고소득층\n",
       "30    자가집  20.2  68.2  11.7\n",
       "31     전세  11.6  75.7  12.6\n",
       "32  월세/기타  33.6  62.0   4.5"
      ]
     },
     "execution_count": 16,
     "metadata": {
      "tags": []
     },
     "output_type": "execute_result"
    }
   ],
   "source": [
    "df_res = df1[30:]\n",
    "df_res"
   ]
  },
  {
   "cell_type": "code",
   "execution_count": 17,
   "metadata": {
    "colab": {
     "base_uri": "https://localhost:8080/",
     "height": 171
    },
    "executionInfo": {
     "elapsed": 878,
     "status": "ok",
     "timestamp": 1616424207609,
     "user": {
      "displayName": "사막과 바다 한가운데",
      "photoUrl": "",
      "userId": "15376273703893512404"
     },
     "user_tz": -540
    },
    "id": "k9wFLrBNnZJg",
    "outputId": "537c71ab-b6f0-45db-f3f9-1f27b47c451e"
   },
   "outputs": [
    {
     "data": {
      "text/html": [
       "<div>\n",
       "<style scoped>\n",
       "    .dataframe tbody tr th:only-of-type {\n",
       "        vertical-align: middle;\n",
       "    }\n",
       "\n",
       "    .dataframe tbody tr th {\n",
       "        vertical-align: top;\n",
       "    }\n",
       "\n",
       "    .dataframe thead th {\n",
       "        text-align: right;\n",
       "    }\n",
       "</style>\n",
       "<table border=\"1\" class=\"dataframe\">\n",
       "  <thead>\n",
       "    <tr style=\"text-align: right;\">\n",
       "      <th></th>\n",
       "      <th>빈곤층</th>\n",
       "      <th>중산층</th>\n",
       "      <th>고소득층</th>\n",
       "    </tr>\n",
       "    <tr>\n",
       "      <th>소분류</th>\n",
       "      <th></th>\n",
       "      <th></th>\n",
       "      <th></th>\n",
       "    </tr>\n",
       "  </thead>\n",
       "  <tbody>\n",
       "    <tr>\n",
       "      <th>자가집</th>\n",
       "      <td>20.2</td>\n",
       "      <td>68.2</td>\n",
       "      <td>11.7</td>\n",
       "    </tr>\n",
       "    <tr>\n",
       "      <th>전세</th>\n",
       "      <td>11.6</td>\n",
       "      <td>75.7</td>\n",
       "      <td>12.6</td>\n",
       "    </tr>\n",
       "    <tr>\n",
       "      <th>월세/기타</th>\n",
       "      <td>33.6</td>\n",
       "      <td>62.0</td>\n",
       "      <td>4.5</td>\n",
       "    </tr>\n",
       "  </tbody>\n",
       "</table>\n",
       "</div>"
      ],
      "text/plain": [
       "        빈곤층   중산층  고소득층\n",
       "소분류                    \n",
       "자가집    20.2  68.2  11.7\n",
       "전세     11.6  75.7  12.6\n",
       "월세/기타  33.6  62.0   4.5"
      ]
     },
     "execution_count": 17,
     "metadata": {
      "tags": []
     },
     "output_type": "execute_result"
    }
   ],
   "source": [
    "df_res.set_index('소분류',inplace = True)\n",
    "df_res"
   ]
  },
  {
   "cell_type": "code",
   "execution_count": 19,
   "metadata": {
    "executionInfo": {
     "elapsed": 824,
     "status": "ok",
     "timestamp": 1616424236692,
     "user": {
      "displayName": "사막과 바다 한가운데",
      "photoUrl": "",
      "userId": "15376273703893512404"
     },
     "user_tz": -540
    },
    "id": "0uj6_qAZZBQc"
   },
   "outputs": [],
   "source": [
    "df_res = df_res.T"
   ]
  },
  {
   "cell_type": "code",
   "execution_count": 22,
   "metadata": {
    "colab": {
     "base_uri": "https://localhost:8080/",
     "height": 422
    },
    "executionInfo": {
     "elapsed": 1072,
     "status": "ok",
     "timestamp": 1616424572614,
     "user": {
      "displayName": "사막과 바다 한가운데",
      "photoUrl": "",
      "userId": "15376273703893512404"
     },
     "user_tz": -540
    },
    "id": "iFP8vzCRd1-n",
    "outputId": "fd8a094b-be15-4c6d-bc50-2533484d8348"
   },
   "outputs": [
    {
     "data": {
      "text/plain": [
       "(array([0, 1, 2]), <a list of 3 Text major ticklabel objects>)"
      ]
     },
     "execution_count": 22,
     "metadata": {
      "tags": []
     },
     "output_type": "execute_result"
    },
    {
     "data": {
      "image/png": "[encoded data removed]",
      "text/plain": [
       "<Figure size 720x432 with 1 Axes>"
      ]
     },
     "metadata": {
      "needs_background": "light",
      "tags": []
     },
     "output_type": "display_data"
    }
   ],
   "source": [
    "df_res.plot(kind='bar', figsize=(10,6), stacked=False, alpha=0.7)\n",
    "plt.title('소득 계층 별 주거 유형')\n",
    "plt.xlabel('소득 계층')\n",
    "plt.xticks(rotation = 0 )"
   ]
  },
  {
   "cell_type": "code",
   "execution_count": 12,
   "metadata": {
    "executionInfo": {
     "elapsed": 5915,
     "status": "ok",
     "timestamp": 1616423456587,
     "user": {
      "displayName": "사막과 바다 한가운데",
      "photoUrl": "",
      "userId": "15376273703893512404"
     },
     "user_tz": -540
    },
    "id": "R1XOxBCJfLGo"
   },
   "outputs": [],
   "source": [
    ""
   ]
  }
 ],
 "metadata": {
  "colab": {
   "authorship_tag": "ABX9TyNUf3jYoqsTPK3YNUOT3nIX",
   "collapsed_sections": [],
   "mount_file_id": "1uBB62vJjfciCWtlhKMjfvE3nhoc94OER",
   "name": "세종_소득별 거주유형.ipynb",
   "provenance": []
  },
  "kernelspec": {
   "display_name": "Python 3",
   "name": "python3"
  },
  "language_info": {
   "name": "python"
  }
 },
 "nbformat": 4,
 "nbformat_minor": 0
}
