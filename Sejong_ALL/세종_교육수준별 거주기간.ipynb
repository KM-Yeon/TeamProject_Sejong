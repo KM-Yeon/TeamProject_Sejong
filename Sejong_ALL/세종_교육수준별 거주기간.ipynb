{
 "cells": [
  {
   "cell_type": "code",
   "execution_count": 1,
   "metadata": {
    "colab": {
     "base_uri": "https://localhost:8080/"
    },
    "executionInfo": {
     "elapsed": 5405,
     "status": "ok",
     "timestamp": 1616425058274,
     "user": {
      "displayName": "사막과 바다 한가운데",
      "photoUrl": "",
      "userId": "15376273703893512404"
     },
     "user_tz": -540
    },
    "id": "Fv7XZkQre7fK",
    "outputId": "183b5450-f08c-4d5d-89d7-e80f888a03d4"
   },
   "outputs": [
    {
     "name": "stdout",
     "output_type": "stream",
     "text": [
      "Reading package lists... Done\n",
      "Building dependency tree       \n",
      "Reading state information... Done\n",
      "fonts-nanum is already the newest version (20170925-1).\n",
      "0 upgraded, 0 newly installed, 0 to remove and 30 not upgraded.\n",
      "/usr/share/fonts: caching, new cache contents: 0 fonts, 1 dirs\n",
      "/usr/share/fonts/truetype: caching, new cache contents: 0 fonts, 3 dirs\n",
      "/usr/share/fonts/truetype/humor-sans: caching, new cache contents: 1 fonts, 0 dirs\n",
      "/usr/share/fonts/truetype/liberation: caching, new cache contents: 16 fonts, 0 dirs\n",
      "/usr/share/fonts/truetype/nanum: caching, new cache contents: 10 fonts, 0 dirs\n",
      "/usr/local/share/fonts: caching, new cache contents: 0 fonts, 0 dirs\n",
      "/root/.local/share/fonts: skipping, no such directory\n",
      "/root/.fonts: skipping, no such directory\n",
      "/var/cache/fontconfig: cleaning cache directory\n",
      "/root/.cache/fontconfig: not cleaning non-existent cache directory\n",
      "/root/.fontconfig: not cleaning non-existent cache directory\n",
      "fc-cache: succeeded\n"
     ]
    }
   ],
   "source": [
    "!sudo apt-get install -y fonts-nanum\n",
    "!sudo fc-cache -fv\n",
    "!rm ~/.cache/matplotlib -rf"
   ]
  },
  {
   "cell_type": "code",
   "execution_count": 2,
   "metadata": {
    "executionInfo": {
     "elapsed": 5395,
     "status": "ok",
     "timestamp": 1616425058276,
     "user": {
      "displayName": "사막과 바다 한가운데",
      "photoUrl": "",
      "userId": "15376273703893512404"
     },
     "user_tz": -540
    },
    "id": "UesDtAkYLxBh"
   },
   "outputs": [],
   "source": [
    "import pandas as pd\n",
    "import numpy as np\n",
    "import matplotlib.pyplot as plt\n",
    "import seaborn as sns"
   ]
  },
  {
   "cell_type": "code",
   "execution_count": 3,
   "metadata": {
    "executionInfo": {
     "elapsed": 5390,
     "status": "ok",
     "timestamp": 1616425058277,
     "user": {
      "displayName": "사막과 바다 한가운데",
      "photoUrl": "",
      "userId": "15376273703893512404"
     },
     "user_tz": -540
    },
    "id": "4yfpwjBDfgWQ"
   },
   "outputs": [],
   "source": [
    "plt.rc('font', family='NanumBarunGothic') "
   ]
  },
  {
   "cell_type": "code",
   "execution_count": 4,
   "metadata": {
    "executionInfo": {
     "elapsed": 5384,
     "status": "ok",
     "timestamp": 1616425058278,
     "user": {
      "displayName": "사막과 바다 한가운데",
      "photoUrl": "",
      "userId": "15376273703893512404"
     },
     "user_tz": -540
    },
    "id": "nyc4Ow03PDh8"
   },
   "outputs": [],
   "source": [
    "df = pd.read_csv(\"/content/drive/MyDrive/Colab Notebooks/세종시/26.세종시_거주기간.csv\")"
   ]
  },
  {
   "cell_type": "code",
   "execution_count": 5,
   "metadata": {
    "colab": {
     "base_uri": "https://localhost:8080/"
    },
    "executionInfo": {
     "elapsed": 5683,
     "status": "ok",
     "timestamp": 1616425058584,
     "user": {
      "displayName": "사막과 바다 한가운데",
      "photoUrl": "",
      "userId": "15376273703893512404"
     },
     "user_tz": -540
    },
    "id": "TPU_8YNOW9HM",
    "outputId": "57db5f02-a562-4b29-e30d-9c95047a6862"
   },
   "outputs": [
    {
     "name": "stdout",
     "output_type": "stream",
     "text": [
      "<class 'pandas.core.frame.DataFrame'>\n",
      "RangeIndex: 39 entries, 0 to 38\n",
      "Data columns (total 8 columns):\n",
      " #   Column     Non-Null Count  Dtype  \n",
      "---  ------     --------------  -----  \n",
      " 0   중분류        39 non-null     object \n",
      " 1   소분류        39 non-null     object \n",
      " 2   1년미만       39 non-null     float64\n",
      " 3   1년~2년 미만   39 non-null     float64\n",
      " 4   2년~4년 미만   39 non-null     float64\n",
      " 5   4년~6년 미만   39 non-null     float64\n",
      " 6   6년~10년 미만  39 non-null     float64\n",
      " 7   10년 이상     39 non-null     float64\n",
      "dtypes: float64(6), object(2)\n",
      "memory usage: 2.6+ KB\n"
     ]
    }
   ],
   "source": [
    "df.info()"
   ]
  },
  {
   "cell_type": "code",
   "execution_count": 6,
   "metadata": {
    "executionInfo": {
     "elapsed": 5676,
     "status": "ok",
     "timestamp": 1616425058585,
     "user": {
      "displayName": "사막과 바다 한가운데",
      "photoUrl": "",
      "userId": "15376273703893512404"
     },
     "user_tz": -540
    },
    "id": "XSel3YFwXNmM"
   },
   "outputs": [],
   "source": [
    "df['1년~4년 미만'] = df['1년~2년 미만'] + df['2년~4년 미만']\n",
    "df['장기거주자'] = df['4년~6년 미만'] + df['6년~10년 미만'] + df['10년 이상']"
   ]
  },
  {
   "cell_type": "code",
   "execution_count": 7,
   "metadata": {
    "colab": {
     "base_uri": "https://localhost:8080/"
    },
    "executionInfo": {
     "elapsed": 5671,
     "status": "ok",
     "timestamp": 1616425058586,
     "user": {
      "displayName": "사막과 바다 한가운데",
      "photoUrl": "",
      "userId": "15376273703893512404"
     },
     "user_tz": -540
    },
    "id": "Ps-9F08iYpjm",
    "outputId": "eeb06145-79f8-438b-d381-3cb01855b53c"
   },
   "outputs": [
    {
     "name": "stdout",
     "output_type": "stream",
     "text": [
      "<class 'pandas.core.frame.DataFrame'>\n",
      "RangeIndex: 39 entries, 0 to 38\n",
      "Data columns (total 10 columns):\n",
      " #   Column     Non-Null Count  Dtype  \n",
      "---  ------     --------------  -----  \n",
      " 0   중분류        39 non-null     object \n",
      " 1   소분류        39 non-null     object \n",
      " 2   1년미만       39 non-null     float64\n",
      " 3   1년~2년 미만   39 non-null     float64\n",
      " 4   2년~4년 미만   39 non-null     float64\n",
      " 5   4년~6년 미만   39 non-null     float64\n",
      " 6   6년~10년 미만  39 non-null     float64\n",
      " 7   10년 이상     39 non-null     float64\n",
      " 8   1년~4년 미만   39 non-null     float64\n",
      " 9   장기거주자      39 non-null     float64\n",
      "dtypes: float64(8), object(2)\n",
      "memory usage: 3.2+ KB\n"
     ]
    }
   ],
   "source": [
    "df.info()"
   ]
  },
  {
   "cell_type": "code",
   "execution_count": 8,
   "metadata": {
    "colab": {
     "base_uri": "https://localhost:8080/",
     "height": 1000
    },
    "executionInfo": {
     "elapsed": 5665,
     "status": "ok",
     "timestamp": 1616425058589,
     "user": {
      "displayName": "사막과 바다 한가운데",
      "photoUrl": "",
      "userId": "15376273703893512404"
     },
     "user_tz": -540
    },
    "id": "Ka5z_wvcPd_A",
    "outputId": "df8ed47b-5e57-4e02-d135-ba446e7d94d1"
   },
   "outputs": [
    {
     "data": {
      "text/html": [
       "<div>\n",
       "<style scoped>\n",
       "    .dataframe tbody tr th:only-of-type {\n",
       "        vertical-align: middle;\n",
       "    }\n",
       "\n",
       "    .dataframe tbody tr th {\n",
       "        vertical-align: top;\n",
       "    }\n",
       "\n",
       "    .dataframe thead th {\n",
       "        text-align: right;\n",
       "    }\n",
       "</style>\n",
       "<table border=\"1\" class=\"dataframe\">\n",
       "  <thead>\n",
       "    <tr style=\"text-align: right;\">\n",
       "      <th></th>\n",
       "      <th>소분류</th>\n",
       "      <th>1년미만</th>\n",
       "      <th>1년~4년 미만</th>\n",
       "      <th>장기거주자</th>\n",
       "    </tr>\n",
       "  </thead>\n",
       "  <tbody>\n",
       "    <tr>\n",
       "      <th>0</th>\n",
       "      <td>소계</td>\n",
       "      <td>10.3</td>\n",
       "      <td>43.1</td>\n",
       "      <td>46.6</td>\n",
       "    </tr>\n",
       "    <tr>\n",
       "      <th>1</th>\n",
       "      <td>조치원읍</td>\n",
       "      <td>9.3</td>\n",
       "      <td>15.2</td>\n",
       "      <td>75.5</td>\n",
       "    </tr>\n",
       "    <tr>\n",
       "      <th>2</th>\n",
       "      <td>면지역</td>\n",
       "      <td>8.8</td>\n",
       "      <td>13.0</td>\n",
       "      <td>78.2</td>\n",
       "    </tr>\n",
       "    <tr>\n",
       "      <th>3</th>\n",
       "      <td>동지역</td>\n",
       "      <td>11.0</td>\n",
       "      <td>58.1</td>\n",
       "      <td>31.0</td>\n",
       "    </tr>\n",
       "    <tr>\n",
       "      <th>4</th>\n",
       "      <td>남자</td>\n",
       "      <td>10.8</td>\n",
       "      <td>42.9</td>\n",
       "      <td>46.3</td>\n",
       "    </tr>\n",
       "    <tr>\n",
       "      <th>5</th>\n",
       "      <td>여자</td>\n",
       "      <td>9.8</td>\n",
       "      <td>43.4</td>\n",
       "      <td>46.8</td>\n",
       "    </tr>\n",
       "    <tr>\n",
       "      <th>6</th>\n",
       "      <td>13~19세</td>\n",
       "      <td>6.2</td>\n",
       "      <td>43.8</td>\n",
       "      <td>50.0</td>\n",
       "    </tr>\n",
       "    <tr>\n",
       "      <th>7</th>\n",
       "      <td>20~29세</td>\n",
       "      <td>24.5</td>\n",
       "      <td>45.2</td>\n",
       "      <td>30.4</td>\n",
       "    </tr>\n",
       "    <tr>\n",
       "      <th>8</th>\n",
       "      <td>30~39세</td>\n",
       "      <td>12.4</td>\n",
       "      <td>54.7</td>\n",
       "      <td>32.9</td>\n",
       "    </tr>\n",
       "    <tr>\n",
       "      <th>9</th>\n",
       "      <td>40~49세</td>\n",
       "      <td>7.6</td>\n",
       "      <td>48.9</td>\n",
       "      <td>43.4</td>\n",
       "    </tr>\n",
       "    <tr>\n",
       "      <th>10</th>\n",
       "      <td>50~59세</td>\n",
       "      <td>7.8</td>\n",
       "      <td>35.1</td>\n",
       "      <td>57.2</td>\n",
       "    </tr>\n",
       "    <tr>\n",
       "      <th>11</th>\n",
       "      <td>60세 이상</td>\n",
       "      <td>4.5</td>\n",
       "      <td>24.9</td>\n",
       "      <td>70.5</td>\n",
       "    </tr>\n",
       "    <tr>\n",
       "      <th>12</th>\n",
       "      <td>65세 이상</td>\n",
       "      <td>4.6</td>\n",
       "      <td>20.5</td>\n",
       "      <td>75.0</td>\n",
       "    </tr>\n",
       "    <tr>\n",
       "      <th>13</th>\n",
       "      <td>초졸이하</td>\n",
       "      <td>3.1</td>\n",
       "      <td>24.4</td>\n",
       "      <td>72.6</td>\n",
       "    </tr>\n",
       "    <tr>\n",
       "      <th>14</th>\n",
       "      <td>중졸</td>\n",
       "      <td>5.3</td>\n",
       "      <td>28.9</td>\n",
       "      <td>65.9</td>\n",
       "    </tr>\n",
       "    <tr>\n",
       "      <th>15</th>\n",
       "      <td>고졸</td>\n",
       "      <td>11.3</td>\n",
       "      <td>36.7</td>\n",
       "      <td>52.0</td>\n",
       "    </tr>\n",
       "    <tr>\n",
       "      <th>16</th>\n",
       "      <td>대학이상</td>\n",
       "      <td>12.4</td>\n",
       "      <td>52.8</td>\n",
       "      <td>34.9</td>\n",
       "    </tr>\n",
       "    <tr>\n",
       "      <th>17</th>\n",
       "      <td>전문관리</td>\n",
       "      <td>14.4</td>\n",
       "      <td>53.1</td>\n",
       "      <td>32.5</td>\n",
       "    </tr>\n",
       "    <tr>\n",
       "      <th>18</th>\n",
       "      <td>사무</td>\n",
       "      <td>10.2</td>\n",
       "      <td>48.7</td>\n",
       "      <td>41.1</td>\n",
       "    </tr>\n",
       "    <tr>\n",
       "      <th>19</th>\n",
       "      <td>서비스판매</td>\n",
       "      <td>12.4</td>\n",
       "      <td>38.5</td>\n",
       "      <td>49.2</td>\n",
       "    </tr>\n",
       "    <tr>\n",
       "      <th>20</th>\n",
       "      <td>농어업</td>\n",
       "      <td>1.7</td>\n",
       "      <td>8.8</td>\n",
       "      <td>89.6</td>\n",
       "    </tr>\n",
       "    <tr>\n",
       "      <th>21</th>\n",
       "      <td>기능노무</td>\n",
       "      <td>9.1</td>\n",
       "      <td>31.1</td>\n",
       "      <td>59.8</td>\n",
       "    </tr>\n",
       "    <tr>\n",
       "      <th>22</th>\n",
       "      <td>군인/주부/학생/무직</td>\n",
       "      <td>9.1</td>\n",
       "      <td>43.8</td>\n",
       "      <td>47.1</td>\n",
       "    </tr>\n",
       "    <tr>\n",
       "      <th>23</th>\n",
       "      <td>미혼</td>\n",
       "      <td>16.1</td>\n",
       "      <td>39.7</td>\n",
       "      <td>44.2</td>\n",
       "    </tr>\n",
       "    <tr>\n",
       "      <th>24</th>\n",
       "      <td>유배우</td>\n",
       "      <td>8.4</td>\n",
       "      <td>46.8</td>\n",
       "      <td>44.8</td>\n",
       "    </tr>\n",
       "    <tr>\n",
       "      <th>25</th>\n",
       "      <td>사별/이혼</td>\n",
       "      <td>7.7</td>\n",
       "      <td>22.1</td>\n",
       "      <td>70.2</td>\n",
       "    </tr>\n",
       "    <tr>\n",
       "      <th>26</th>\n",
       "      <td>100만원 미만</td>\n",
       "      <td>10.8</td>\n",
       "      <td>20.3</td>\n",
       "      <td>69.0</td>\n",
       "    </tr>\n",
       "    <tr>\n",
       "      <th>27</th>\n",
       "      <td>100~200만원 미만</td>\n",
       "      <td>13.7</td>\n",
       "      <td>25.3</td>\n",
       "      <td>61.0</td>\n",
       "    </tr>\n",
       "    <tr>\n",
       "      <th>28</th>\n",
       "      <td>200~300만원 미만</td>\n",
       "      <td>12.8</td>\n",
       "      <td>42.1</td>\n",
       "      <td>45.1</td>\n",
       "    </tr>\n",
       "    <tr>\n",
       "      <th>29</th>\n",
       "      <td>300~400만원 미만</td>\n",
       "      <td>10.9</td>\n",
       "      <td>38.6</td>\n",
       "      <td>50.5</td>\n",
       "    </tr>\n",
       "    <tr>\n",
       "      <th>30</th>\n",
       "      <td>400~500만원 미만</td>\n",
       "      <td>9.5</td>\n",
       "      <td>46.4</td>\n",
       "      <td>44.1</td>\n",
       "    </tr>\n",
       "    <tr>\n",
       "      <th>31</th>\n",
       "      <td>500~600만원 미만</td>\n",
       "      <td>7.8</td>\n",
       "      <td>52.4</td>\n",
       "      <td>39.7</td>\n",
       "    </tr>\n",
       "    <tr>\n",
       "      <th>32</th>\n",
       "      <td>600~700만원 미만</td>\n",
       "      <td>8.0</td>\n",
       "      <td>56.9</td>\n",
       "      <td>35.2</td>\n",
       "    </tr>\n",
       "    <tr>\n",
       "      <th>33</th>\n",
       "      <td>700만원 이상</td>\n",
       "      <td>10.0</td>\n",
       "      <td>51.6</td>\n",
       "      <td>38.3</td>\n",
       "    </tr>\n",
       "    <tr>\n",
       "      <th>34</th>\n",
       "      <td>맞벌이</td>\n",
       "      <td>8.0</td>\n",
       "      <td>40.5</td>\n",
       "      <td>51.5</td>\n",
       "    </tr>\n",
       "    <tr>\n",
       "      <th>35</th>\n",
       "      <td>맞벌이 안함</td>\n",
       "      <td>11.8</td>\n",
       "      <td>44.9</td>\n",
       "      <td>43.4</td>\n",
       "    </tr>\n",
       "    <tr>\n",
       "      <th>36</th>\n",
       "      <td>자가집</td>\n",
       "      <td>4.7</td>\n",
       "      <td>38.2</td>\n",
       "      <td>57.2</td>\n",
       "    </tr>\n",
       "    <tr>\n",
       "      <th>37</th>\n",
       "      <td>전세</td>\n",
       "      <td>15.9</td>\n",
       "      <td>58.8</td>\n",
       "      <td>25.3</td>\n",
       "    </tr>\n",
       "    <tr>\n",
       "      <th>38</th>\n",
       "      <td>월세/기타</td>\n",
       "      <td>24.4</td>\n",
       "      <td>44.9</td>\n",
       "      <td>30.7</td>\n",
       "    </tr>\n",
       "  </tbody>\n",
       "</table>\n",
       "</div>"
      ],
      "text/plain": [
       "             소분류  1년미만  1년~4년 미만  장기거주자\n",
       "0             소계  10.3      43.1   46.6\n",
       "1           조치원읍   9.3      15.2   75.5\n",
       "2            면지역   8.8      13.0   78.2\n",
       "3            동지역  11.0      58.1   31.0\n",
       "4             남자  10.8      42.9   46.3\n",
       "5             여자   9.8      43.4   46.8\n",
       "6         13~19세   6.2      43.8   50.0\n",
       "7         20~29세  24.5      45.2   30.4\n",
       "8         30~39세  12.4      54.7   32.9\n",
       "9         40~49세   7.6      48.9   43.4\n",
       "10        50~59세   7.8      35.1   57.2\n",
       "11        60세 이상   4.5      24.9   70.5\n",
       "12        65세 이상   4.6      20.5   75.0\n",
       "13          초졸이하   3.1      24.4   72.6\n",
       "14            중졸   5.3      28.9   65.9\n",
       "15            고졸  11.3      36.7   52.0\n",
       "16          대학이상  12.4      52.8   34.9\n",
       "17          전문관리  14.4      53.1   32.5\n",
       "18            사무  10.2      48.7   41.1\n",
       "19         서비스판매  12.4      38.5   49.2\n",
       "20           농어업   1.7       8.8   89.6\n",
       "21          기능노무   9.1      31.1   59.8\n",
       "22   군인/주부/학생/무직   9.1      43.8   47.1\n",
       "23            미혼  16.1      39.7   44.2\n",
       "24           유배우   8.4      46.8   44.8\n",
       "25         사별/이혼   7.7      22.1   70.2\n",
       "26      100만원 미만  10.8      20.3   69.0\n",
       "27  100~200만원 미만  13.7      25.3   61.0\n",
       "28  200~300만원 미만  12.8      42.1   45.1\n",
       "29  300~400만원 미만  10.9      38.6   50.5\n",
       "30  400~500만원 미만   9.5      46.4   44.1\n",
       "31  500~600만원 미만   7.8      52.4   39.7\n",
       "32  600~700만원 미만   8.0      56.9   35.2\n",
       "33      700만원 이상  10.0      51.6   38.3\n",
       "34           맞벌이   8.0      40.5   51.5\n",
       "35        맞벌이 안함  11.8      44.9   43.4\n",
       "36           자가집   4.7      38.2   57.2\n",
       "37            전세  15.9      58.8   25.3\n",
       "38         월세/기타  24.4      44.9   30.7"
      ]
     },
     "execution_count": 8,
     "metadata": {
      "tags": []
     },
     "output_type": "execute_result"
    }
   ],
   "source": [
    "df1 = df.drop(df[['중분류', '1년~2년 미만', '2년~4년 미만', '4년~6년 미만', '6년~10년 미만', '10년 이상']], axis = 1)\n",
    "df1"
   ]
  },
  {
   "cell_type": "code",
   "execution_count": 9,
   "metadata": {
    "colab": {
     "base_uri": "https://localhost:8080/",
     "height": 171
    },
    "executionInfo": {
     "elapsed": 5656,
     "status": "ok",
     "timestamp": 1616425058590,
     "user": {
      "displayName": "사막과 바다 한가운데",
      "photoUrl": "",
      "userId": "15376273703893512404"
     },
     "user_tz": -540
    },
    "id": "KVAkXCZ8Tya-",
    "outputId": "9c71002c-944d-4060-808c-45fa7afadbd8"
   },
   "outputs": [
    {
     "data": {
      "text/html": [
       "<div>\n",
       "<style scoped>\n",
       "    .dataframe tbody tr th:only-of-type {\n",
       "        vertical-align: middle;\n",
       "    }\n",
       "\n",
       "    .dataframe tbody tr th {\n",
       "        vertical-align: top;\n",
       "    }\n",
       "\n",
       "    .dataframe thead th {\n",
       "        text-align: right;\n",
       "    }\n",
       "</style>\n",
       "<table border=\"1\" class=\"dataframe\">\n",
       "  <thead>\n",
       "    <tr style=\"text-align: right;\">\n",
       "      <th></th>\n",
       "      <th>소분류</th>\n",
       "      <th>1년미만</th>\n",
       "      <th>1년~4년 미만</th>\n",
       "      <th>장기거주자</th>\n",
       "    </tr>\n",
       "  </thead>\n",
       "  <tbody>\n",
       "    <tr>\n",
       "      <th>13</th>\n",
       "      <td>초졸이하</td>\n",
       "      <td>3.1</td>\n",
       "      <td>24.4</td>\n",
       "      <td>72.6</td>\n",
       "    </tr>\n",
       "    <tr>\n",
       "      <th>14</th>\n",
       "      <td>중졸</td>\n",
       "      <td>5.3</td>\n",
       "      <td>28.9</td>\n",
       "      <td>65.9</td>\n",
       "    </tr>\n",
       "    <tr>\n",
       "      <th>15</th>\n",
       "      <td>고졸</td>\n",
       "      <td>11.3</td>\n",
       "      <td>36.7</td>\n",
       "      <td>52.0</td>\n",
       "    </tr>\n",
       "    <tr>\n",
       "      <th>16</th>\n",
       "      <td>대학이상</td>\n",
       "      <td>12.4</td>\n",
       "      <td>52.8</td>\n",
       "      <td>34.9</td>\n",
       "    </tr>\n",
       "  </tbody>\n",
       "</table>\n",
       "</div>"
      ],
      "text/plain": [
       "     소분류  1년미만  1년~4년 미만  장기거주자\n",
       "13  초졸이하   3.1      24.4   72.6\n",
       "14    중졸   5.3      28.9   65.9\n",
       "15    고졸  11.3      36.7   52.0\n",
       "16  대학이상  12.4      52.8   34.9"
      ]
     },
     "execution_count": 9,
     "metadata": {
      "tags": []
     },
     "output_type": "execute_result"
    }
   ],
   "source": [
    "df_res = df1[13:17]\n",
    "df_res"
   ]
  },
  {
   "cell_type": "code",
   "execution_count": 10,
   "metadata": {
    "colab": {
     "base_uri": "https://localhost:8080/",
     "height": 202
    },
    "executionInfo": {
     "elapsed": 5648,
     "status": "ok",
     "timestamp": 1616425058591,
     "user": {
      "displayName": "사막과 바다 한가운데",
      "photoUrl": "",
      "userId": "15376273703893512404"
     },
     "user_tz": -540
    },
    "id": "k9wFLrBNnZJg",
    "outputId": "2eb1e047-3bea-466f-a580-db68d7f98584"
   },
   "outputs": [
    {
     "data": {
      "text/html": [
       "<div>\n",
       "<style scoped>\n",
       "    .dataframe tbody tr th:only-of-type {\n",
       "        vertical-align: middle;\n",
       "    }\n",
       "\n",
       "    .dataframe tbody tr th {\n",
       "        vertical-align: top;\n",
       "    }\n",
       "\n",
       "    .dataframe thead th {\n",
       "        text-align: right;\n",
       "    }\n",
       "</style>\n",
       "<table border=\"1\" class=\"dataframe\">\n",
       "  <thead>\n",
       "    <tr style=\"text-align: right;\">\n",
       "      <th></th>\n",
       "      <th>1년미만</th>\n",
       "      <th>1년~4년 미만</th>\n",
       "      <th>장기거주자</th>\n",
       "    </tr>\n",
       "    <tr>\n",
       "      <th>소분류</th>\n",
       "      <th></th>\n",
       "      <th></th>\n",
       "      <th></th>\n",
       "    </tr>\n",
       "  </thead>\n",
       "  <tbody>\n",
       "    <tr>\n",
       "      <th>초졸이하</th>\n",
       "      <td>3.1</td>\n",
       "      <td>24.4</td>\n",
       "      <td>72.6</td>\n",
       "    </tr>\n",
       "    <tr>\n",
       "      <th>중졸</th>\n",
       "      <td>5.3</td>\n",
       "      <td>28.9</td>\n",
       "      <td>65.9</td>\n",
       "    </tr>\n",
       "    <tr>\n",
       "      <th>고졸</th>\n",
       "      <td>11.3</td>\n",
       "      <td>36.7</td>\n",
       "      <td>52.0</td>\n",
       "    </tr>\n",
       "    <tr>\n",
       "      <th>대학이상</th>\n",
       "      <td>12.4</td>\n",
       "      <td>52.8</td>\n",
       "      <td>34.9</td>\n",
       "    </tr>\n",
       "  </tbody>\n",
       "</table>\n",
       "</div>"
      ],
      "text/plain": [
       "      1년미만  1년~4년 미만  장기거주자\n",
       "소분류                        \n",
       "초졸이하   3.1      24.4   72.6\n",
       "중졸     5.3      28.9   65.9\n",
       "고졸    11.3      36.7   52.0\n",
       "대학이상  12.4      52.8   34.9"
      ]
     },
     "execution_count": 10,
     "metadata": {
      "tags": []
     },
     "output_type": "execute_result"
    }
   ],
   "source": [
    "df_res.set_index('소분류',inplace = True)\n",
    "df_res"
   ]
  },
  {
   "cell_type": "code",
   "execution_count": 12,
   "metadata": {
    "colab": {
     "base_uri": "https://localhost:8080/",
     "height": 408
    },
    "executionInfo": {
     "elapsed": 716,
     "status": "ok",
     "timestamp": 1616425233677,
     "user": {
      "displayName": "사막과 바다 한가운데",
      "photoUrl": "",
      "userId": "15376273703893512404"
     },
     "user_tz": -540
    },
    "id": "iFP8vzCRd1-n",
    "outputId": "8f39907f-6f30-43c2-c3f3-500d9d693769"
   },
   "outputs": [
    {
     "data": {
      "text/plain": [
       "Text(0, 0.5, '교육 수준')"
      ]
     },
     "execution_count": 12,
     "metadata": {
      "tags": []
     },
     "output_type": "execute_result"
    },
    {
     "data": {
      "image/png": "[encoded data removed]",
      "text/plain": [
       "<Figure size 720x432 with 1 Axes>"
      ]
     },
     "metadata": {
      "needs_background": "light",
      "tags": []
     },
     "output_type": "display_data"
    }
   ],
   "source": [
    "df_res.plot(kind='barh', figsize=(10,6), stacked=True, alpha=0.7)\n",
    "plt.title('교육 수준 별 거주 기간(%)')\n",
    "plt.ylabel('교육 수준')\n",
    "# plt.xticks(rotation = 0 )"
   ]
  },
  {
   "cell_type": "code",
   "execution_count": 11,
   "metadata": {
    "executionInfo": {
     "elapsed": 5920,
     "status": "ok",
     "timestamp": 1616425058878,
     "user": {
      "displayName": "사막과 바다 한가운데",
      "photoUrl": "",
      "userId": "15376273703893512404"
     },
     "user_tz": -540
    },
    "id": "R1XOxBCJfLGo"
   },
   "outputs": [],
   "source": []
  }
 ],
 "metadata": {
  "colab": {
   "authorship_tag": "ABX9TyOn80eD0WByPov/Up3eMPqj",
   "collapsed_sections": [],
   "mount_file_id": "1KHAcqDqLZw0bxjV7wCvIKrF54WWG1Zd2",
   "name": "세종_교육수준별 거주기간.ipynb",
   "provenance": []
  },
  "kernelspec": {
   "display_name": "Python 3",
   "language": "python",
   "name": "python3"
  },
  "language_info": {
   "codemirror_mode": {
    "name": "ipython",
    "version": 3
   },
   "file_extension": ".py",
   "mimetype": "text/x-python",
   "name": "python",
   "nbconvert_exporter": "python",
   "pygments_lexer": "ipython3",
   "version": "3.8.5"
  }
 },
 "nbformat": 4,
 "nbformat_minor": 1
}
