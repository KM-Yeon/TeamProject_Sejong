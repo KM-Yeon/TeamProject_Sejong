{
 "cells": [
  {
   "cell_type": "code",
   "execution_count": 1,
   "metadata": {
    "id": "09b-yOATXoTw"
   },
   "outputs": [],
   "source": [
    "import pandas as pd\n",
    "import numpy as np\n",
    "import matplotlib.pyplot as plt\n",
    "import seaborn as sns"
   ]
  },
  {
   "cell_type": "code",
   "execution_count": 2,
   "metadata": {
    "colab": {
     "base_uri": "https://localhost:8080/",
     "height": 198
    },
    "id": "BnY0Qz24XsIo",
    "outputId": "4e177d74-7e99-4fc0-bab8-38f361e2e6f2"
   },
   "outputs": [
    {
     "data": {
      "text/html": [
       "<div>\n",
       "<style scoped>\n",
       "    .dataframe tbody tr th:only-of-type {\n",
       "        vertical-align: middle;\n",
       "    }\n",
       "\n",
       "    .dataframe tbody tr th {\n",
       "        vertical-align: top;\n",
       "    }\n",
       "\n",
       "    .dataframe thead th {\n",
       "        text-align: right;\n",
       "    }\n",
       "</style>\n",
       "<table border=\"1\" class=\"dataframe\">\n",
       "  <thead>\n",
       "    <tr style=\"text-align: right;\">\n",
       "      <th></th>\n",
       "      <th>중분류</th>\n",
       "      <th>소분류</th>\n",
       "      <th>100만원 미만</th>\n",
       "      <th>100~200만원 미만</th>\n",
       "      <th>200~300만원 미만</th>\n",
       "      <th>300~400만원 미만</th>\n",
       "      <th>400~500만원 미만</th>\n",
       "      <th>500~600만원 미만</th>\n",
       "      <th>600~700만원 미만</th>\n",
       "      <th>700만원 이상</th>\n",
       "    </tr>\n",
       "  </thead>\n",
       "  <tbody>\n",
       "    <tr>\n",
       "      <th>0</th>\n",
       "      <td>전체</td>\n",
       "      <td>소계</td>\n",
       "      <td>10.9</td>\n",
       "      <td>11.0</td>\n",
       "      <td>14.6</td>\n",
       "      <td>17.8</td>\n",
       "      <td>16.4</td>\n",
       "      <td>11.9</td>\n",
       "      <td>7.3</td>\n",
       "      <td>10.1</td>\n",
       "    </tr>\n",
       "    <tr>\n",
       "      <th>1</th>\n",
       "      <td>읍·면·동별</td>\n",
       "      <td>조치원읍</td>\n",
       "      <td>25.7</td>\n",
       "      <td>18.6</td>\n",
       "      <td>16.6</td>\n",
       "      <td>13.3</td>\n",
       "      <td>12.7</td>\n",
       "      <td>6.6</td>\n",
       "      <td>3.2</td>\n",
       "      <td>3.3</td>\n",
       "    </tr>\n",
       "    <tr>\n",
       "      <th>2</th>\n",
       "      <td>읍·면·동별</td>\n",
       "      <td>면지역</td>\n",
       "      <td>22.7</td>\n",
       "      <td>21.0</td>\n",
       "      <td>21.2</td>\n",
       "      <td>16.7</td>\n",
       "      <td>9.1</td>\n",
       "      <td>5</td>\n",
       "      <td>1.3</td>\n",
       "      <td>3.1</td>\n",
       "    </tr>\n",
       "    <tr>\n",
       "      <th>3</th>\n",
       "      <td>읍·면·동별</td>\n",
       "      <td>동지역</td>\n",
       "      <td>2.6</td>\n",
       "      <td>5.4</td>\n",
       "      <td>11.8</td>\n",
       "      <td>19.4</td>\n",
       "      <td>19.9</td>\n",
       "      <td>15.8</td>\n",
       "      <td>10.6</td>\n",
       "      <td>14.4</td>\n",
       "    </tr>\n",
       "    <tr>\n",
       "      <th>4</th>\n",
       "      <td>성별</td>\n",
       "      <td>남자</td>\n",
       "      <td>7.3</td>\n",
       "      <td>8.5</td>\n",
       "      <td>13.6</td>\n",
       "      <td>19.3</td>\n",
       "      <td>18.0</td>\n",
       "      <td>13.3</td>\n",
       "      <td>8.2</td>\n",
       "      <td>11.9</td>\n",
       "    </tr>\n",
       "  </tbody>\n",
       "</table>\n",
       "</div>"
      ],
      "text/plain": [
       "      중분류   소분류 100만원 미만  ...  500~600만원 미만  600~700만원 미만  700만원 이상\n",
       "0      전체    소계     10.9  ...          11.9           7.3      10.1\n",
       "1  읍·면·동별  조치원읍     25.7  ...           6.6           3.2       3.3\n",
       "2  읍·면·동별   면지역     22.7  ...             5           1.3       3.1\n",
       "3  읍·면·동별   동지역      2.6  ...          15.8          10.6      14.4\n",
       "4      성별    남자      7.3  ...          13.3           8.2      11.9\n",
       "\n",
       "[5 rows x 10 columns]"
      ]
     },
     "execution_count": 2,
     "metadata": {
      "tags": []
     },
     "output_type": "execute_result"
    }
   ],
   "source": [
    "df = pd.read_csv(\"/content/drive/MyDrive/세종시/data/27.세종시_월평균_가구소득.csv\")\n",
    "df.head()"
   ]
  },
  {
   "cell_type": "code",
   "execution_count": 3,
   "metadata": {
    "colab": {
     "base_uri": "https://localhost:8080/",
     "height": 138
    },
    "id": "8KzWoB7lXsLf",
    "outputId": "626a2578-91c0-4b76-e976-3862ffc1a402"
   },
   "outputs": [
    {
     "data": {
      "text/html": [
       "<div>\n",
       "<style scoped>\n",
       "    .dataframe tbody tr th:only-of-type {\n",
       "        vertical-align: middle;\n",
       "    }\n",
       "\n",
       "    .dataframe tbody tr th {\n",
       "        vertical-align: top;\n",
       "    }\n",
       "\n",
       "    .dataframe thead th {\n",
       "        text-align: right;\n",
       "    }\n",
       "</style>\n",
       "<table border=\"1\" class=\"dataframe\">\n",
       "  <thead>\n",
       "    <tr style=\"text-align: right;\">\n",
       "      <th></th>\n",
       "      <th>중분류</th>\n",
       "      <th>소분류</th>\n",
       "      <th>100만원 미만</th>\n",
       "      <th>100~200만원 미만</th>\n",
       "      <th>200~300만원 미만</th>\n",
       "      <th>300~400만원 미만</th>\n",
       "      <th>400~500만원 미만</th>\n",
       "      <th>500~600만원 미만</th>\n",
       "      <th>600~700만원 미만</th>\n",
       "      <th>700만원 이상</th>\n",
       "    </tr>\n",
       "  </thead>\n",
       "  <tbody>\n",
       "    <tr>\n",
       "      <th>1</th>\n",
       "      <td>읍·면·동별</td>\n",
       "      <td>조치원읍</td>\n",
       "      <td>25.7</td>\n",
       "      <td>18.6</td>\n",
       "      <td>16.6</td>\n",
       "      <td>13.3</td>\n",
       "      <td>12.7</td>\n",
       "      <td>6.6</td>\n",
       "      <td>3.2</td>\n",
       "      <td>3.3</td>\n",
       "    </tr>\n",
       "    <tr>\n",
       "      <th>2</th>\n",
       "      <td>읍·면·동별</td>\n",
       "      <td>면지역</td>\n",
       "      <td>22.7</td>\n",
       "      <td>21.0</td>\n",
       "      <td>21.2</td>\n",
       "      <td>16.7</td>\n",
       "      <td>9.1</td>\n",
       "      <td>5</td>\n",
       "      <td>1.3</td>\n",
       "      <td>3.1</td>\n",
       "    </tr>\n",
       "    <tr>\n",
       "      <th>3</th>\n",
       "      <td>읍·면·동별</td>\n",
       "      <td>동지역</td>\n",
       "      <td>2.6</td>\n",
       "      <td>5.4</td>\n",
       "      <td>11.8</td>\n",
       "      <td>19.4</td>\n",
       "      <td>19.9</td>\n",
       "      <td>15.8</td>\n",
       "      <td>10.6</td>\n",
       "      <td>14.4</td>\n",
       "    </tr>\n",
       "  </tbody>\n",
       "</table>\n",
       "</div>"
      ],
      "text/plain": [
       "      중분류   소분류 100만원 미만  ...  500~600만원 미만  600~700만원 미만  700만원 이상\n",
       "1  읍·면·동별  조치원읍     25.7  ...           6.6           3.2       3.3\n",
       "2  읍·면·동별   면지역     22.7  ...             5           1.3       3.1\n",
       "3  읍·면·동별   동지역      2.6  ...          15.8          10.6      14.4\n",
       "\n",
       "[3 rows x 10 columns]"
      ]
     },
     "execution_count": 3,
     "metadata": {
      "tags": []
     },
     "output_type": "execute_result"
    }
   ],
   "source": [
    "df = df[1:4]\n",
    "df"
   ]
  },
  {
   "cell_type": "code",
   "execution_count": 4,
   "metadata": {
    "colab": {
     "base_uri": "https://localhost:8080/",
     "height": 138
    },
    "id": "ixDQwUKYXsOK",
    "outputId": "406897f3-eac4-420a-ee49-8c47fe3da4f4"
   },
   "outputs": [
    {
     "data": {
      "text/html": [
       "<div>\n",
       "<style scoped>\n",
       "    .dataframe tbody tr th:only-of-type {\n",
       "        vertical-align: middle;\n",
       "    }\n",
       "\n",
       "    .dataframe tbody tr th {\n",
       "        vertical-align: top;\n",
       "    }\n",
       "\n",
       "    .dataframe thead th {\n",
       "        text-align: right;\n",
       "    }\n",
       "</style>\n",
       "<table border=\"1\" class=\"dataframe\">\n",
       "  <thead>\n",
       "    <tr style=\"text-align: right;\">\n",
       "      <th></th>\n",
       "      <th>소분류</th>\n",
       "      <th>100만원 미만</th>\n",
       "      <th>100~200만원 미만</th>\n",
       "      <th>200~300만원 미만</th>\n",
       "      <th>300~400만원 미만</th>\n",
       "      <th>400~500만원 미만</th>\n",
       "      <th>500~600만원 미만</th>\n",
       "      <th>600~700만원 미만</th>\n",
       "      <th>700만원 이상</th>\n",
       "    </tr>\n",
       "  </thead>\n",
       "  <tbody>\n",
       "    <tr>\n",
       "      <th>1</th>\n",
       "      <td>조치원읍</td>\n",
       "      <td>25.7</td>\n",
       "      <td>18.6</td>\n",
       "      <td>16.6</td>\n",
       "      <td>13.3</td>\n",
       "      <td>12.7</td>\n",
       "      <td>6.6</td>\n",
       "      <td>3.2</td>\n",
       "      <td>3.3</td>\n",
       "    </tr>\n",
       "    <tr>\n",
       "      <th>2</th>\n",
       "      <td>면지역</td>\n",
       "      <td>22.7</td>\n",
       "      <td>21.0</td>\n",
       "      <td>21.2</td>\n",
       "      <td>16.7</td>\n",
       "      <td>9.1</td>\n",
       "      <td>5</td>\n",
       "      <td>1.3</td>\n",
       "      <td>3.1</td>\n",
       "    </tr>\n",
       "    <tr>\n",
       "      <th>3</th>\n",
       "      <td>동지역</td>\n",
       "      <td>2.6</td>\n",
       "      <td>5.4</td>\n",
       "      <td>11.8</td>\n",
       "      <td>19.4</td>\n",
       "      <td>19.9</td>\n",
       "      <td>15.8</td>\n",
       "      <td>10.6</td>\n",
       "      <td>14.4</td>\n",
       "    </tr>\n",
       "  </tbody>\n",
       "</table>\n",
       "</div>"
      ],
      "text/plain": [
       "    소분류 100만원 미만  100~200만원 미만  ...  500~600만원 미만  600~700만원 미만  700만원 이상\n",
       "1  조치원읍     25.7          18.6  ...           6.6           3.2       3.3\n",
       "2   면지역     22.7          21.0  ...             5           1.3       3.1\n",
       "3   동지역      2.6           5.4  ...          15.8          10.6      14.4\n",
       "\n",
       "[3 rows x 9 columns]"
      ]
     },
     "execution_count": 4,
     "metadata": {
      "tags": []
     },
     "output_type": "execute_result"
    }
   ],
   "source": [
    "df = df.drop(['중분류'], axis=1)\n",
    "df"
   ]
  },
  {
   "cell_type": "code",
   "execution_count": 5,
   "metadata": {
    "colab": {
     "base_uri": "https://localhost:8080/",
     "height": 168
    },
    "id": "9ronu0z_XsQk",
    "outputId": "60d6a5ab-858f-48df-e3d8-61eb0f3600d7"
   },
   "outputs": [
    {
     "data": {
      "text/html": [
       "<div>\n",
       "<style scoped>\n",
       "    .dataframe tbody tr th:only-of-type {\n",
       "        vertical-align: middle;\n",
       "    }\n",
       "\n",
       "    .dataframe tbody tr th {\n",
       "        vertical-align: top;\n",
       "    }\n",
       "\n",
       "    .dataframe thead th {\n",
       "        text-align: right;\n",
       "    }\n",
       "</style>\n",
       "<table border=\"1\" class=\"dataframe\">\n",
       "  <thead>\n",
       "    <tr style=\"text-align: right;\">\n",
       "      <th></th>\n",
       "      <th>100만원 미만</th>\n",
       "      <th>100~200만원 미만</th>\n",
       "      <th>200~300만원 미만</th>\n",
       "      <th>300~400만원 미만</th>\n",
       "      <th>400~500만원 미만</th>\n",
       "      <th>500~600만원 미만</th>\n",
       "      <th>600~700만원 미만</th>\n",
       "      <th>700만원 이상</th>\n",
       "    </tr>\n",
       "    <tr>\n",
       "      <th>소분류</th>\n",
       "      <th></th>\n",
       "      <th></th>\n",
       "      <th></th>\n",
       "      <th></th>\n",
       "      <th></th>\n",
       "      <th></th>\n",
       "      <th></th>\n",
       "      <th></th>\n",
       "    </tr>\n",
       "  </thead>\n",
       "  <tbody>\n",
       "    <tr>\n",
       "      <th>조치원읍</th>\n",
       "      <td>25.7</td>\n",
       "      <td>18.6</td>\n",
       "      <td>16.6</td>\n",
       "      <td>13.3</td>\n",
       "      <td>12.7</td>\n",
       "      <td>6.6</td>\n",
       "      <td>3.2</td>\n",
       "      <td>3.3</td>\n",
       "    </tr>\n",
       "    <tr>\n",
       "      <th>면지역</th>\n",
       "      <td>22.7</td>\n",
       "      <td>21.0</td>\n",
       "      <td>21.2</td>\n",
       "      <td>16.7</td>\n",
       "      <td>9.1</td>\n",
       "      <td>5</td>\n",
       "      <td>1.3</td>\n",
       "      <td>3.1</td>\n",
       "    </tr>\n",
       "    <tr>\n",
       "      <th>동지역</th>\n",
       "      <td>2.6</td>\n",
       "      <td>5.4</td>\n",
       "      <td>11.8</td>\n",
       "      <td>19.4</td>\n",
       "      <td>19.9</td>\n",
       "      <td>15.8</td>\n",
       "      <td>10.6</td>\n",
       "      <td>14.4</td>\n",
       "    </tr>\n",
       "  </tbody>\n",
       "</table>\n",
       "</div>"
      ],
      "text/plain": [
       "     100만원 미만  100~200만원 미만  200~300만원 미만  ...  500~600만원 미만  600~700만원 미만 700만원 이상\n",
       "소분류                                        ...                                     \n",
       "조치원읍     25.7          18.6          16.6  ...           6.6           3.2      3.3\n",
       "면지역      22.7          21.0          21.2  ...             5           1.3      3.1\n",
       "동지역       2.6           5.4          11.8  ...          15.8          10.6     14.4\n",
       "\n",
       "[3 rows x 8 columns]"
      ]
     },
     "execution_count": 5,
     "metadata": {
      "tags": []
     },
     "output_type": "execute_result"
    }
   ],
   "source": [
    "df = df.set_index('소분류')\n",
    "df"
   ]
  },
  {
   "cell_type": "code",
   "execution_count": 6,
   "metadata": {
    "id": "ROTBH4dkZ2xQ"
   },
   "outputs": [],
   "source": [
    "df = df.replace('-', '0')"
   ]
  },
  {
   "cell_type": "code",
   "execution_count": 7,
   "metadata": {
    "colab": {
     "base_uri": "https://localhost:8080/"
    },
    "id": "PUKwSqRaZ2rf",
    "outputId": "df9dfa42-f3fe-429f-8533-8ce31e6f96a7"
   },
   "outputs": [
    {
     "name": "stdout",
     "output_type": "stream",
     "text": [
      "<class 'pandas.core.frame.DataFrame'>\n",
      "Index: 3 entries, 조치원읍 to 동지역\n",
      "Data columns (total 8 columns):\n",
      " #   Column        Non-Null Count  Dtype  \n",
      "---  ------        --------------  -----  \n",
      " 0   100만원 미만      3 non-null      float64\n",
      " 1   100~200만원 미만  3 non-null      float64\n",
      " 2   200~300만원 미만  3 non-null      float64\n",
      " 3   300~400만원 미만  3 non-null      float64\n",
      " 4   400~500만원 미만  3 non-null      float64\n",
      " 5   500~600만원 미만  3 non-null      float64\n",
      " 6   600~700만원 미만  3 non-null      float64\n",
      " 7   700만원 이상      3 non-null      float64\n",
      "dtypes: float64(8)\n",
      "memory usage: 216.0+ bytes\n"
     ]
    }
   ],
   "source": [
    "df[['100만원 미만', '500~600만원 미만', '600~700만원 미만', '700만원 이상']] = df[['100만원 미만', '500~600만원 미만', '600~700만원 미만', '700만원 이상']].apply(pd.to_numeric)\n",
    "df.info()"
   ]
  },
  {
   "cell_type": "code",
   "execution_count": 8,
   "metadata": {
    "colab": {
     "base_uri": "https://localhost:8080/",
     "height": 168
    },
    "id": "6bu3cppPZ2oz",
    "outputId": "dd00ac59-ddf2-4a4c-9351-5f9df307efb3"
   },
   "outputs": [
    {
     "data": {
      "text/html": [
       "<div>\n",
       "<style scoped>\n",
       "    .dataframe tbody tr th:only-of-type {\n",
       "        vertical-align: middle;\n",
       "    }\n",
       "\n",
       "    .dataframe tbody tr th {\n",
       "        vertical-align: top;\n",
       "    }\n",
       "\n",
       "    .dataframe thead th {\n",
       "        text-align: right;\n",
       "    }\n",
       "</style>\n",
       "<table border=\"1\" class=\"dataframe\">\n",
       "  <thead>\n",
       "    <tr style=\"text-align: right;\">\n",
       "      <th></th>\n",
       "      <th>100만원 미만</th>\n",
       "      <th>100~200만원 미만</th>\n",
       "      <th>200~300만원 미만</th>\n",
       "      <th>300~400만원 미만</th>\n",
       "      <th>400~500만원 미만</th>\n",
       "      <th>500~600만원 미만</th>\n",
       "      <th>600~700만원 미만</th>\n",
       "      <th>700만원 이상</th>\n",
       "    </tr>\n",
       "    <tr>\n",
       "      <th>소분류</th>\n",
       "      <th></th>\n",
       "      <th></th>\n",
       "      <th></th>\n",
       "      <th></th>\n",
       "      <th></th>\n",
       "      <th></th>\n",
       "      <th></th>\n",
       "      <th></th>\n",
       "    </tr>\n",
       "  </thead>\n",
       "  <tbody>\n",
       "    <tr>\n",
       "      <th>조치원읍</th>\n",
       "      <td>25.7</td>\n",
       "      <td>18.6</td>\n",
       "      <td>16.6</td>\n",
       "      <td>13.3</td>\n",
       "      <td>12.7</td>\n",
       "      <td>6.6</td>\n",
       "      <td>3.2</td>\n",
       "      <td>3.3</td>\n",
       "    </tr>\n",
       "    <tr>\n",
       "      <th>면지역</th>\n",
       "      <td>22.7</td>\n",
       "      <td>21.0</td>\n",
       "      <td>21.2</td>\n",
       "      <td>16.7</td>\n",
       "      <td>9.1</td>\n",
       "      <td>5.0</td>\n",
       "      <td>1.3</td>\n",
       "      <td>3.1</td>\n",
       "    </tr>\n",
       "    <tr>\n",
       "      <th>동지역</th>\n",
       "      <td>2.6</td>\n",
       "      <td>5.4</td>\n",
       "      <td>11.8</td>\n",
       "      <td>19.4</td>\n",
       "      <td>19.9</td>\n",
       "      <td>15.8</td>\n",
       "      <td>10.6</td>\n",
       "      <td>14.4</td>\n",
       "    </tr>\n",
       "  </tbody>\n",
       "</table>\n",
       "</div>"
      ],
      "text/plain": [
       "      100만원 미만  100~200만원 미만  ...  600~700만원 미만  700만원 이상\n",
       "소분류                           ...                        \n",
       "조치원읍      25.7          18.6  ...           3.2       3.3\n",
       "면지역       22.7          21.0  ...           1.3       3.1\n",
       "동지역        2.6           5.4  ...          10.6      14.4\n",
       "\n",
       "[3 rows x 8 columns]"
      ]
     },
     "execution_count": 8,
     "metadata": {
      "tags": []
     },
     "output_type": "execute_result"
    }
   ],
   "source": [
    "df"
   ]
  },
  {
   "cell_type": "code",
   "execution_count": 9,
   "metadata": {
    "colab": {
     "base_uri": "https://localhost:8080/",
     "height": 203
    },
    "id": "edEjgncyXsVa",
    "outputId": "5298e59a-0b8f-4a06-c2b6-57a4a5c13798"
   },
   "outputs": [
    {
     "data": {
      "text/html": [
       "<div>\n",
       "<style scoped>\n",
       "    .dataframe tbody tr th:only-of-type {\n",
       "        vertical-align: middle;\n",
       "    }\n",
       "\n",
       "    .dataframe tbody tr th {\n",
       "        vertical-align: top;\n",
       "    }\n",
       "\n",
       "    .dataframe thead th {\n",
       "        text-align: right;\n",
       "    }\n",
       "</style>\n",
       "<table border=\"1\" class=\"dataframe\">\n",
       "  <thead>\n",
       "    <tr style=\"text-align: right;\">\n",
       "      <th></th>\n",
       "      <th>100만원 미만</th>\n",
       "      <th>100~200만원 미만</th>\n",
       "      <th>200~300만원 미만</th>\n",
       "      <th>300~400만원 미만</th>\n",
       "      <th>400~500만원 미만</th>\n",
       "      <th>500~600만원 미만</th>\n",
       "      <th>600~700만원 미만</th>\n",
       "      <th>700만원 이상</th>\n",
       "      <th>저소득층</th>\n",
       "      <th>중산층</th>\n",
       "      <th>고소득층</th>\n",
       "    </tr>\n",
       "    <tr>\n",
       "      <th>소분류</th>\n",
       "      <th></th>\n",
       "      <th></th>\n",
       "      <th></th>\n",
       "      <th></th>\n",
       "      <th></th>\n",
       "      <th></th>\n",
       "      <th></th>\n",
       "      <th></th>\n",
       "      <th></th>\n",
       "      <th></th>\n",
       "      <th></th>\n",
       "    </tr>\n",
       "  </thead>\n",
       "  <tbody>\n",
       "    <tr>\n",
       "      <th>조치원읍</th>\n",
       "      <td>25.7</td>\n",
       "      <td>18.6</td>\n",
       "      <td>16.6</td>\n",
       "      <td>13.3</td>\n",
       "      <td>12.7</td>\n",
       "      <td>6.6</td>\n",
       "      <td>3.2</td>\n",
       "      <td>3.3</td>\n",
       "      <td>44.3</td>\n",
       "      <td>52.4</td>\n",
       "      <td>3.3</td>\n",
       "    </tr>\n",
       "    <tr>\n",
       "      <th>면지역</th>\n",
       "      <td>22.7</td>\n",
       "      <td>21.0</td>\n",
       "      <td>21.2</td>\n",
       "      <td>16.7</td>\n",
       "      <td>9.1</td>\n",
       "      <td>5.0</td>\n",
       "      <td>1.3</td>\n",
       "      <td>3.1</td>\n",
       "      <td>43.7</td>\n",
       "      <td>53.3</td>\n",
       "      <td>3.1</td>\n",
       "    </tr>\n",
       "    <tr>\n",
       "      <th>동지역</th>\n",
       "      <td>2.6</td>\n",
       "      <td>5.4</td>\n",
       "      <td>11.8</td>\n",
       "      <td>19.4</td>\n",
       "      <td>19.9</td>\n",
       "      <td>15.8</td>\n",
       "      <td>10.6</td>\n",
       "      <td>14.4</td>\n",
       "      <td>8.0</td>\n",
       "      <td>77.5</td>\n",
       "      <td>14.4</td>\n",
       "    </tr>\n",
       "  </tbody>\n",
       "</table>\n",
       "</div>"
      ],
      "text/plain": [
       "      100만원 미만  100~200만원 미만  200~300만원 미만  ...  저소득층   중산층  고소득층\n",
       "소분류                                         ...                  \n",
       "조치원읍      25.7          18.6          16.6  ...  44.3  52.4   3.3\n",
       "면지역       22.7          21.0          21.2  ...  43.7  53.3   3.1\n",
       "동지역        2.6           5.4          11.8  ...   8.0  77.5  14.4\n",
       "\n",
       "[3 rows x 11 columns]"
      ]
     },
     "execution_count": 9,
     "metadata": {
      "tags": []
     },
     "output_type": "execute_result"
    }
   ],
   "source": [
    "df['저소득층'] = df['100만원 미만']+df['100~200만원 미만']\n",
    "df['중산층'] = df['200~300만원 미만']+df['300~400만원 미만']+df['400~500만원 미만']+df['500~600만원 미만']+df['600~700만원 미만']\n",
    "df['고소득층'] = df['700만원 이상']\n",
    "df"
   ]
  },
  {
   "cell_type": "code",
   "execution_count": 10,
   "metadata": {
    "colab": {
     "base_uri": "https://localhost:8080/",
     "height": 168
    },
    "id": "s_Zi3gB7XsX0",
    "outputId": "388460a1-6ec6-4daf-ffe9-53de9048a9fb"
   },
   "outputs": [
    {
     "data": {
      "text/html": [
       "<div>\n",
       "<style scoped>\n",
       "    .dataframe tbody tr th:only-of-type {\n",
       "        vertical-align: middle;\n",
       "    }\n",
       "\n",
       "    .dataframe tbody tr th {\n",
       "        vertical-align: top;\n",
       "    }\n",
       "\n",
       "    .dataframe thead th {\n",
       "        text-align: right;\n",
       "    }\n",
       "</style>\n",
       "<table border=\"1\" class=\"dataframe\">\n",
       "  <thead>\n",
       "    <tr style=\"text-align: right;\">\n",
       "      <th></th>\n",
       "      <th>저소득층</th>\n",
       "      <th>중산층</th>\n",
       "      <th>고소득층</th>\n",
       "    </tr>\n",
       "    <tr>\n",
       "      <th>소분류</th>\n",
       "      <th></th>\n",
       "      <th></th>\n",
       "      <th></th>\n",
       "    </tr>\n",
       "  </thead>\n",
       "  <tbody>\n",
       "    <tr>\n",
       "      <th>조치원읍</th>\n",
       "      <td>44.3</td>\n",
       "      <td>52.4</td>\n",
       "      <td>3.3</td>\n",
       "    </tr>\n",
       "    <tr>\n",
       "      <th>면지역</th>\n",
       "      <td>43.7</td>\n",
       "      <td>53.3</td>\n",
       "      <td>3.1</td>\n",
       "    </tr>\n",
       "    <tr>\n",
       "      <th>동지역</th>\n",
       "      <td>8.0</td>\n",
       "      <td>77.5</td>\n",
       "      <td>14.4</td>\n",
       "    </tr>\n",
       "  </tbody>\n",
       "</table>\n",
       "</div>"
      ],
      "text/plain": [
       "      저소득층   중산층  고소득층\n",
       "소분류                   \n",
       "조치원읍  44.3  52.4   3.3\n",
       "면지역   43.7  53.3   3.1\n",
       "동지역    8.0  77.5  14.4"
      ]
     },
     "execution_count": 10,
     "metadata": {
      "tags": []
     },
     "output_type": "execute_result"
    }
   ],
   "source": [
    "df.drop(['100만원 미만','100~200만원 미만','200~300만원 미만','300~400만원 미만','400~500만원 미만','500~600만원 미만','600~700만원 미만','700만원 이상'],axis=1, inplace=True)\n",
    "df"
   ]
  },
  {
   "cell_type": "code",
   "execution_count": 11,
   "metadata": {
    "id": "8unqx-I8ckvk"
   },
   "outputs": [],
   "source": [
    "# !sudo apt-get install -y fonts-nanum\n",
    "# !sudo fc-cache -fv\n",
    "# !rm ~/.cache/matplotlib -rf"
   ]
  },
  {
   "cell_type": "code",
   "execution_count": 12,
   "metadata": {
    "id": "803lPCFNcmU-"
   },
   "outputs": [],
   "source": [
    "plt.rc('font', family='NanumBarunGothic')"
   ]
  },
  {
   "cell_type": "code",
   "execution_count": 14,
   "metadata": {
    "colab": {
     "base_uri": "https://localhost:8080/",
     "height": 421
    },
    "id": "qprHHvYQb83v",
    "outputId": "797abd8b-aa95-460f-de9c-704ea358a874"
   },
   "outputs": [
    {
     "data": {
      "text/plain": [
       "(array([0, 1, 2]), <a list of 3 Text major ticklabel objects>)"
      ]
     },
     "execution_count": 14,
     "metadata": {
      "tags": []
     },
     "output_type": "execute_result"
    },
    {
     "data": {
      "image/png": "[encoded data removed]",
      "text/plain": [
       "<Figure size 792x432 with 1 Axes>"
      ]
     },
     "metadata": {
      "needs_background": "light",
      "tags": []
     },
     "output_type": "display_data"
    }
   ],
   "source": [
    "df.plot(kind='bar', figsize=(11,6), stacked=False, alpha=0.7)\n",
    "plt.title('주거 지역 별 가구 소득')\n",
    "plt.xlabel('주거 지역')\n",
    "plt.ylabel('평균 가구 소득')\n",
    "plt.xticks(rotation = 0 )"
   ]
  },
  {
   "cell_type": "code",
   "execution_count": null,
   "metadata": {
    "id": "P-KOCe1Yb81W"
   },
   "outputs": [],
   "source": []
  },
  {
   "cell_type": "code",
   "execution_count": null,
   "metadata": {
    "id": "wImAU8nGb8yp"
   },
   "outputs": [],
   "source": []
  },
  {
   "cell_type": "code",
   "execution_count": null,
   "metadata": {
    "id": "Ag5mFq6Ub8g3"
   },
   "outputs": [],
   "source": []
  }
 ],
 "metadata": {
  "colab": {
   "name": "주거지역별_평균소득.ipynb",
   "provenance": []
  },
  "kernelspec": {
   "display_name": "Python 3",
   "language": "python",
   "name": "python3"
  },
  "language_info": {
   "codemirror_mode": {
    "name": "ipython",
    "version": 3
   },
   "file_extension": ".py",
   "mimetype": "text/x-python",
   "name": "python",
   "nbconvert_exporter": "python",
   "pygments_lexer": "ipython3",
   "version": "3.8.5"
  }
 },
 "nbformat": 4,
 "nbformat_minor": 1
}
