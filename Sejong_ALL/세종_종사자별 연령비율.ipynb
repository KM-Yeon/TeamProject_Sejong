{
 "cells": [
  {
   "cell_type": "code",
   "execution_count": null,
   "metadata": {
    "colab": {
     "base_uri": "https://localhost:8080/"
    },
    "executionInfo": {
     "elapsed": 12271,
     "status": "ok",
     "timestamp": 1616491823109,
     "user": {
      "displayName": "사막과 바다 한가운데",
      "photoUrl": "",
      "userId": "15376273703893512404"
     },
     "user_tz": -540
    },
    "id": "-L---cT44PZk",
    "outputId": "b28efa30-0341-4457-b5a2-5fdc9967880f"
   },
   "outputs": [
    {
     "name": "stdout",
     "output_type": "stream",
     "text": [
      "Reading package lists... Done\n",
      "Building dependency tree       \n",
      "Reading state information... Done\n",
      "The following NEW packages will be installed:\n",
      "  fonts-nanum\n",
      "0 upgraded, 1 newly installed, 0 to remove and 30 not upgraded.\n",
      "Need to get 9,604 kB of archives.\n",
      "After this operation, 29.5 MB of additional disk space will be used.\n",
      "Get:1 http://archive.ubuntu.com/ubuntu bionic/universe amd64 fonts-nanum all 20170925-1 [9,604 kB]\n",
      "Fetched 9,604 kB in 1s (8,932 kB/s)\n",
      "debconf: unable to initialize frontend: Dialog\n",
      "debconf: (No usable dialog-like program is installed, so the dialog based frontend cannot be used. at /usr/share/perl5/Debconf/FrontEnd/Dialog.pm line 76, <> line 1.)\n",
      "debconf: falling back to frontend: Readline\n",
      "debconf: unable to initialize frontend: Readline\n",
      "debconf: (This frontend requires a controlling tty.)\n",
      "debconf: falling back to frontend: Teletype\n",
      "dpkg-preconfigure: unable to re-open stdin: \n",
      "Selecting previously unselected package fonts-nanum.\n",
      "(Reading database ... 160980 files and directories currently installed.)\n",
      "Preparing to unpack .../fonts-nanum_20170925-1_all.deb ...\n",
      "Unpacking fonts-nanum (20170925-1) ...\n",
      "Setting up fonts-nanum (20170925-1) ...\n",
      "Processing triggers for fontconfig (2.12.6-0ubuntu2) ...\n",
      "/usr/share/fonts: caching, new cache contents: 0 fonts, 1 dirs\n",
      "/usr/share/fonts/truetype: caching, new cache contents: 0 fonts, 3 dirs\n",
      "/usr/share/fonts/truetype/humor-sans: caching, new cache contents: 1 fonts, 0 dirs\n",
      "/usr/share/fonts/truetype/liberation: caching, new cache contents: 16 fonts, 0 dirs\n",
      "/usr/share/fonts/truetype/nanum: caching, new cache contents: 10 fonts, 0 dirs\n",
      "/usr/local/share/fonts: caching, new cache contents: 0 fonts, 0 dirs\n",
      "/root/.local/share/fonts: skipping, no such directory\n",
      "/root/.fonts: skipping, no such directory\n",
      "/var/cache/fontconfig: cleaning cache directory\n",
      "/root/.cache/fontconfig: not cleaning non-existent cache directory\n",
      "/root/.fontconfig: not cleaning non-existent cache directory\n",
      "fc-cache: succeeded\n"
     ]
    }
   ],
   "source": [
    "# !sudo apt-get install -y fonts-nanum\n",
    "# !sudo fc-cache -fv\n",
    "# !rm ~/.cache/matplotlib -rf"
   ]
  },
  {
   "cell_type": "code",
   "execution_count": null,
   "metadata": {
    "id": "5MFCkVmu44hO"
   },
   "outputs": [],
   "source": [
    "import pandas as pd\n",
    "import numpy as np\n",
    "import matplotlib.pyplot as plt\n",
    "import seaborn as sns"
   ]
  },
  {
   "cell_type": "code",
   "execution_count": null,
   "metadata": {
    "id": "Cz_pqnaP47FY"
   },
   "outputs": [],
   "source": [
    "plt.rc('font', family='NanumBarunGothic') "
   ]
  },
  {
   "cell_type": "code",
   "execution_count": null,
   "metadata": {
    "id": "7_7iO90f47b8"
   },
   "outputs": [],
   "source": [
    "df = pd.read_csv(\"/content/drive/MyDrive/Colab Notebooks/세종시/세종시_산업_대표자연령대별_사업체수.csv\", encoding='cp949')"
   ]
  },
  {
   "cell_type": "code",
   "execution_count": null,
   "metadata": {
    "colab": {
     "base_uri": "https://localhost:8080/"
    },
    "executionInfo": {
     "elapsed": 555,
     "status": "ok",
     "timestamp": 1616495959020,
     "user": {
      "displayName": "사막과 바다 한가운데",
      "photoUrl": "",
      "userId": "15376273703893512404"
     },
     "user_tz": -540
    },
    "id": "mZ5c9Y065Ar-",
    "outputId": "8338eab0-b6f7-48cc-8d95-492ea28d4fc3"
   },
   "outputs": [
    {
     "name": "stdout",
     "output_type": "stream",
     "text": [
      "<class 'pandas.core.frame.DataFrame'>\n",
      "RangeIndex: 117 entries, 0 to 116\n",
      "Data columns (total 6 columns):\n",
      " #   Column  Non-Null Count  Dtype \n",
      "---  ------  --------------  ----- \n",
      " 0   행정구역별   117 non-null    object\n",
      " 1   산업별     117 non-null    object\n",
      " 2   대표자연령대  117 non-null    object\n",
      " 3   2017    117 non-null    object\n",
      " 4   2018    117 non-null    object\n",
      " 5   2019    117 non-null    object\n",
      "dtypes: object(6)\n",
      "memory usage: 5.6+ KB\n"
     ]
    }
   ],
   "source": [
    "df.info()"
   ]
  },
  {
   "cell_type": "code",
   "execution_count": null,
   "metadata": {
    "colab": {
     "base_uri": "https://localhost:8080/",
     "height": 415
    },
    "executionInfo": {
     "elapsed": 395,
     "status": "ok",
     "timestamp": 1616495959829,
     "user": {
      "displayName": "사막과 바다 한가운데",
      "photoUrl": "",
      "userId": "15376273703893512404"
     },
     "user_tz": -540
    },
    "id": "C6DmghQCC1Cv",
    "outputId": "1ecef712-e87f-47b4-b10d-8e9229899ee9"
   },
   "outputs": [
    {
     "data": {
      "text/html": [
       "<div>\n",
       "<style scoped>\n",
       "    .dataframe tbody tr th:only-of-type {\n",
       "        vertical-align: middle;\n",
       "    }\n",
       "\n",
       "    .dataframe tbody tr th {\n",
       "        vertical-align: top;\n",
       "    }\n",
       "\n",
       "    .dataframe thead th {\n",
       "        text-align: right;\n",
       "    }\n",
       "</style>\n",
       "<table border=\"1\" class=\"dataframe\">\n",
       "  <thead>\n",
       "    <tr style=\"text-align: right;\">\n",
       "      <th></th>\n",
       "      <th>행정구역별</th>\n",
       "      <th>산업별</th>\n",
       "      <th>대표자연령대</th>\n",
       "      <th>2017</th>\n",
       "      <th>2018</th>\n",
       "      <th>2019</th>\n",
       "    </tr>\n",
       "  </thead>\n",
       "  <tbody>\n",
       "    <tr>\n",
       "      <th>0</th>\n",
       "      <td>세종</td>\n",
       "      <td>전체 산업</td>\n",
       "      <td>계</td>\n",
       "      <td>13668</td>\n",
       "      <td>15871</td>\n",
       "      <td>18041</td>\n",
       "    </tr>\n",
       "    <tr>\n",
       "      <th>1</th>\n",
       "      <td>세종</td>\n",
       "      <td>전체 산업</td>\n",
       "      <td>29세 이하</td>\n",
       "      <td>526</td>\n",
       "      <td>582</td>\n",
       "      <td>671</td>\n",
       "    </tr>\n",
       "    <tr>\n",
       "      <th>2</th>\n",
       "      <td>세종</td>\n",
       "      <td>전체 산업</td>\n",
       "      <td>30~39세</td>\n",
       "      <td>2415</td>\n",
       "      <td>2749</td>\n",
       "      <td>2968</td>\n",
       "    </tr>\n",
       "    <tr>\n",
       "      <th>3</th>\n",
       "      <td>세종</td>\n",
       "      <td>전체 산업</td>\n",
       "      <td>40~49세</td>\n",
       "      <td>4193</td>\n",
       "      <td>5022</td>\n",
       "      <td>5669</td>\n",
       "    </tr>\n",
       "    <tr>\n",
       "      <th>4</th>\n",
       "      <td>세종</td>\n",
       "      <td>전체 산업</td>\n",
       "      <td>50~59세</td>\n",
       "      <td>4408</td>\n",
       "      <td>5036</td>\n",
       "      <td>5716</td>\n",
       "    </tr>\n",
       "    <tr>\n",
       "      <th>...</th>\n",
       "      <td>...</td>\n",
       "      <td>...</td>\n",
       "      <td>...</td>\n",
       "      <td>...</td>\n",
       "      <td>...</td>\n",
       "      <td>...</td>\n",
       "    </tr>\n",
       "    <tr>\n",
       "      <th>112</th>\n",
       "      <td>세종</td>\n",
       "      <td>협회 및 단체, 수리 및 기타 개인 서비스업</td>\n",
       "      <td>29세 이하</td>\n",
       "      <td>22</td>\n",
       "      <td>40</td>\n",
       "      <td>45</td>\n",
       "    </tr>\n",
       "    <tr>\n",
       "      <th>113</th>\n",
       "      <td>세종</td>\n",
       "      <td>협회 및 단체, 수리 및 기타 개인 서비스업</td>\n",
       "      <td>30~39세</td>\n",
       "      <td>224</td>\n",
       "      <td>270</td>\n",
       "      <td>263</td>\n",
       "    </tr>\n",
       "    <tr>\n",
       "      <th>114</th>\n",
       "      <td>세종</td>\n",
       "      <td>협회 및 단체, 수리 및 기타 개인 서비스업</td>\n",
       "      <td>40~49세</td>\n",
       "      <td>378</td>\n",
       "      <td>502</td>\n",
       "      <td>605</td>\n",
       "    </tr>\n",
       "    <tr>\n",
       "      <th>115</th>\n",
       "      <td>세종</td>\n",
       "      <td>협회 및 단체, 수리 및 기타 개인 서비스업</td>\n",
       "      <td>50~59세</td>\n",
       "      <td>388</td>\n",
       "      <td>437</td>\n",
       "      <td>508</td>\n",
       "    </tr>\n",
       "    <tr>\n",
       "      <th>116</th>\n",
       "      <td>세종</td>\n",
       "      <td>협회 및 단체, 수리 및 기타 개인 서비스업</td>\n",
       "      <td>60세 이상</td>\n",
       "      <td>260</td>\n",
       "      <td>304</td>\n",
       "      <td>328</td>\n",
       "    </tr>\n",
       "  </tbody>\n",
       "</table>\n",
       "<p>117 rows × 6 columns</p>\n",
       "</div>"
      ],
      "text/plain": [
       "    행정구역별                       산업별  대표자연령대   2017   2018   2019\n",
       "0      세종                     전체 산업       계  13668  15871  18041\n",
       "1      세종                     전체 산업  29세 이하    526    582    671\n",
       "2      세종                     전체 산업  30~39세   2415   2749   2968\n",
       "3      세종                     전체 산업  40~49세   4193   5022   5669\n",
       "4      세종                     전체 산업  50~59세   4408   5036   5716\n",
       "..    ...                       ...     ...    ...    ...    ...\n",
       "112    세종  협회 및 단체, 수리 및 기타 개인 서비스업  29세 이하     22     40     45\n",
       "113    세종  협회 및 단체, 수리 및 기타 개인 서비스업  30~39세    224    270    263\n",
       "114    세종  협회 및 단체, 수리 및 기타 개인 서비스업  40~49세    378    502    605\n",
       "115    세종  협회 및 단체, 수리 및 기타 개인 서비스업  50~59세    388    437    508\n",
       "116    세종  협회 및 단체, 수리 및 기타 개인 서비스업  60세 이상    260    304    328\n",
       "\n",
       "[117 rows x 6 columns]"
      ]
     },
     "execution_count": 5,
     "metadata": {
      "tags": []
     },
     "output_type": "execute_result"
    }
   ],
   "source": [
    "df['산업별'] = df['산업별'].str.split('(').str[0]\n",
    "df"
   ]
  },
  {
   "cell_type": "code",
   "execution_count": null,
   "metadata": {
    "id": "X5oG1rI9icsh"
   },
   "outputs": [],
   "source": [
    "df1 = df[['산업별', '대표자연령대', '2019']]\n",
    "df1 = df1.replace('-', '0')\n",
    "df1['2019'] = df1['2019'].apply(pd.to_numeric)"
   ]
  },
  {
   "cell_type": "code",
   "execution_count": null,
   "metadata": {
    "colab": {
     "base_uri": "https://localhost:8080/"
    },
    "executionInfo": {
     "elapsed": 610,
     "status": "ok",
     "timestamp": 1616495961910,
     "user": {
      "displayName": "사막과 바다 한가운데",
      "photoUrl": "",
      "userId": "15376273703893512404"
     },
     "user_tz": -540
    },
    "id": "9C3K4MrAk_CX",
    "outputId": "e58bfaa9-3f2d-41fb-9667-e0f270651278"
   },
   "outputs": [
    {
     "name": "stdout",
     "output_type": "stream",
     "text": [
      "<class 'pandas.core.frame.DataFrame'>\n",
      "RangeIndex: 117 entries, 0 to 116\n",
      "Data columns (total 3 columns):\n",
      " #   Column  Non-Null Count  Dtype \n",
      "---  ------  --------------  ----- \n",
      " 0   산업별     117 non-null    object\n",
      " 1   대표자연령대  117 non-null    object\n",
      " 2   2019    117 non-null    int64 \n",
      "dtypes: int64(1), object(2)\n",
      "memory usage: 2.9+ KB\n"
     ]
    }
   ],
   "source": [
    "df1.info()"
   ]
  },
  {
   "cell_type": "code",
   "execution_count": null,
   "metadata": {
    "id": "BH45_3XL6DXo"
   },
   "outputs": [],
   "source": [
    "df_1 = df1[df1['산업별'] == '공공행정, 국방 및 사회보장 행정']\n",
    "df_2 = df1[df1['산업별'] == '제조업']\n",
    "df_3 = df1[df1['산업별'] == '교육 서비스업']"
   ]
  },
  {
   "cell_type": "code",
   "execution_count": null,
   "metadata": {
    "colab": {
     "base_uri": "https://localhost:8080/",
     "height": 202
    },
    "executionInfo": {
     "elapsed": 520,
     "status": "ok",
     "timestamp": 1616495963648,
     "user": {
      "displayName": "사막과 바다 한가운데",
      "photoUrl": "",
      "userId": "15376273703893512404"
     },
     "user_tz": -540
    },
    "id": "BKhu4DCnl3wp",
    "outputId": "ddfd7b70-39e9-4580-d1c9-e31ee4c470c4"
   },
   "outputs": [
    {
     "data": {
      "text/html": [
       "<div>\n",
       "<style scoped>\n",
       "    .dataframe tbody tr th:only-of-type {\n",
       "        vertical-align: middle;\n",
       "    }\n",
       "\n",
       "    .dataframe tbody tr th {\n",
       "        vertical-align: top;\n",
       "    }\n",
       "\n",
       "    .dataframe thead th {\n",
       "        text-align: right;\n",
       "    }\n",
       "</style>\n",
       "<table border=\"1\" class=\"dataframe\">\n",
       "  <thead>\n",
       "    <tr style=\"text-align: right;\">\n",
       "      <th></th>\n",
       "      <th>산업별</th>\n",
       "      <th>대표자연령대</th>\n",
       "      <th>2019</th>\n",
       "    </tr>\n",
       "  </thead>\n",
       "  <tbody>\n",
       "    <tr>\n",
       "      <th>88</th>\n",
       "      <td>공공행정, 국방 및 사회보장 행정</td>\n",
       "      <td>계</td>\n",
       "      <td>130</td>\n",
       "    </tr>\n",
       "    <tr>\n",
       "      <th>89</th>\n",
       "      <td>공공행정, 국방 및 사회보장 행정</td>\n",
       "      <td>30~39세</td>\n",
       "      <td>4</td>\n",
       "    </tr>\n",
       "    <tr>\n",
       "      <th>90</th>\n",
       "      <td>공공행정, 국방 및 사회보장 행정</td>\n",
       "      <td>40~49세</td>\n",
       "      <td>16</td>\n",
       "    </tr>\n",
       "    <tr>\n",
       "      <th>91</th>\n",
       "      <td>공공행정, 국방 및 사회보장 행정</td>\n",
       "      <td>50~59세</td>\n",
       "      <td>96</td>\n",
       "    </tr>\n",
       "    <tr>\n",
       "      <th>92</th>\n",
       "      <td>공공행정, 국방 및 사회보장 행정</td>\n",
       "      <td>60세 이상</td>\n",
       "      <td>14</td>\n",
       "    </tr>\n",
       "  </tbody>\n",
       "</table>\n",
       "</div>"
      ],
      "text/plain": [
       "                   산업별  대표자연령대  2019\n",
       "88  공공행정, 국방 및 사회보장 행정       계   130\n",
       "89  공공행정, 국방 및 사회보장 행정  30~39세     4\n",
       "90  공공행정, 국방 및 사회보장 행정  40~49세    16\n",
       "91  공공행정, 국방 및 사회보장 행정  50~59세    96\n",
       "92  공공행정, 국방 및 사회보장 행정  60세 이상    14"
      ]
     },
     "execution_count": 9,
     "metadata": {
      "tags": []
     },
     "output_type": "execute_result"
    }
   ],
   "source": [
    "df_1"
   ]
  },
  {
   "cell_type": "code",
   "execution_count": null,
   "metadata": {
    "colab": {
     "base_uri": "https://localhost:8080/",
     "height": 233
    },
    "executionInfo": {
     "elapsed": 458,
     "status": "ok",
     "timestamp": 1616495964573,
     "user": {
      "displayName": "사막과 바다 한가운데",
      "photoUrl": "",
      "userId": "15376273703893512404"
     },
     "user_tz": -540
    },
    "id": "MW-RrvkPmBrW",
    "outputId": "f5a03dfd-dfe2-441c-d8c6-c17e1795184e"
   },
   "outputs": [
    {
     "data": {
      "text/html": [
       "<div>\n",
       "<style scoped>\n",
       "    .dataframe tbody tr th:only-of-type {\n",
       "        vertical-align: middle;\n",
       "    }\n",
       "\n",
       "    .dataframe tbody tr th {\n",
       "        vertical-align: top;\n",
       "    }\n",
       "\n",
       "    .dataframe thead th {\n",
       "        text-align: right;\n",
       "    }\n",
       "</style>\n",
       "<table border=\"1\" class=\"dataframe\">\n",
       "  <thead>\n",
       "    <tr style=\"text-align: right;\">\n",
       "      <th></th>\n",
       "      <th>산업별</th>\n",
       "      <th>대표자연령대</th>\n",
       "      <th>2019</th>\n",
       "    </tr>\n",
       "  </thead>\n",
       "  <tbody>\n",
       "    <tr>\n",
       "      <th>17</th>\n",
       "      <td>제조업</td>\n",
       "      <td>계</td>\n",
       "      <td>1300</td>\n",
       "    </tr>\n",
       "    <tr>\n",
       "      <th>18</th>\n",
       "      <td>제조업</td>\n",
       "      <td>29세 이하</td>\n",
       "      <td>33</td>\n",
       "    </tr>\n",
       "    <tr>\n",
       "      <th>19</th>\n",
       "      <td>제조업</td>\n",
       "      <td>30~39세</td>\n",
       "      <td>142</td>\n",
       "    </tr>\n",
       "    <tr>\n",
       "      <th>20</th>\n",
       "      <td>제조업</td>\n",
       "      <td>40~49세</td>\n",
       "      <td>285</td>\n",
       "    </tr>\n",
       "    <tr>\n",
       "      <th>21</th>\n",
       "      <td>제조업</td>\n",
       "      <td>50~59세</td>\n",
       "      <td>506</td>\n",
       "    </tr>\n",
       "    <tr>\n",
       "      <th>22</th>\n",
       "      <td>제조업</td>\n",
       "      <td>60세 이상</td>\n",
       "      <td>334</td>\n",
       "    </tr>\n",
       "  </tbody>\n",
       "</table>\n",
       "</div>"
      ],
      "text/plain": [
       "    산업별  대표자연령대  2019\n",
       "17  제조업       계  1300\n",
       "18  제조업  29세 이하    33\n",
       "19  제조업  30~39세   142\n",
       "20  제조업  40~49세   285\n",
       "21  제조업  50~59세   506\n",
       "22  제조업  60세 이상   334"
      ]
     },
     "execution_count": 10,
     "metadata": {
      "tags": []
     },
     "output_type": "execute_result"
    }
   ],
   "source": [
    "df_2"
   ]
  },
  {
   "cell_type": "code",
   "execution_count": null,
   "metadata": {
    "colab": {
     "base_uri": "https://localhost:8080/",
     "height": 233
    },
    "executionInfo": {
     "elapsed": 542,
     "status": "ok",
     "timestamp": 1616495965565,
     "user": {
      "displayName": "사막과 바다 한가운데",
      "photoUrl": "",
      "userId": "15376273703893512404"
     },
     "user_tz": -540
    },
    "id": "qZRipVUEmCJm",
    "outputId": "05ccae76-f30f-4cd5-a013-5bcf6ad55470"
   },
   "outputs": [
    {
     "data": {
      "text/html": [
       "<div>\n",
       "<style scoped>\n",
       "    .dataframe tbody tr th:only-of-type {\n",
       "        vertical-align: middle;\n",
       "    }\n",
       "\n",
       "    .dataframe tbody tr th {\n",
       "        vertical-align: top;\n",
       "    }\n",
       "\n",
       "    .dataframe thead th {\n",
       "        text-align: right;\n",
       "    }\n",
       "</style>\n",
       "<table border=\"1\" class=\"dataframe\">\n",
       "  <thead>\n",
       "    <tr style=\"text-align: right;\">\n",
       "      <th></th>\n",
       "      <th>산업별</th>\n",
       "      <th>대표자연령대</th>\n",
       "      <th>2019</th>\n",
       "    </tr>\n",
       "  </thead>\n",
       "  <tbody>\n",
       "    <tr>\n",
       "      <th>93</th>\n",
       "      <td>교육 서비스업</td>\n",
       "      <td>계</td>\n",
       "      <td>1354</td>\n",
       "    </tr>\n",
       "    <tr>\n",
       "      <th>94</th>\n",
       "      <td>교육 서비스업</td>\n",
       "      <td>29세 이하</td>\n",
       "      <td>63</td>\n",
       "    </tr>\n",
       "    <tr>\n",
       "      <th>95</th>\n",
       "      <td>교육 서비스업</td>\n",
       "      <td>30~39세</td>\n",
       "      <td>322</td>\n",
       "    </tr>\n",
       "    <tr>\n",
       "      <th>96</th>\n",
       "      <td>교육 서비스업</td>\n",
       "      <td>40~49세</td>\n",
       "      <td>542</td>\n",
       "    </tr>\n",
       "    <tr>\n",
       "      <th>97</th>\n",
       "      <td>교육 서비스업</td>\n",
       "      <td>50~59세</td>\n",
       "      <td>364</td>\n",
       "    </tr>\n",
       "    <tr>\n",
       "      <th>98</th>\n",
       "      <td>교육 서비스업</td>\n",
       "      <td>60세 이상</td>\n",
       "      <td>63</td>\n",
       "    </tr>\n",
       "  </tbody>\n",
       "</table>\n",
       "</div>"
      ],
      "text/plain": [
       "        산업별  대표자연령대  2019\n",
       "93  교육 서비스업       계  1354\n",
       "94  교육 서비스업  29세 이하    63\n",
       "95  교육 서비스업  30~39세   322\n",
       "96  교육 서비스업  40~49세   542\n",
       "97  교육 서비스업  50~59세   364\n",
       "98  교육 서비스업  60세 이상    63"
      ]
     },
     "execution_count": 11,
     "metadata": {
      "tags": []
     },
     "output_type": "execute_result"
    }
   ],
   "source": [
    "df_3"
   ]
  },
  {
   "cell_type": "code",
   "execution_count": null,
   "metadata": {
    "colab": {
     "base_uri": "https://localhost:8080/"
    },
    "executionInfo": {
     "elapsed": 381,
     "status": "ok",
     "timestamp": 1616495966495,
     "user": {
      "displayName": "사막과 바다 한가운데",
      "photoUrl": "",
      "userId": "15376273703893512404"
     },
     "user_tz": -540
    },
    "id": "R8kcoYEc6fLQ",
    "outputId": "bfe32b03-84e3-43a5-e94d-f707550cbe2c"
   },
   "outputs": [
    {
     "name": "stderr",
     "output_type": "stream",
     "text": [
      "/usr/local/lib/python3.7/dist-packages/ipykernel_launcher.py:1: SettingWithCopyWarning: \n",
      "A value is trying to be set on a copy of a slice from a DataFrame.\n",
      "Try using .loc[row_indexer,col_indexer] = value instead\n",
      "\n",
      "See the caveats in the documentation: https://pandas.pydata.org/pandas-docs/stable/user_guide/indexing.html#returning-a-view-versus-a-copy\n",
      "  \"\"\"Entry point for launching an IPython kernel.\n",
      "/usr/local/lib/python3.7/dist-packages/ipykernel_launcher.py:2: SettingWithCopyWarning: \n",
      "A value is trying to be set on a copy of a slice from a DataFrame.\n",
      "Try using .loc[row_indexer,col_indexer] = value instead\n",
      "\n",
      "See the caveats in the documentation: https://pandas.pydata.org/pandas-docs/stable/user_guide/indexing.html#returning-a-view-versus-a-copy\n",
      "  \n",
      "/usr/local/lib/python3.7/dist-packages/ipykernel_launcher.py:3: SettingWithCopyWarning: \n",
      "A value is trying to be set on a copy of a slice from a DataFrame.\n",
      "Try using .loc[row_indexer,col_indexer] = value instead\n",
      "\n",
      "See the caveats in the documentation: https://pandas.pydata.org/pandas-docs/stable/user_guide/indexing.html#returning-a-view-versus-a-copy\n",
      "  This is separate from the ipykernel package so we can avoid doing imports until\n"
     ]
    }
   ],
   "source": [
    "df_1['2019'] = df_1['2019'][1:].apply(lambda x : (x/130)*100)\n",
    "df_2['2019'] = df_2['2019'][1:].apply(lambda x : (x/1300)*100)\n",
    "df_3['2019'] = df_3['2019'][1:].apply(lambda x : (x/1354)*100)"
   ]
  },
  {
   "cell_type": "code",
   "execution_count": null,
   "metadata": {
    "id": "n1p7l0R0n61L"
   },
   "outputs": [],
   "source": [
    "df_1 = df_1[1:]\n",
    "df_2 = df_2[1:]\n",
    "df_3 = df_3[1:]"
   ]
  },
  {
   "cell_type": "code",
   "execution_count": null,
   "metadata": {
    "colab": {
     "base_uri": "https://localhost:8080/"
    },
    "executionInfo": {
     "elapsed": 708,
     "status": "ok",
     "timestamp": 1616495969127,
     "user": {
      "displayName": "사막과 바다 한가운데",
      "photoUrl": "",
      "userId": "15376273703893512404"
     },
     "user_tz": -540
    },
    "id": "eJidu_M7qMDA",
    "outputId": "4ef689e0-870b-4e2c-afc0-e2bc4c82b2e6"
   },
   "outputs": [
    {
     "name": "stderr",
     "output_type": "stream",
     "text": [
      "/usr/local/lib/python3.7/dist-packages/ipykernel_launcher.py:1: SettingWithCopyWarning: \n",
      "A value is trying to be set on a copy of a slice from a DataFrame.\n",
      "Try using .loc[row_indexer,col_indexer] = value instead\n",
      "\n",
      "See the caveats in the documentation: https://pandas.pydata.org/pandas-docs/stable/user_guide/indexing.html#returning-a-view-versus-a-copy\n",
      "  \"\"\"Entry point for launching an IPython kernel.\n",
      "/usr/local/lib/python3.7/dist-packages/ipykernel_launcher.py:2: SettingWithCopyWarning: \n",
      "A value is trying to be set on a copy of a slice from a DataFrame.\n",
      "Try using .loc[row_indexer,col_indexer] = value instead\n",
      "\n",
      "See the caveats in the documentation: https://pandas.pydata.org/pandas-docs/stable/user_guide/indexing.html#returning-a-view-versus-a-copy\n",
      "  \n",
      "/usr/local/lib/python3.7/dist-packages/ipykernel_launcher.py:3: SettingWithCopyWarning: \n",
      "A value is trying to be set on a copy of a slice from a DataFrame.\n",
      "Try using .loc[row_indexer,col_indexer] = value instead\n",
      "\n",
      "See the caveats in the documentation: https://pandas.pydata.org/pandas-docs/stable/user_guide/indexing.html#returning-a-view-versus-a-copy\n",
      "  This is separate from the ipykernel package so we can avoid doing imports until\n"
     ]
    }
   ],
   "source": [
    "df_1['연령비율(%)'] = round(df_1['2019'],2)\n",
    "df_2['연령비율(%)'] = round(df_2['2019'],2)\n",
    "df_3['연령비율(%)'] = round(df_3['2019'],2)"
   ]
  },
  {
   "cell_type": "code",
   "execution_count": null,
   "metadata": {
    "id": "FnflotkFqVnR"
   },
   "outputs": [],
   "source": [
    "df_1 = df_1.sort_values(by = '연령비율(%)', ascending=False)\n",
    "df_2 = df_2.sort_values(by = '연령비율(%)', ascending=False)\n",
    "df_3 = df_3.sort_values(by = '연령비율(%)', ascending=False)"
   ]
  },
  {
   "cell_type": "code",
   "execution_count": null,
   "metadata": {
    "colab": {
     "base_uri": "https://localhost:8080/",
     "height": 171
    },
    "executionInfo": {
     "elapsed": 760,
     "status": "ok",
     "timestamp": 1616496280437,
     "user": {
      "displayName": "사막과 바다 한가운데",
      "photoUrl": "",
      "userId": "15376273703893512404"
     },
     "user_tz": -540
    },
    "id": "xiH7QpT-OqrO",
    "outputId": "f3d02a1e-459c-4dca-d7c8-b627e1fc6387"
   },
   "outputs": [
    {
     "data": {
      "text/html": [
       "<div>\n",
       "<style scoped>\n",
       "    .dataframe tbody tr th:only-of-type {\n",
       "        vertical-align: middle;\n",
       "    }\n",
       "\n",
       "    .dataframe tbody tr th {\n",
       "        vertical-align: top;\n",
       "    }\n",
       "\n",
       "    .dataframe thead th {\n",
       "        text-align: right;\n",
       "    }\n",
       "</style>\n",
       "<table border=\"1\" class=\"dataframe\">\n",
       "  <thead>\n",
       "    <tr style=\"text-align: right;\">\n",
       "      <th></th>\n",
       "      <th>대표자연령대</th>\n",
       "      <th>연령비율(%)</th>\n",
       "    </tr>\n",
       "  </thead>\n",
       "  <tbody>\n",
       "    <tr>\n",
       "      <th>91</th>\n",
       "      <td>50~59세</td>\n",
       "      <td>73.85</td>\n",
       "    </tr>\n",
       "    <tr>\n",
       "      <th>90</th>\n",
       "      <td>40~49세</td>\n",
       "      <td>12.31</td>\n",
       "    </tr>\n",
       "    <tr>\n",
       "      <th>92</th>\n",
       "      <td>60세 이상</td>\n",
       "      <td>10.77</td>\n",
       "    </tr>\n",
       "    <tr>\n",
       "      <th>89</th>\n",
       "      <td>30~39세</td>\n",
       "      <td>3.08</td>\n",
       "    </tr>\n",
       "  </tbody>\n",
       "</table>\n",
       "</div>"
      ],
      "text/plain": [
       "    대표자연령대  연령비율(%)\n",
       "91  50~59세    73.85\n",
       "90  40~49세    12.31\n",
       "92  60세 이상    10.77\n",
       "89  30~39세     3.08"
      ]
     },
     "execution_count": 20,
     "metadata": {
      "tags": []
     },
     "output_type": "execute_result"
    }
   ],
   "source": [
    "# 1. 공공행정, 국방 및 사회보장 행정\n",
    "df_A = df_1[['대표자연령대', '연령비율(%)']]\n",
    "df_A"
   ]
  },
  {
   "cell_type": "code",
   "execution_count": null,
   "metadata": {
    "colab": {
     "base_uri": "https://localhost:8080/",
     "height": 202
    },
    "executionInfo": {
     "elapsed": 648,
     "status": "ok",
     "timestamp": 1616496300775,
     "user": {
      "displayName": "사막과 바다 한가운데",
      "photoUrl": "",
      "userId": "15376273703893512404"
     },
     "user_tz": -540
    },
    "id": "LHPXv3d6rUQR",
    "outputId": "6c4f0b1e-b4d9-4fca-d292-c7e4a3ef3d4e"
   },
   "outputs": [
    {
     "data": {
      "text/html": [
       "<div>\n",
       "<style scoped>\n",
       "    .dataframe tbody tr th:only-of-type {\n",
       "        vertical-align: middle;\n",
       "    }\n",
       "\n",
       "    .dataframe tbody tr th {\n",
       "        vertical-align: top;\n",
       "    }\n",
       "\n",
       "    .dataframe thead th {\n",
       "        text-align: right;\n",
       "    }\n",
       "</style>\n",
       "<table border=\"1\" class=\"dataframe\">\n",
       "  <thead>\n",
       "    <tr style=\"text-align: right;\">\n",
       "      <th></th>\n",
       "      <th>대표자연령대</th>\n",
       "      <th>연령비율(%)</th>\n",
       "    </tr>\n",
       "  </thead>\n",
       "  <tbody>\n",
       "    <tr>\n",
       "      <th>21</th>\n",
       "      <td>50~59세</td>\n",
       "      <td>38.92</td>\n",
       "    </tr>\n",
       "    <tr>\n",
       "      <th>22</th>\n",
       "      <td>60세 이상</td>\n",
       "      <td>25.69</td>\n",
       "    </tr>\n",
       "    <tr>\n",
       "      <th>20</th>\n",
       "      <td>40~49세</td>\n",
       "      <td>21.92</td>\n",
       "    </tr>\n",
       "    <tr>\n",
       "      <th>19</th>\n",
       "      <td>30~39세</td>\n",
       "      <td>10.92</td>\n",
       "    </tr>\n",
       "    <tr>\n",
       "      <th>18</th>\n",
       "      <td>29세 이하</td>\n",
       "      <td>2.54</td>\n",
       "    </tr>\n",
       "  </tbody>\n",
       "</table>\n",
       "</div>"
      ],
      "text/plain": [
       "    대표자연령대  연령비율(%)\n",
       "21  50~59세    38.92\n",
       "22  60세 이상    25.69\n",
       "20  40~49세    21.92\n",
       "19  30~39세    10.92\n",
       "18  29세 이하     2.54"
      ]
     },
     "execution_count": 21,
     "metadata": {
      "tags": []
     },
     "output_type": "execute_result"
    }
   ],
   "source": [
    "# 2. 제조업\n",
    "df_B = df_2[['대표자연령대', '연령비율(%)']]\n",
    "df_B"
   ]
  },
  {
   "cell_type": "code",
   "execution_count": null,
   "metadata": {
    "colab": {
     "base_uri": "https://localhost:8080/",
     "height": 202
    },
    "executionInfo": {
     "elapsed": 625,
     "status": "ok",
     "timestamp": 1616496317779,
     "user": {
      "displayName": "사막과 바다 한가운데",
      "photoUrl": "",
      "userId": "15376273703893512404"
     },
     "user_tz": -540
    },
    "id": "g-_tx3n9XoZr",
    "outputId": "ea79c21b-6e3b-4862-c5e4-f6e05d6d3bd7"
   },
   "outputs": [
    {
     "data": {
      "text/html": [
       "<div>\n",
       "<style scoped>\n",
       "    .dataframe tbody tr th:only-of-type {\n",
       "        vertical-align: middle;\n",
       "    }\n",
       "\n",
       "    .dataframe tbody tr th {\n",
       "        vertical-align: top;\n",
       "    }\n",
       "\n",
       "    .dataframe thead th {\n",
       "        text-align: right;\n",
       "    }\n",
       "</style>\n",
       "<table border=\"1\" class=\"dataframe\">\n",
       "  <thead>\n",
       "    <tr style=\"text-align: right;\">\n",
       "      <th></th>\n",
       "      <th>대표자연령대</th>\n",
       "      <th>연령비율(%)</th>\n",
       "    </tr>\n",
       "  </thead>\n",
       "  <tbody>\n",
       "    <tr>\n",
       "      <th>96</th>\n",
       "      <td>40~49세</td>\n",
       "      <td>40.03</td>\n",
       "    </tr>\n",
       "    <tr>\n",
       "      <th>97</th>\n",
       "      <td>50~59세</td>\n",
       "      <td>26.88</td>\n",
       "    </tr>\n",
       "    <tr>\n",
       "      <th>95</th>\n",
       "      <td>30~39세</td>\n",
       "      <td>23.78</td>\n",
       "    </tr>\n",
       "    <tr>\n",
       "      <th>94</th>\n",
       "      <td>29세 이하</td>\n",
       "      <td>4.65</td>\n",
       "    </tr>\n",
       "    <tr>\n",
       "      <th>98</th>\n",
       "      <td>60세 이상</td>\n",
       "      <td>4.65</td>\n",
       "    </tr>\n",
       "  </tbody>\n",
       "</table>\n",
       "</div>"
      ],
      "text/plain": [
       "    대표자연령대  연령비율(%)\n",
       "96  40~49세    40.03\n",
       "97  50~59세    26.88\n",
       "95  30~39세    23.78\n",
       "94  29세 이하     4.65\n",
       "98  60세 이상     4.65"
      ]
     },
     "execution_count": 22,
     "metadata": {
      "tags": []
     },
     "output_type": "execute_result"
    }
   ],
   "source": [
    "# 3. 교육 서비스업\n",
    "df_C = df_3[['대표자연령대', '연령비율(%)']]\n",
    "df_C"
   ]
  },
  {
   "cell_type": "code",
   "execution_count": null,
   "metadata": {
    "colab": {
     "base_uri": "https://localhost:8080/",
     "height": 384
    },
    "executionInfo": {
     "elapsed": 994,
     "status": "ok",
     "timestamp": 1616497567147,
     "user": {
      "displayName": "사막과 바다 한가운데",
      "photoUrl": "",
      "userId": "15376273703893512404"
     },
     "user_tz": -540
    },
    "id": "yFcP7Wwesjqz",
    "outputId": "7912a5ab-086e-40dc-aafb-eff0c261e10a"
   },
   "outputs": [
    {
     "data": {
      "image/png": "[encoded data removed]",
      "text/plain": [
       "<Figure size 360x360 with 1 Axes>"
      ]
     },
     "metadata": {
      "tags": []
     },
     "output_type": "display_data"
    }
   ],
   "source": [
    "# Pie chart_공공행정, 국방 및 사회보장 행정\n",
    "\n",
    "labels = df_A['대표자연령대']\n",
    "sizes = df_A['연령비율(%)']\n",
    "\n",
    "explode = (0, 0, 0, 0)\n",
    "\n",
    "#add colors\n",
    "colors = ['#ff9999','#66b3ff','#99ff99','#FAED7D']\n",
    "fig1, ax1 = plt.subplots(figsize=(5, 5))\n",
    "ax1.pie(sizes, explode=explode, labels=labels, colors=colors, autopct='%1.1f%%',\n",
    "        shadow=True, startangle=90)\n",
    "# Equal aspect ratio ensures that pie is drawn as a circle\n",
    "ax1.axis('equal')\n",
    "plt.tight_layout()\n",
    "plt.title('공공행정', fontsize=20)\n",
    "plt.show()"
   ]
  },
  {
   "cell_type": "code",
   "execution_count": null,
   "metadata": {
    "colab": {
     "base_uri": "https://localhost:8080/",
     "height": 379
    },
    "executionInfo": {
     "elapsed": 672,
     "status": "ok",
     "timestamp": 1616497858722,
     "user": {
      "displayName": "사막과 바다 한가운데",
      "photoUrl": "",
      "userId": "15376273703893512404"
     },
     "user_tz": -540
    },
    "id": "5cCwcJ5xs0Cs",
    "outputId": "7db08533-c3e1-4111-c4cb-b06503caedfd"
   },
   "outputs": [
    {
     "data": {
      "image/png": "[encoded data removed]",
      "text/plain": [
       "<Figure size 360x360 with 1 Axes>"
      ]
     },
     "metadata": {
      "tags": []
     },
     "output_type": "display_data"
    }
   ],
   "source": [
    "# Pie chart_제조업\n",
    "\n",
    "labels = df_B['대표자연령대']\n",
    "sizes = df_B['연령비율(%)']\n",
    "\n",
    "explode = (0, 0, 0, 0, 0)\n",
    "\n",
    "#add colors\n",
    "colors = ['#ff9999','#66b3ff','#99ff99','#FAED7D', '#bdbdbd']\n",
    "fig1, ax1 = plt.subplots(figsize=(5, 5))\n",
    "ax1.pie(sizes, explode=explode, labels=labels, colors=colors, autopct='%1.1f%%',\n",
    "        shadow=True, startangle=90)\n",
    "# Equal aspect ratio ensures that pie is drawn as a circle\n",
    "ax1.axis('equal')\n",
    "plt.tight_layout()\n",
    "plt.title('제조업', fontsize=20)\n",
    "plt.show()"
   ]
  },
  {
   "cell_type": "code",
   "execution_count": null,
   "metadata": {
    "colab": {
     "base_uri": "https://localhost:8080/",
     "height": 385
    },
    "executionInfo": {
     "elapsed": 883,
     "status": "ok",
     "timestamp": 1616497800576,
     "user": {
      "displayName": "사막과 바다 한가운데",
      "photoUrl": "",
      "userId": "15376273703893512404"
     },
     "user_tz": -540
    },
    "id": "8hUQBdZ9vtv-",
    "outputId": "eebac53b-9386-42a7-dd2d-1dc421690acc"
   },
   "outputs": [
    {
     "data": {
      "image/png": "[encoded data removed]",
      "text/plain": [
       "<Figure size 360x360 with 1 Axes>"
      ]
     },
     "metadata": {
      "tags": []
     },
     "output_type": "display_data"
    }
   ],
   "source": [
    "# Pie chart_교육 서비스업\n",
    "\n",
    "labels = df_C['대표자연령대']\n",
    "sizes = df_C['연령비율(%)']\n",
    "\n",
    "explode = (0, 0, 0, 0, 0)\n",
    "\n",
    "#add colors\n",
    "colors = ['#ff9999','#66b3ff','#99ff99','#FAED7D', '#bdbdbd']\n",
    "fig1, ax1 = plt.subplots(figsize=(5, 5))\n",
    "ax1.pie(sizes, explode=explode, labels=labels, colors=colors, autopct='%1.1f%%',\n",
    "        shadow=True, startangle=90)\n",
    "# Equal aspect ratio ensures that pie is drawn as a circle\n",
    "ax1.axis('equal')\n",
    "plt.tight_layout()\n",
    "plt.title('교육 서비스업', fontsize=20)\n",
    "plt.show()"
   ]
  },
  {
   "cell_type": "code",
   "execution_count": null,
   "metadata": {
    "id": "0S_HIHcSwTMY"
   },
   "outputs": [],
   "source": []
  }
 ],
 "metadata": {
  "colab": {
   "authorship_tag": "ABX9TyMmiU5465/nzrtokXWvjvqC",
   "collapsed_sections": [],
   "mount_file_id": "1zYhyvngtZyPQyUJi8OH0rKMCYlzXD2Jh",
   "name": "세종_종사자별 연령비율.ipynb",
   "provenance": [
    {
     "file_id": "1QZP5g3OWYMMJ8M12AClB7r9dbtE58GhQ",
     "timestamp": 1616491419049
    }
   ]
  },
  "kernelspec": {
   "display_name": "Python 3",
   "language": "python",
   "name": "python3"
  },
  "language_info": {
   "codemirror_mode": {
    "name": "ipython",
    "version": 3
   },
   "file_extension": ".py",
   "mimetype": "text/x-python",
   "name": "python",
   "nbconvert_exporter": "python",
   "pygments_lexer": "ipython3",
   "version": "3.8.5"
  }
 },
 "nbformat": 4,
 "nbformat_minor": 1
}
