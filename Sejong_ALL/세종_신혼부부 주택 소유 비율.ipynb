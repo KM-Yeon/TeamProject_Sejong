{
 "cells": [
  {
   "cell_type": "code",
   "execution_count": 1,
   "metadata": {
    "executionInfo": {
     "elapsed": 901,
     "status": "ok",
     "timestamp": 1616564954103,
     "user": {
      "displayName": "사막과 바다 한가운데",
      "photoUrl": "",
      "userId": "15376273703893512404"
     },
     "user_tz": -540
    },
    "id": "D1p8uIFUhvQh"
   },
   "outputs": [],
   "source": [
    "# !sudo apt-get install -y fonts-nanum\n",
    "# !sudo fc-cache -fv\n",
    "# !rm ~/.cache/matplotlib -rf"
   ]
  },
  {
   "cell_type": "code",
   "execution_count": 2,
   "metadata": {
    "executionInfo": {
     "elapsed": 1955,
     "status": "ok",
     "timestamp": 1616564955164,
     "user": {
      "displayName": "사막과 바다 한가운데",
      "photoUrl": "",
      "userId": "15376273703893512404"
     },
     "user_tz": -540
    },
    "id": "JPkVDQFZhwxj"
   },
   "outputs": [],
   "source": [
    "import pandas as pd\n",
    "import numpy as np\n",
    "import matplotlib.pyplot as plt\n",
    "import seaborn as sns"
   ]
  },
  {
   "cell_type": "code",
   "execution_count": 3,
   "metadata": {
    "executionInfo": {
     "elapsed": 1955,
     "status": "ok",
     "timestamp": 1616564955168,
     "user": {
      "displayName": "사막과 바다 한가운데",
      "photoUrl": "",
      "userId": "15376273703893512404"
     },
     "user_tz": -540
    },
    "id": "tImnPbj2hzwl"
   },
   "outputs": [],
   "source": [
    "plt.rc('font', family='NanumBarunGothic') "
   ]
  },
  {
   "cell_type": "code",
   "execution_count": 4,
   "metadata": {
    "executionInfo": {
     "elapsed": 1952,
     "status": "ok",
     "timestamp": 1616564955172,
     "user": {
      "displayName": "사막과 바다 한가운데",
      "photoUrl": "",
      "userId": "15376273703893512404"
     },
     "user_tz": -540
    },
    "id": "sfo5A2gQh3b7"
   },
   "outputs": [],
   "source": [
    "df = pd.read_csv(\"/content/drive/MyDrive/Colab Notebooks/세종시/신혼부부_특성별_주택소유물건수별_신혼부부_수.csv\", encoding='cp949')"
   ]
  },
  {
   "cell_type": "code",
   "execution_count": 5,
   "metadata": {
    "colab": {
     "base_uri": "https://localhost:8080/"
    },
    "executionInfo": {
     "elapsed": 1950,
     "status": "ok",
     "timestamp": 1616564955175,
     "user": {
      "displayName": "사막과 바다 한가운데",
      "photoUrl": "",
      "userId": "15376273703893512404"
     },
     "user_tz": -540
    },
    "id": "ms0QoyGViGmh",
    "outputId": "c59eb602-bcf7-406d-e97b-f67fde1ec52e"
   },
   "outputs": [
    {
     "name": "stdout",
     "output_type": "stream",
     "text": [
      "<class 'pandas.core.frame.DataFrame'>\n",
      "RangeIndex: 33 entries, 0 to 32\n",
      "Data columns (total 10 columns):\n",
      " #   Column       Non-Null Count  Dtype \n",
      "---  ------       --------------  ----- \n",
      " 0   신혼부부 특성별(1)  33 non-null     object\n",
      " 1   신혼부부 특성별(2)  33 non-null     object\n",
      " 2   2019         33 non-null     object\n",
      " 3   2019.1       33 non-null     object\n",
      " 4   2019.2       33 non-null     object\n",
      " 5   2019.3       33 non-null     object\n",
      " 6   2019.4       33 non-null     object\n",
      " 7   2019.5       33 non-null     object\n",
      " 8   2019.6       33 non-null     object\n",
      " 9   2019.7       33 non-null     object\n",
      "dtypes: object(10)\n",
      "memory usage: 2.7+ KB\n"
     ]
    }
   ],
   "source": [
    "df.info()"
   ]
  },
  {
   "cell_type": "code",
   "execution_count": 6,
   "metadata": {
    "colab": {
     "base_uri": "https://localhost:8080/",
     "height": 1000
    },
    "executionInfo": {
     "elapsed": 1943,
     "status": "ok",
     "timestamp": 1616564955178,
     "user": {
      "displayName": "사막과 바다 한가운데",
      "photoUrl": "",
      "userId": "15376273703893512404"
     },
     "user_tz": -540
    },
    "id": "PKkQERAvlavU",
    "outputId": "e434858a-691b-41dc-af93-a55f4c94dcee"
   },
   "outputs": [
    {
     "data": {
      "text/html": [
       "<div>\n",
       "<style scoped>\n",
       "    .dataframe tbody tr th:only-of-type {\n",
       "        vertical-align: middle;\n",
       "    }\n",
       "\n",
       "    .dataframe tbody tr th {\n",
       "        vertical-align: top;\n",
       "    }\n",
       "\n",
       "    .dataframe thead th {\n",
       "        text-align: right;\n",
       "    }\n",
       "</style>\n",
       "<table border=\"1\" class=\"dataframe\">\n",
       "  <thead>\n",
       "    <tr style=\"text-align: right;\">\n",
       "      <th></th>\n",
       "      <th>신혼부부 특성별(2)</th>\n",
       "      <th>2019</th>\n",
       "      <th>2019.1</th>\n",
       "      <th>2019.2</th>\n",
       "    </tr>\n",
       "  </thead>\n",
       "  <tbody>\n",
       "    <tr>\n",
       "      <th>0</th>\n",
       "      <td>신혼부부 특성별(2)</td>\n",
       "      <td>합계</td>\n",
       "      <td>주택 미소유</td>\n",
       "      <td>주택 소유</td>\n",
       "    </tr>\n",
       "    <tr>\n",
       "      <th>1</th>\n",
       "      <td>신혼부부 특성별(2)</td>\n",
       "      <td>소계</td>\n",
       "      <td>소계</td>\n",
       "      <td>소계</td>\n",
       "    </tr>\n",
       "    <tr>\n",
       "      <th>2</th>\n",
       "      <td>소계</td>\n",
       "      <td>1260117</td>\n",
       "      <td>702525</td>\n",
       "      <td>557592</td>\n",
       "    </tr>\n",
       "    <tr>\n",
       "      <th>3</th>\n",
       "      <td>혼인 1년차</td>\n",
       "      <td>236580</td>\n",
       "      <td>158354</td>\n",
       "      <td>78226</td>\n",
       "    </tr>\n",
       "    <tr>\n",
       "      <th>4</th>\n",
       "      <td>혼인 2년차</td>\n",
       "      <td>247187</td>\n",
       "      <td>149941</td>\n",
       "      <td>97246</td>\n",
       "    </tr>\n",
       "    <tr>\n",
       "      <th>5</th>\n",
       "      <td>혼인 3년차</td>\n",
       "      <td>247132</td>\n",
       "      <td>137560</td>\n",
       "      <td>109572</td>\n",
       "    </tr>\n",
       "    <tr>\n",
       "      <th>6</th>\n",
       "      <td>혼인 4년차</td>\n",
       "      <td>261425</td>\n",
       "      <td>132452</td>\n",
       "      <td>128973</td>\n",
       "    </tr>\n",
       "    <tr>\n",
       "      <th>7</th>\n",
       "      <td>혼인 5년차</td>\n",
       "      <td>267793</td>\n",
       "      <td>124218</td>\n",
       "      <td>143575</td>\n",
       "    </tr>\n",
       "    <tr>\n",
       "      <th>8</th>\n",
       "      <td>서울특별시</td>\n",
       "      <td>232454</td>\n",
       "      <td>145653</td>\n",
       "      <td>86801</td>\n",
       "    </tr>\n",
       "    <tr>\n",
       "      <th>9</th>\n",
       "      <td>부산광역시</td>\n",
       "      <td>72403</td>\n",
       "      <td>39908</td>\n",
       "      <td>32495</td>\n",
       "    </tr>\n",
       "    <tr>\n",
       "      <th>10</th>\n",
       "      <td>대구광역시</td>\n",
       "      <td>54078</td>\n",
       "      <td>28131</td>\n",
       "      <td>25948</td>\n",
       "    </tr>\n",
       "    <tr>\n",
       "      <th>11</th>\n",
       "      <td>인천광역시</td>\n",
       "      <td>75794</td>\n",
       "      <td>42339</td>\n",
       "      <td>33455</td>\n",
       "    </tr>\n",
       "    <tr>\n",
       "      <th>12</th>\n",
       "      <td>광주광역시</td>\n",
       "      <td>33878</td>\n",
       "      <td>16090</td>\n",
       "      <td>17788</td>\n",
       "    </tr>\n",
       "    <tr>\n",
       "      <th>13</th>\n",
       "      <td>대전광역시</td>\n",
       "      <td>35066</td>\n",
       "      <td>20858</td>\n",
       "      <td>14208</td>\n",
       "    </tr>\n",
       "    <tr>\n",
       "      <th>14</th>\n",
       "      <td>울산광역시</td>\n",
       "      <td>30431</td>\n",
       "      <td>13926</td>\n",
       "      <td>16505</td>\n",
       "    </tr>\n",
       "    <tr>\n",
       "      <th>15</th>\n",
       "      <td>세종특별자치시</td>\n",
       "      <td>12966</td>\n",
       "      <td>7704</td>\n",
       "      <td>5263</td>\n",
       "    </tr>\n",
       "    <tr>\n",
       "      <th>16</th>\n",
       "      <td>경기도</td>\n",
       "      <td>356169</td>\n",
       "      <td>206129</td>\n",
       "      <td>150040</td>\n",
       "    </tr>\n",
       "    <tr>\n",
       "      <th>17</th>\n",
       "      <td>강원도</td>\n",
       "      <td>34928</td>\n",
       "      <td>19464</td>\n",
       "      <td>15464</td>\n",
       "    </tr>\n",
       "    <tr>\n",
       "      <th>18</th>\n",
       "      <td>충청북도</td>\n",
       "      <td>38744</td>\n",
       "      <td>20284</td>\n",
       "      <td>18460</td>\n",
       "    </tr>\n",
       "    <tr>\n",
       "      <th>19</th>\n",
       "      <td>충청남도</td>\n",
       "      <td>54280</td>\n",
       "      <td>27326</td>\n",
       "      <td>26954</td>\n",
       "    </tr>\n",
       "    <tr>\n",
       "      <th>20</th>\n",
       "      <td>전라북도</td>\n",
       "      <td>36082</td>\n",
       "      <td>18175</td>\n",
       "      <td>17907</td>\n",
       "    </tr>\n",
       "    <tr>\n",
       "      <th>21</th>\n",
       "      <td>전라남도</td>\n",
       "      <td>38275</td>\n",
       "      <td>19039</td>\n",
       "      <td>19237</td>\n",
       "    </tr>\n",
       "    <tr>\n",
       "      <th>22</th>\n",
       "      <td>경상북도</td>\n",
       "      <td>57670</td>\n",
       "      <td>28537</td>\n",
       "      <td>29133</td>\n",
       "    </tr>\n",
       "    <tr>\n",
       "      <th>23</th>\n",
       "      <td>경상남도</td>\n",
       "      <td>79222</td>\n",
       "      <td>38899</td>\n",
       "      <td>40323</td>\n",
       "    </tr>\n",
       "    <tr>\n",
       "      <th>24</th>\n",
       "      <td>제주특별자치도</td>\n",
       "      <td>17682</td>\n",
       "      <td>10066</td>\n",
       "      <td>7616</td>\n",
       "    </tr>\n",
       "    <tr>\n",
       "      <th>25</th>\n",
       "      <td>19세이하</td>\n",
       "      <td>170</td>\n",
       "      <td>167</td>\n",
       "      <td>X</td>\n",
       "    </tr>\n",
       "    <tr>\n",
       "      <th>26</th>\n",
       "      <td>20~24세</td>\n",
       "      <td>9413</td>\n",
       "      <td>8719</td>\n",
       "      <td>694</td>\n",
       "    </tr>\n",
       "    <tr>\n",
       "      <th>27</th>\n",
       "      <td>25~29세</td>\n",
       "      <td>110195</td>\n",
       "      <td>84618</td>\n",
       "      <td>25577</td>\n",
       "    </tr>\n",
       "    <tr>\n",
       "      <th>28</th>\n",
       "      <td>30~34세</td>\n",
       "      <td>395381</td>\n",
       "      <td>240149</td>\n",
       "      <td>155232</td>\n",
       "    </tr>\n",
       "    <tr>\n",
       "      <th>29</th>\n",
       "      <td>34~39세</td>\n",
       "      <td>394836</td>\n",
       "      <td>205390</td>\n",
       "      <td>189446</td>\n",
       "    </tr>\n",
       "    <tr>\n",
       "      <th>30</th>\n",
       "      <td>40~44세</td>\n",
       "      <td>147616</td>\n",
       "      <td>72124</td>\n",
       "      <td>75492</td>\n",
       "    </tr>\n",
       "    <tr>\n",
       "      <th>31</th>\n",
       "      <td>45~49세</td>\n",
       "      <td>75938</td>\n",
       "      <td>36226</td>\n",
       "      <td>39712</td>\n",
       "    </tr>\n",
       "    <tr>\n",
       "      <th>32</th>\n",
       "      <td>50세이상</td>\n",
       "      <td>126568</td>\n",
       "      <td>55132</td>\n",
       "      <td>71436</td>\n",
       "    </tr>\n",
       "  </tbody>\n",
       "</table>\n",
       "</div>"
      ],
      "text/plain": [
       "    신혼부부 특성별(2)     2019  2019.1  2019.2\n",
       "0   신혼부부 특성별(2)       합계  주택 미소유   주택 소유\n",
       "1   신혼부부 특성별(2)       소계      소계      소계\n",
       "2            소계  1260117  702525  557592\n",
       "3        혼인 1년차   236580  158354   78226\n",
       "4        혼인 2년차   247187  149941   97246\n",
       "5        혼인 3년차   247132  137560  109572\n",
       "6        혼인 4년차   261425  132452  128973\n",
       "7        혼인 5년차   267793  124218  143575\n",
       "8         서울특별시   232454  145653   86801\n",
       "9         부산광역시    72403   39908   32495\n",
       "10        대구광역시    54078   28131   25948\n",
       "11        인천광역시    75794   42339   33455\n",
       "12        광주광역시    33878   16090   17788\n",
       "13        대전광역시    35066   20858   14208\n",
       "14        울산광역시    30431   13926   16505\n",
       "15      세종특별자치시    12966    7704    5263\n",
       "16          경기도   356169  206129  150040\n",
       "17          강원도    34928   19464   15464\n",
       "18         충청북도    38744   20284   18460\n",
       "19         충청남도    54280   27326   26954\n",
       "20         전라북도    36082   18175   17907\n",
       "21         전라남도    38275   19039   19237\n",
       "22         경상북도    57670   28537   29133\n",
       "23         경상남도    79222   38899   40323\n",
       "24      제주특별자치도    17682   10066    7616\n",
       "25        19세이하      170     167       X\n",
       "26       20~24세     9413    8719     694\n",
       "27       25~29세   110195   84618   25577\n",
       "28       30~34세   395381  240149  155232\n",
       "29       34~39세   394836  205390  189446\n",
       "30       40~44세   147616   72124   75492\n",
       "31       45~49세    75938   36226   39712\n",
       "32        50세이상   126568   55132   71436"
      ]
     },
     "execution_count": 6,
     "metadata": {
      "tags": []
     },
     "output_type": "execute_result"
    }
   ],
   "source": [
    "df1 = df[['신혼부부 특성별(2)', '2019', '2019.1', '2019.2']]\n",
    "df1"
   ]
  },
  {
   "cell_type": "code",
   "execution_count": 7,
   "metadata": {
    "colab": {
     "base_uri": "https://localhost:8080/",
     "height": 1000
    },
    "executionInfo": {
     "elapsed": 1939,
     "status": "ok",
     "timestamp": 1616564955181,
     "user": {
      "displayName": "사막과 바다 한가운데",
      "photoUrl": "",
      "userId": "15376273703893512404"
     },
     "user_tz": -540
    },
    "id": "W0gyf8dLmprk",
    "outputId": "73881f6f-da20-474f-d95c-14b118f0a119"
   },
   "outputs": [
    {
     "data": {
      "text/html": [
       "<div>\n",
       "<style scoped>\n",
       "    .dataframe tbody tr th:only-of-type {\n",
       "        vertical-align: middle;\n",
       "    }\n",
       "\n",
       "    .dataframe tbody tr th {\n",
       "        vertical-align: top;\n",
       "    }\n",
       "\n",
       "    .dataframe thead th {\n",
       "        text-align: right;\n",
       "    }\n",
       "</style>\n",
       "<table border=\"1\" class=\"dataframe\">\n",
       "  <thead>\n",
       "    <tr style=\"text-align: right;\">\n",
       "      <th></th>\n",
       "      <th>신혼부부</th>\n",
       "      <th>합계</th>\n",
       "      <th>주택 미소유</th>\n",
       "      <th>주택 소유</th>\n",
       "    </tr>\n",
       "  </thead>\n",
       "  <tbody>\n",
       "    <tr>\n",
       "      <th>0</th>\n",
       "      <td>신혼부부 특성별(2)</td>\n",
       "      <td>합계</td>\n",
       "      <td>주택 미소유</td>\n",
       "      <td>주택 소유</td>\n",
       "    </tr>\n",
       "    <tr>\n",
       "      <th>1</th>\n",
       "      <td>신혼부부 특성별(2)</td>\n",
       "      <td>소계</td>\n",
       "      <td>소계</td>\n",
       "      <td>소계</td>\n",
       "    </tr>\n",
       "    <tr>\n",
       "      <th>2</th>\n",
       "      <td>소계</td>\n",
       "      <td>1260117</td>\n",
       "      <td>702525</td>\n",
       "      <td>557592</td>\n",
       "    </tr>\n",
       "    <tr>\n",
       "      <th>3</th>\n",
       "      <td>혼인 1년차</td>\n",
       "      <td>236580</td>\n",
       "      <td>158354</td>\n",
       "      <td>78226</td>\n",
       "    </tr>\n",
       "    <tr>\n",
       "      <th>4</th>\n",
       "      <td>혼인 2년차</td>\n",
       "      <td>247187</td>\n",
       "      <td>149941</td>\n",
       "      <td>97246</td>\n",
       "    </tr>\n",
       "    <tr>\n",
       "      <th>5</th>\n",
       "      <td>혼인 3년차</td>\n",
       "      <td>247132</td>\n",
       "      <td>137560</td>\n",
       "      <td>109572</td>\n",
       "    </tr>\n",
       "    <tr>\n",
       "      <th>6</th>\n",
       "      <td>혼인 4년차</td>\n",
       "      <td>261425</td>\n",
       "      <td>132452</td>\n",
       "      <td>128973</td>\n",
       "    </tr>\n",
       "    <tr>\n",
       "      <th>7</th>\n",
       "      <td>혼인 5년차</td>\n",
       "      <td>267793</td>\n",
       "      <td>124218</td>\n",
       "      <td>143575</td>\n",
       "    </tr>\n",
       "    <tr>\n",
       "      <th>8</th>\n",
       "      <td>서울특별시</td>\n",
       "      <td>232454</td>\n",
       "      <td>145653</td>\n",
       "      <td>86801</td>\n",
       "    </tr>\n",
       "    <tr>\n",
       "      <th>9</th>\n",
       "      <td>부산광역시</td>\n",
       "      <td>72403</td>\n",
       "      <td>39908</td>\n",
       "      <td>32495</td>\n",
       "    </tr>\n",
       "    <tr>\n",
       "      <th>10</th>\n",
       "      <td>대구광역시</td>\n",
       "      <td>54078</td>\n",
       "      <td>28131</td>\n",
       "      <td>25948</td>\n",
       "    </tr>\n",
       "    <tr>\n",
       "      <th>11</th>\n",
       "      <td>인천광역시</td>\n",
       "      <td>75794</td>\n",
       "      <td>42339</td>\n",
       "      <td>33455</td>\n",
       "    </tr>\n",
       "    <tr>\n",
       "      <th>12</th>\n",
       "      <td>광주광역시</td>\n",
       "      <td>33878</td>\n",
       "      <td>16090</td>\n",
       "      <td>17788</td>\n",
       "    </tr>\n",
       "    <tr>\n",
       "      <th>13</th>\n",
       "      <td>대전광역시</td>\n",
       "      <td>35066</td>\n",
       "      <td>20858</td>\n",
       "      <td>14208</td>\n",
       "    </tr>\n",
       "    <tr>\n",
       "      <th>14</th>\n",
       "      <td>울산광역시</td>\n",
       "      <td>30431</td>\n",
       "      <td>13926</td>\n",
       "      <td>16505</td>\n",
       "    </tr>\n",
       "    <tr>\n",
       "      <th>15</th>\n",
       "      <td>세종특별자치시</td>\n",
       "      <td>12966</td>\n",
       "      <td>7704</td>\n",
       "      <td>5263</td>\n",
       "    </tr>\n",
       "    <tr>\n",
       "      <th>16</th>\n",
       "      <td>경기도</td>\n",
       "      <td>356169</td>\n",
       "      <td>206129</td>\n",
       "      <td>150040</td>\n",
       "    </tr>\n",
       "    <tr>\n",
       "      <th>17</th>\n",
       "      <td>강원도</td>\n",
       "      <td>34928</td>\n",
       "      <td>19464</td>\n",
       "      <td>15464</td>\n",
       "    </tr>\n",
       "    <tr>\n",
       "      <th>18</th>\n",
       "      <td>충청북도</td>\n",
       "      <td>38744</td>\n",
       "      <td>20284</td>\n",
       "      <td>18460</td>\n",
       "    </tr>\n",
       "    <tr>\n",
       "      <th>19</th>\n",
       "      <td>충청남도</td>\n",
       "      <td>54280</td>\n",
       "      <td>27326</td>\n",
       "      <td>26954</td>\n",
       "    </tr>\n",
       "    <tr>\n",
       "      <th>20</th>\n",
       "      <td>전라북도</td>\n",
       "      <td>36082</td>\n",
       "      <td>18175</td>\n",
       "      <td>17907</td>\n",
       "    </tr>\n",
       "    <tr>\n",
       "      <th>21</th>\n",
       "      <td>전라남도</td>\n",
       "      <td>38275</td>\n",
       "      <td>19039</td>\n",
       "      <td>19237</td>\n",
       "    </tr>\n",
       "    <tr>\n",
       "      <th>22</th>\n",
       "      <td>경상북도</td>\n",
       "      <td>57670</td>\n",
       "      <td>28537</td>\n",
       "      <td>29133</td>\n",
       "    </tr>\n",
       "    <tr>\n",
       "      <th>23</th>\n",
       "      <td>경상남도</td>\n",
       "      <td>79222</td>\n",
       "      <td>38899</td>\n",
       "      <td>40323</td>\n",
       "    </tr>\n",
       "    <tr>\n",
       "      <th>24</th>\n",
       "      <td>제주특별자치도</td>\n",
       "      <td>17682</td>\n",
       "      <td>10066</td>\n",
       "      <td>7616</td>\n",
       "    </tr>\n",
       "    <tr>\n",
       "      <th>25</th>\n",
       "      <td>19세이하</td>\n",
       "      <td>170</td>\n",
       "      <td>167</td>\n",
       "      <td>X</td>\n",
       "    </tr>\n",
       "    <tr>\n",
       "      <th>26</th>\n",
       "      <td>20~24세</td>\n",
       "      <td>9413</td>\n",
       "      <td>8719</td>\n",
       "      <td>694</td>\n",
       "    </tr>\n",
       "    <tr>\n",
       "      <th>27</th>\n",
       "      <td>25~29세</td>\n",
       "      <td>110195</td>\n",
       "      <td>84618</td>\n",
       "      <td>25577</td>\n",
       "    </tr>\n",
       "    <tr>\n",
       "      <th>28</th>\n",
       "      <td>30~34세</td>\n",
       "      <td>395381</td>\n",
       "      <td>240149</td>\n",
       "      <td>155232</td>\n",
       "    </tr>\n",
       "    <tr>\n",
       "      <th>29</th>\n",
       "      <td>34~39세</td>\n",
       "      <td>394836</td>\n",
       "      <td>205390</td>\n",
       "      <td>189446</td>\n",
       "    </tr>\n",
       "    <tr>\n",
       "      <th>30</th>\n",
       "      <td>40~44세</td>\n",
       "      <td>147616</td>\n",
       "      <td>72124</td>\n",
       "      <td>75492</td>\n",
       "    </tr>\n",
       "    <tr>\n",
       "      <th>31</th>\n",
       "      <td>45~49세</td>\n",
       "      <td>75938</td>\n",
       "      <td>36226</td>\n",
       "      <td>39712</td>\n",
       "    </tr>\n",
       "    <tr>\n",
       "      <th>32</th>\n",
       "      <td>50세이상</td>\n",
       "      <td>126568</td>\n",
       "      <td>55132</td>\n",
       "      <td>71436</td>\n",
       "    </tr>\n",
       "  </tbody>\n",
       "</table>\n",
       "</div>"
      ],
      "text/plain": [
       "           신혼부부       합계  주택 미소유   주택 소유\n",
       "0   신혼부부 특성별(2)       합계  주택 미소유   주택 소유\n",
       "1   신혼부부 특성별(2)       소계      소계      소계\n",
       "2            소계  1260117  702525  557592\n",
       "3        혼인 1년차   236580  158354   78226\n",
       "4        혼인 2년차   247187  149941   97246\n",
       "5        혼인 3년차   247132  137560  109572\n",
       "6        혼인 4년차   261425  132452  128973\n",
       "7        혼인 5년차   267793  124218  143575\n",
       "8         서울특별시   232454  145653   86801\n",
       "9         부산광역시    72403   39908   32495\n",
       "10        대구광역시    54078   28131   25948\n",
       "11        인천광역시    75794   42339   33455\n",
       "12        광주광역시    33878   16090   17788\n",
       "13        대전광역시    35066   20858   14208\n",
       "14        울산광역시    30431   13926   16505\n",
       "15      세종특별자치시    12966    7704    5263\n",
       "16          경기도   356169  206129  150040\n",
       "17          강원도    34928   19464   15464\n",
       "18         충청북도    38744   20284   18460\n",
       "19         충청남도    54280   27326   26954\n",
       "20         전라북도    36082   18175   17907\n",
       "21         전라남도    38275   19039   19237\n",
       "22         경상북도    57670   28537   29133\n",
       "23         경상남도    79222   38899   40323\n",
       "24      제주특별자치도    17682   10066    7616\n",
       "25        19세이하      170     167       X\n",
       "26       20~24세     9413    8719     694\n",
       "27       25~29세   110195   84618   25577\n",
       "28       30~34세   395381  240149  155232\n",
       "29       34~39세   394836  205390  189446\n",
       "30       40~44세   147616   72124   75492\n",
       "31       45~49세    75938   36226   39712\n",
       "32        50세이상   126568   55132   71436"
      ]
     },
     "execution_count": 7,
     "metadata": {
      "tags": []
     },
     "output_type": "execute_result"
    }
   ],
   "source": [
    "df1.columns = ['신혼부부', '합계', '주택 미소유', '주택 소유']\n",
    "df1"
   ]
  },
  {
   "cell_type": "code",
   "execution_count": 8,
   "metadata": {
    "colab": {
     "base_uri": "https://localhost:8080/",
     "height": 79
    },
    "executionInfo": {
     "elapsed": 1933,
     "status": "ok",
     "timestamp": 1616564955184,
     "user": {
      "displayName": "사막과 바다 한가운데",
      "photoUrl": "",
      "userId": "15376273703893512404"
     },
     "user_tz": -540
    },
    "id": "wCvbfhu1oFKA",
    "outputId": "d06d92ba-b4f7-4cae-cb37-01c2f6df2e73"
   },
   "outputs": [
    {
     "data": {
      "text/html": [
       "<div>\n",
       "<style scoped>\n",
       "    .dataframe tbody tr th:only-of-type {\n",
       "        vertical-align: middle;\n",
       "    }\n",
       "\n",
       "    .dataframe tbody tr th {\n",
       "        vertical-align: top;\n",
       "    }\n",
       "\n",
       "    .dataframe thead th {\n",
       "        text-align: right;\n",
       "    }\n",
       "</style>\n",
       "<table border=\"1\" class=\"dataframe\">\n",
       "  <thead>\n",
       "    <tr style=\"text-align: right;\">\n",
       "      <th></th>\n",
       "      <th>신혼부부</th>\n",
       "      <th>합계</th>\n",
       "      <th>주택 미소유</th>\n",
       "      <th>주택 소유</th>\n",
       "    </tr>\n",
       "  </thead>\n",
       "  <tbody>\n",
       "    <tr>\n",
       "      <th>15</th>\n",
       "      <td>세종특별자치시</td>\n",
       "      <td>12966</td>\n",
       "      <td>7704</td>\n",
       "      <td>5263</td>\n",
       "    </tr>\n",
       "  </tbody>\n",
       "</table>\n",
       "</div>"
      ],
      "text/plain": [
       "       신혼부부     합계 주택 미소유 주택 소유\n",
       "15  세종특별자치시  12966   7704  5263"
      ]
     },
     "execution_count": 8,
     "metadata": {
      "tags": []
     },
     "output_type": "execute_result"
    }
   ],
   "source": [
    "df2 = df1[15:16]\n",
    "df2"
   ]
  },
  {
   "cell_type": "code",
   "execution_count": 9,
   "metadata": {
    "colab": {
     "base_uri": "https://localhost:8080/"
    },
    "executionInfo": {
     "elapsed": 1928,
     "status": "ok",
     "timestamp": 1616564955186,
     "user": {
      "displayName": "사막과 바다 한가운데",
      "photoUrl": "",
      "userId": "15376273703893512404"
     },
     "user_tz": -540
    },
    "id": "U9CyT4mTqY2e",
    "outputId": "a11a956d-889f-44ea-8cd6-0e0a4899f000"
   },
   "outputs": [
    {
     "name": "stdout",
     "output_type": "stream",
     "text": [
      "<class 'pandas.core.frame.DataFrame'>\n",
      "RangeIndex: 1 entries, 15 to 15\n",
      "Data columns (total 4 columns):\n",
      " #   Column  Non-Null Count  Dtype \n",
      "---  ------  --------------  ----- \n",
      " 0   신혼부부    1 non-null      object\n",
      " 1   합계      1 non-null      int64 \n",
      " 2   주택 미소유  1 non-null      int64 \n",
      " 3   주택 소유   1 non-null      int64 \n",
      "dtypes: int64(3), object(1)\n",
      "memory usage: 164.0+ bytes\n"
     ]
    },
    {
     "name": "stderr",
     "output_type": "stream",
     "text": [
      "/usr/local/lib/python3.7/dist-packages/pandas/core/frame.py:3069: SettingWithCopyWarning: \n",
      "A value is trying to be set on a copy of a slice from a DataFrame.\n",
      "Try using .loc[row_indexer,col_indexer] = value instead\n",
      "\n",
      "See the caveats in the documentation: https://pandas.pydata.org/pandas-docs/stable/user_guide/indexing.html#returning-a-view-versus-a-copy\n",
      "  self[k1] = value[k2]\n"
     ]
    }
   ],
   "source": [
    "df2[['합계', '주택 미소유', '주택 소유']] = df2[['합계', '주택 미소유', '주택 소유']].apply(pd.to_numeric)\n",
    "df2.info()"
   ]
  },
  {
   "cell_type": "code",
   "execution_count": 10,
   "metadata": {
    "colab": {
     "base_uri": "https://localhost:8080/",
     "height": 211
    },
    "executionInfo": {
     "elapsed": 2259,
     "status": "ok",
     "timestamp": 1616564955525,
     "user": {
      "displayName": "사막과 바다 한가운데",
      "photoUrl": "",
      "userId": "15376273703893512404"
     },
     "user_tz": -540
    },
    "id": "7wBmhlAipDe2",
    "outputId": "a3cd9e00-a476-4930-eda0-56a91008d182"
   },
   "outputs": [
    {
     "name": "stderr",
     "output_type": "stream",
     "text": [
      "/usr/local/lib/python3.7/dist-packages/pandas/core/frame.py:3069: SettingWithCopyWarning: \n",
      "A value is trying to be set on a copy of a slice from a DataFrame.\n",
      "Try using .loc[row_indexer,col_indexer] = value instead\n",
      "\n",
      "See the caveats in the documentation: https://pandas.pydata.org/pandas-docs/stable/user_guide/indexing.html#returning-a-view-versus-a-copy\n",
      "  self[k1] = value[k2]\n"
     ]
    },
    {
     "data": {
      "text/html": [
       "<div>\n",
       "<style scoped>\n",
       "    .dataframe tbody tr th:only-of-type {\n",
       "        vertical-align: middle;\n",
       "    }\n",
       "\n",
       "    .dataframe tbody tr th {\n",
       "        vertical-align: top;\n",
       "    }\n",
       "\n",
       "    .dataframe thead th {\n",
       "        text-align: right;\n",
       "    }\n",
       "</style>\n",
       "<table border=\"1\" class=\"dataframe\">\n",
       "  <thead>\n",
       "    <tr style=\"text-align: right;\">\n",
       "      <th></th>\n",
       "      <th>신혼부부</th>\n",
       "      <th>합계</th>\n",
       "      <th>주택 미소유</th>\n",
       "      <th>주택 소유</th>\n",
       "      <th>주택 미소유(%)</th>\n",
       "      <th>주택 소유(%)</th>\n",
       "    </tr>\n",
       "  </thead>\n",
       "  <tbody>\n",
       "    <tr>\n",
       "      <th>15</th>\n",
       "      <td>세종특별자치시</td>\n",
       "      <td>12966</td>\n",
       "      <td>7704</td>\n",
       "      <td>5263</td>\n",
       "      <td>59.416937</td>\n",
       "      <td>40.590776</td>\n",
       "    </tr>\n",
       "  </tbody>\n",
       "</table>\n",
       "</div>"
      ],
      "text/plain": [
       "       신혼부부     합계  주택 미소유  주택 소유  주택 미소유(%)   주택 소유(%)\n",
       "15  세종특별자치시  12966    7704   5263  59.416937  40.590776"
      ]
     },
     "execution_count": 10,
     "metadata": {
      "tags": []
     },
     "output_type": "execute_result"
    }
   ],
   "source": [
    "df2[['주택 미소유(%)', '주택 소유(%)']] = df2[['주택 미소유','주택 소유']].apply(lambda x : (x/df2['합계'])*100)\n",
    "df2"
   ]
  },
  {
   "cell_type": "code",
   "execution_count": 11,
   "metadata": {
    "colab": {
     "base_uri": "https://localhost:8080/",
     "height": 79
    },
    "executionInfo": {
     "elapsed": 2253,
     "status": "ok",
     "timestamp": 1616564955527,
     "user": {
      "displayName": "사막과 바다 한가운데",
      "photoUrl": "",
      "userId": "15376273703893512404"
     },
     "user_tz": -540
    },
    "id": "1bxkfmJsq8Sr",
    "outputId": "2f7fe6f9-9b5f-476c-b2d0-e7adb24481e6"
   },
   "outputs": [
    {
     "data": {
      "text/html": [
       "<div>\n",
       "<style scoped>\n",
       "    .dataframe tbody tr th:only-of-type {\n",
       "        vertical-align: middle;\n",
       "    }\n",
       "\n",
       "    .dataframe tbody tr th {\n",
       "        vertical-align: top;\n",
       "    }\n",
       "\n",
       "    .dataframe thead th {\n",
       "        text-align: right;\n",
       "    }\n",
       "</style>\n",
       "<table border=\"1\" class=\"dataframe\">\n",
       "  <thead>\n",
       "    <tr style=\"text-align: right;\">\n",
       "      <th></th>\n",
       "      <th>주택 미소유(%)</th>\n",
       "      <th>주택 소유(%)</th>\n",
       "    </tr>\n",
       "  </thead>\n",
       "  <tbody>\n",
       "    <tr>\n",
       "      <th>15</th>\n",
       "      <td>59.416937</td>\n",
       "      <td>40.590776</td>\n",
       "    </tr>\n",
       "  </tbody>\n",
       "</table>\n",
       "</div>"
      ],
      "text/plain": [
       "    주택 미소유(%)   주택 소유(%)\n",
       "15  59.416937  40.590776"
      ]
     },
     "execution_count": 11,
     "metadata": {
      "tags": []
     },
     "output_type": "execute_result"
    }
   ],
   "source": [
    "df_cp = df2[['주택 미소유(%)', '주택 소유(%)']]\n",
    "df_cp"
   ]
  },
  {
   "cell_type": "code",
   "execution_count": 21,
   "metadata": {
    "colab": {
     "base_uri": "https://localhost:8080/",
     "height": 585
    },
    "executionInfo": {
     "elapsed": 849,
     "status": "ok",
     "timestamp": 1616565190543,
     "user": {
      "displayName": "사막과 바다 한가운데",
      "photoUrl": "",
      "userId": "15376273703893512404"
     },
     "user_tz": -540
    },
    "id": "bWAQI0Y8slAt",
    "outputId": "78aa8a17-794e-4af9-a888-e7427c80f7a7"
   },
   "outputs": [
    {
     "name": "stderr",
     "output_type": "stream",
     "text": [
      "/usr/local/lib/python3.7/dist-packages/ipykernel_launcher.py:8: MatplotlibDeprecationWarning: Non-1D inputs to pie() are currently squeeze()d, but this behavior is deprecated since 3.1 and will be removed in 3.3; pass a 1D array instead.\n",
      "  \n"
     ]
    },
    {
     "data": {
      "image/png": "[encoded data removed]",
      "text/plain": [
       "<Figure size 504x504 with 1 Axes>"
      ]
     },
     "metadata": {
      "tags": []
     },
     "output_type": "display_data"
    }
   ],
   "source": [
    "# Data to plot\n",
    "labels = ['주택 미소유(%)','주택 소유(%)']\n",
    "sizes = df_cp.values\n",
    "colors = ['#c2c2f0','#ffb3e6']\n",
    " \n",
    "# Plot\n",
    "plt.subplots(figsize=(7, 7))\n",
    "plt.pie(sizes, labels=labels, colors=colors, radius=0.95, startangle=90, autopct='%.2f%%', pctdistance=0.75)\n",
    "centre_circle = plt.Circle((0,0),0.5,color='black', fc='white',linewidth=0)\n",
    "fig = plt.gcf()\n",
    "fig.gca().add_artist(centre_circle)\n",
    " \n",
    "plt.axis('equal')\n",
    "plt.tight_layout()\n",
    "plt.title('세종시 신혼부부 주택 소유 비율')\n",
    "plt.show()"
   ]
  },
  {
   "cell_type": "code",
   "execution_count": 12,
   "metadata": {
    "executionInfo": {
     "elapsed": 2248,
     "status": "ok",
     "timestamp": 1616564955534,
     "user": {
      "displayName": "사막과 바다 한가운데",
      "photoUrl": "",
      "userId": "15376273703893512404"
     },
     "user_tz": -540
    },
    "id": "CJA6R1VuwU_A"
   },
   "outputs": [],
   "source": [
    ""
   ]
  }
 ],
 "metadata": {
  "colab": {
   "authorship_tag": "ABX9TyMH80KOViQSPOuQrkBH1saS",
   "collapsed_sections": [],
   "mount_file_id": "1kGEfXVdO-Vo1RcRqn4N6gZdl0MJpZTnv",
   "name": "세종_신혼부부 주택 소유 비율ipynb",
   "provenance": []
  },
  "kernelspec": {
   "display_name": "Python 3",
   "name": "python3"
  },
  "language_info": {
   "name": "python"
  }
 },
 "nbformat": 4,
 "nbformat_minor": 0
}
